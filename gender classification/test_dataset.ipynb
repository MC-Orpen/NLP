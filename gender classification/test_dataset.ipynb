{
 "cells": [
  {
   "cell_type": "markdown",
   "metadata": {},
   "source": [
    "# Assignment : Eastenders Gender Identification \n",
    "\n",
    "## Contents:\n",
    "**Section 1:** Load data and packages\n",
    "\n",
    "**Section 2:** Data preprocessing\n",
    "\n",
    "**Section 3:** Data exploration\n",
    "\n",
    "**Section 4:** Splitting data\n",
    "\n",
    "**Section 5:** Model testing and analysis\n"
   ]
  },
  {
   "cell_type": "markdown",
   "metadata": {},
   "source": [
    "## Section 1: Loading data and packages"
   ]
  },
  {
   "cell_type": "code",
   "execution_count": 1,
   "metadata": {},
   "outputs": [],
   "source": [
    "# Loading packages \n",
    "import csv\n",
    "import numpy as np\n",
    "import pandas as pd\n",
    "import matplotlib.pyplot as plt\n",
    "import spacy\n",
    "\n",
    "import collections\n",
    "import json\n",
    "import seaborn as sns\n",
    "import wordcloud\n",
    "\n",
    "import re\n",
    "import nltk\n",
    "\n",
    "from nltk.corpus import stopwords\n",
    "from nltk.tokenize import word_tokenize, WordPunctTokenizer\n",
    "from nltk.util import ngrams\n",
    "from nltk.stem.wordnet import WordNetLemmatizer\n",
    "from nltk.stem.porter import PorterStemmer\n",
    "from textblob import TextBlob\n",
    "\n",
    "from sklearn import feature_extraction, manifold\n",
    "import gensim\n",
    "import gensim.downloader as gensim_api\n",
    "\n",
    "from sklearn.feature_extraction.text import CountVectorizer\n",
    "from sklearn.model_selection import train_test_split, cross_val_score,GridSearchCV\n",
    "\n",
    "from sklearn.linear_model import LogisticRegression\n",
    "from sklearn.svm import LinearSVC\n",
    "from sklearn.naive_bayes import ComplementNB, MultinomialNB\n",
    "from sklearn.metrics import f1_score, accuracy_score, confusion_matrix, classification_report"
   ]
  },
  {
   "cell_type": "code",
   "execution_count": 2,
   "metadata": {},
   "outputs": [
    {
     "data": {
      "text/plain": [
       "[('Kicked you out?', 'STACEY', 'female'),\n",
       " ('Meaning?', 'RONNIE', 'female'),\n",
       " ('Wish I could do more.', 'STEVEN', 'male')]"
      ]
     },
     "execution_count": 2,
     "metadata": {},
     "output_type": "execute_result"
    }
   ],
   "source": [
    "# loading data \n",
    "training_data = []\n",
    "test_data = []\n",
    "\n",
    "def load_data(path, data_name):\n",
    "    with open(path) as f:\n",
    "        reader = csv.reader(f, delimiter=',')\n",
    "        for line in reader:\n",
    "            (line, character, gender) = (line[0], line[1], line[2])\n",
    "            data_name.append((line, character, gender))\n",
    "\n",
    "# file paths\n",
    "train_file_path = \"training.csv\"\n",
    "test_file_path = \"test.csv\"\n",
    "\n",
    "# sample of the training data\n",
    "load_data(train_file_path, training_data)\n",
    "load_data(test_file_path, test_data)\n",
    "\n",
    "test_data[:3]"
   ]
  },
  {
   "cell_type": "code",
   "execution_count": null,
   "metadata": {},
   "outputs": [],
   "source": []
  },
  {
   "cell_type": "code",
   "execution_count": 3,
   "metadata": {},
   "outputs": [
    {
     "data": {
      "text/html": [
       "<div>\n",
       "<style scoped>\n",
       "    .dataframe tbody tr th:only-of-type {\n",
       "        vertical-align: middle;\n",
       "    }\n",
       "\n",
       "    .dataframe tbody tr th {\n",
       "        vertical-align: top;\n",
       "    }\n",
       "\n",
       "    .dataframe thead th {\n",
       "        text-align: right;\n",
       "    }\n",
       "</style>\n",
       "<table border=\"1\" class=\"dataframe\">\n",
       "  <thead>\n",
       "    <tr style=\"text-align: right;\">\n",
       "      <th></th>\n",
       "      <th>TEXT</th>\n",
       "      <th>gender</th>\n",
       "    </tr>\n",
       "  </thead>\n",
       "  <tbody>\n",
       "    <tr>\n",
       "      <th>0</th>\n",
       "      <td>Kicked you out?</td>\n",
       "      <td>1</td>\n",
       "    </tr>\n",
       "    <tr>\n",
       "      <th>1</th>\n",
       "      <td>Meaning?</td>\n",
       "      <td>1</td>\n",
       "    </tr>\n",
       "    <tr>\n",
       "      <th>2</th>\n",
       "      <td>Wish I could do more.</td>\n",
       "      <td>0</td>\n",
       "    </tr>\n",
       "    <tr>\n",
       "      <th>3</th>\n",
       "      <td>What? Not you. Hang on. Pellets are in the cup...</td>\n",
       "      <td>1</td>\n",
       "    </tr>\n",
       "    <tr>\n",
       "      <th>4</th>\n",
       "      <td>Yeah, he's not well. What? You don't believe m...</td>\n",
       "      <td>1</td>\n",
       "    </tr>\n",
       "  </tbody>\n",
       "</table>\n",
       "</div>"
      ],
      "text/plain": [
       "                                                TEXT  gender\n",
       "0                                    Kicked you out?       1\n",
       "1                                           Meaning?       1\n",
       "2                              Wish I could do more.       0\n",
       "3  What? Not you. Hang on. Pellets are in the cup...       1\n",
       "4  Yeah, he's not well. What? You don't believe m...       1"
      ]
     },
     "execution_count": 3,
     "metadata": {},
     "output_type": "execute_result"
    }
   ],
   "source": [
    "# creating dataframes\n",
    "training_df = pd.DataFrame.from_records(training_data)\n",
    "test_df = pd.DataFrame.from_records(test_data)\n",
    "\n",
    "training_df.columns = ['TEXT', 'name', 'gender']\n",
    "test_df.columns = ['TEXT', 'name', 'gender']\n",
    "\n",
    "\n",
    "# dropping the 'name' feature\n",
    "training_df = training_df.drop('name', axis=1)\n",
    "training_df['gender'] = training_df['gender'].replace({'male': 0, 'female':1})\n",
    "\n",
    "\n",
    "test_df = test_df.drop('name', axis=1)\n",
    "test_df['gender'] = test_df['gender'].replace({'male': 0, 'female':1})\n",
    "test_df.head()"
   ]
  },
  {
   "cell_type": "markdown",
   "metadata": {},
   "source": [
    "## Section 2: Data preprocessing\n",
    "\n",
    "A function with various preprocessing methods was created. This allows for experiementing with various features to find the optimal combination.\n",
    "\n",
    "The preprocessing features included the following:\n",
    " - Removal of punctuation and capital letters\n",
    " - Stopword removal\n",
    " - Lemmatisation of text\n",
    " - Stemming of text"
   ]
  },
  {
   "cell_type": "code",
   "execution_count": 4,
   "metadata": {},
   "outputs": [],
   "source": [
    "# initialising stopwords and NER\n",
    "en_stopwords = stopwords.words(\"english\")\n",
    "ner = spacy.load(\"en_core_web_sm\")\n",
    "\n",
    "def pre_process(text, punc=False, stem=False, lemm=False,\n",
    "                stopwords=False, norm=False, NER=False, \n",
    "                POS=False, sentiment=False):\n",
    "\n",
    "\n",
    "    tokens = word_tokenize(text)\n",
    "\n",
    "    # puncuation removal\n",
    "    if punc is True:\n",
    "        joined_text = ' '.join(tokens)\n",
    "        no_punc_text = re.sub(r'[^\\w\\s]', ' ', joined_text)\n",
    "        tokens = no_punc_text.split()\n",
    "        \n",
    "    # normalise words\n",
    "    if norm is True:\n",
    "        tokens = [word.lower() for word in tokens]\n",
    "    \n",
    "    # copy of preprocessed normalised tokens without stemming, lemmatisation or stopword removal\n",
    "    pre_norm_tokens = tokens.copy()\n",
    "    \n",
    "    # stopword removal\n",
    "    if stopwords:\n",
    "        tokens = [word for word in tokens if word not in en_stopwords]\n",
    "    \n",
    "    # lemmatiser\n",
    "    if lemm:\n",
    "        lemmat = WordNetLemmatizer()\n",
    "        tokens = [lemmat.lemmatize(word) for word in tokens]\n",
    "\n",
    "     # stemming\n",
    "    if stem:\n",
    "        stemmer = PorterStemmer()\n",
    "        tokens = [stemmer.stem(word) for word in tokens]\n",
    "        \n",
    "    text = ' '.join(tokens)\n",
    "    return text"
   ]
  },
  {
   "cell_type": "markdown",
   "metadata": {},
   "source": [
    "#### Examples of preprocess function \n"
   ]
  },
  {
   "cell_type": "code",
   "execution_count": 5,
   "metadata": {},
   "outputs": [
    {
     "name": "stdout",
     "output_type": "stream",
     "text": [
      "What? Not you. Hang on. Pellets are in the cupboard.\n",
      "what not you hang on pellets are in the cupboard\n",
      "what ? not you . hang on . pellet are in the cupboard .\n"
     ]
    }
   ],
   "source": [
    "print(test_data[3][0])\n",
    "print(pre_process(test_data[3][0], punc=True, norm=True))\n",
    "print(pre_process(test_data[3][0], stem=True))"
   ]
  },
  {
   "cell_type": "markdown",
   "metadata": {},
   "source": [
    "The punctuation in the text is removed and converted to lowercase in the column `clean_text`. The column `preprocessed_text` contains preprocessed text removing stopwords and other preprocessing features."
   ]
  },
  {
   "cell_type": "code",
   "execution_count": 6,
   "metadata": {},
   "outputs": [
    {
     "data": {
      "text/html": [
       "<div>\n",
       "<style scoped>\n",
       "    .dataframe tbody tr th:only-of-type {\n",
       "        vertical-align: middle;\n",
       "    }\n",
       "\n",
       "    .dataframe tbody tr th {\n",
       "        vertical-align: top;\n",
       "    }\n",
       "\n",
       "    .dataframe thead th {\n",
       "        text-align: right;\n",
       "    }\n",
       "</style>\n",
       "<table border=\"1\" class=\"dataframe\">\n",
       "  <thead>\n",
       "    <tr style=\"text-align: right;\">\n",
       "      <th></th>\n",
       "      <th>TEXT</th>\n",
       "      <th>gender</th>\n",
       "      <th>clean_text</th>\n",
       "      <th>preprocessed_text</th>\n",
       "    </tr>\n",
       "  </thead>\n",
       "  <tbody>\n",
       "    <tr>\n",
       "      <th>0</th>\n",
       "      <td>Kicked you out?</td>\n",
       "      <td>1</td>\n",
       "      <td>kicked you out</td>\n",
       "      <td>kicked</td>\n",
       "    </tr>\n",
       "    <tr>\n",
       "      <th>1</th>\n",
       "      <td>Meaning?</td>\n",
       "      <td>1</td>\n",
       "      <td>meaning</td>\n",
       "      <td>meaning</td>\n",
       "    </tr>\n",
       "    <tr>\n",
       "      <th>2</th>\n",
       "      <td>Wish I could do more.</td>\n",
       "      <td>0</td>\n",
       "      <td>wish i could do more</td>\n",
       "      <td>wish could</td>\n",
       "    </tr>\n",
       "    <tr>\n",
       "      <th>3</th>\n",
       "      <td>What? Not you. Hang on. Pellets are in the cup...</td>\n",
       "      <td>1</td>\n",
       "      <td>what not you hang on pellets are in the cupboard</td>\n",
       "      <td>hang pellet cupboard</td>\n",
       "    </tr>\n",
       "    <tr>\n",
       "      <th>4</th>\n",
       "      <td>Yeah, he's not well. What? You don't believe m...</td>\n",
       "      <td>1</td>\n",
       "      <td>yeah he s not well what you do n t believe me ...</td>\n",
       "      <td>yeah well n believe pop slip bed like old time...</td>\n",
       "    </tr>\n",
       "  </tbody>\n",
       "</table>\n",
       "</div>"
      ],
      "text/plain": [
       "                                                TEXT  gender  \\\n",
       "0                                    Kicked you out?       1   \n",
       "1                                           Meaning?       1   \n",
       "2                              Wish I could do more.       0   \n",
       "3  What? Not you. Hang on. Pellets are in the cup...       1   \n",
       "4  Yeah, he's not well. What? You don't believe m...       1   \n",
       "\n",
       "                                          clean_text  \\\n",
       "0                                     kicked you out   \n",
       "1                                            meaning   \n",
       "2                               wish i could do more   \n",
       "3   what not you hang on pellets are in the cupboard   \n",
       "4  yeah he s not well what you do n t believe me ...   \n",
       "\n",
       "                                   preprocessed_text  \n",
       "0                                             kicked  \n",
       "1                                            meaning  \n",
       "2                                         wish could  \n",
       "3                               hang pellet cupboard  \n",
       "4  yeah well n believe pop slip bed like old time...  "
      ]
     },
     "execution_count": 6,
     "metadata": {},
     "output_type": "execute_result"
    }
   ],
   "source": [
    "\n",
    "training_df['clean_text']= training_df['TEXT'].apply(lambda x: pre_process(x, punc=True,norm=True))\n",
    "training_df['preprocessed_text']= training_df['TEXT'].apply(lambda x: \n",
    "                                               pre_process(x, lemm=True, norm=True, punc=True,\n",
    "                                                          stopwords=True))\n",
    "test_df['clean_text']= test_df['TEXT'].apply(lambda x: pre_process(x, punc=True,norm=True))\n",
    "test_df['preprocessed_text']= test_df['TEXT'].apply(lambda x: \n",
    "                                               pre_process(x, lemm=True, norm=True, punc=True,\n",
    "                                                          stopwords=True))\n",
    "test_df.head()"
   ]
  },
  {
   "cell_type": "markdown",
   "metadata": {},
   "source": [
    "## Section 3: Data exploration\n",
    "\n",
    "Structural characteristics and dimensions of the text were evaluated as features for the model. The features that were considered were:\n",
    "- Word count\n",
    "- Character count\n",
    "- Average word length"
   ]
  },
  {
   "cell_type": "markdown",
   "metadata": {},
   "source": [
    "###### Sentence feature analysis \n",
    "\n",
    "The relationship between gender and the word count was investigated."
   ]
  },
  {
   "cell_type": "code",
   "execution_count": 7,
   "metadata": {},
   "outputs": [
    {
     "data": {
      "text/html": [
       "<div>\n",
       "<style scoped>\n",
       "    .dataframe tbody tr th:only-of-type {\n",
       "        vertical-align: middle;\n",
       "    }\n",
       "\n",
       "    .dataframe tbody tr th {\n",
       "        vertical-align: top;\n",
       "    }\n",
       "\n",
       "    .dataframe thead th {\n",
       "        text-align: right;\n",
       "    }\n",
       "</style>\n",
       "<table border=\"1\" class=\"dataframe\">\n",
       "  <thead>\n",
       "    <tr style=\"text-align: right;\">\n",
       "      <th></th>\n",
       "      <th>TEXT</th>\n",
       "      <th>gender</th>\n",
       "      <th>clean_text</th>\n",
       "      <th>preprocessed_text</th>\n",
       "      <th>word_count</th>\n",
       "      <th>character_count</th>\n",
       "      <th>avg_word_length</th>\n",
       "    </tr>\n",
       "  </thead>\n",
       "  <tbody>\n",
       "    <tr>\n",
       "      <th>0</th>\n",
       "      <td>Kicked you out?</td>\n",
       "      <td>1</td>\n",
       "      <td>kicked you out</td>\n",
       "      <td>kicked</td>\n",
       "      <td>3</td>\n",
       "      <td>13</td>\n",
       "      <td>4.333333</td>\n",
       "    </tr>\n",
       "    <tr>\n",
       "      <th>1</th>\n",
       "      <td>Meaning?</td>\n",
       "      <td>1</td>\n",
       "      <td>meaning</td>\n",
       "      <td>meaning</td>\n",
       "      <td>1</td>\n",
       "      <td>8</td>\n",
       "      <td>8.000000</td>\n",
       "    </tr>\n",
       "    <tr>\n",
       "      <th>2</th>\n",
       "      <td>Wish I could do more.</td>\n",
       "      <td>0</td>\n",
       "      <td>wish i could do more</td>\n",
       "      <td>wish could</td>\n",
       "      <td>5</td>\n",
       "      <td>17</td>\n",
       "      <td>3.400000</td>\n",
       "    </tr>\n",
       "    <tr>\n",
       "      <th>3</th>\n",
       "      <td>What? Not you. Hang on. Pellets are in the cup...</td>\n",
       "      <td>1</td>\n",
       "      <td>what not you hang on pellets are in the cupboard</td>\n",
       "      <td>hang pellet cupboard</td>\n",
       "      <td>10</td>\n",
       "      <td>43</td>\n",
       "      <td>4.300000</td>\n",
       "    </tr>\n",
       "    <tr>\n",
       "      <th>4</th>\n",
       "      <td>Yeah, he's not well. What? You don't believe m...</td>\n",
       "      <td>1</td>\n",
       "      <td>yeah he s not well what you do n t believe me ...</td>\n",
       "      <td>yeah well n believe pop slip bed like old time...</td>\n",
       "      <td>22</td>\n",
       "      <td>90</td>\n",
       "      <td>4.090909</td>\n",
       "    </tr>\n",
       "  </tbody>\n",
       "</table>\n",
       "</div>"
      ],
      "text/plain": [
       "                                                TEXT  gender  \\\n",
       "0                                    Kicked you out?       1   \n",
       "1                                           Meaning?       1   \n",
       "2                              Wish I could do more.       0   \n",
       "3  What? Not you. Hang on. Pellets are in the cup...       1   \n",
       "4  Yeah, he's not well. What? You don't believe m...       1   \n",
       "\n",
       "                                          clean_text  \\\n",
       "0                                     kicked you out   \n",
       "1                                            meaning   \n",
       "2                               wish i could do more   \n",
       "3   what not you hang on pellets are in the cupboard   \n",
       "4  yeah he s not well what you do n t believe me ...   \n",
       "\n",
       "                                   preprocessed_text  word_count  \\\n",
       "0                                             kicked           3   \n",
       "1                                            meaning           1   \n",
       "2                                         wish could           5   \n",
       "3                               hang pellet cupboard          10   \n",
       "4  yeah well n believe pop slip bed like old time...          22   \n",
       "\n",
       "   character_count  avg_word_length  \n",
       "0               13         4.333333  \n",
       "1                8         8.000000  \n",
       "2               17         3.400000  \n",
       "3               43         4.300000  \n",
       "4               90         4.090909  "
      ]
     },
     "execution_count": 7,
     "metadata": {},
     "output_type": "execute_result"
    }
   ],
   "source": [
    "training_df['word_count'] = training_df['TEXT'].apply(lambda x: len(x.split(\" \")))\n",
    "training_df['character_count'] = training_df['TEXT'].apply(lambda x: sum(len(word) for word in x.split(' ')))\n",
    "training_df['avg_word_length'] = training_df['character_count']/training_df['word_count']\n",
    "training_df.head()\n",
    "\n",
    "test_df['word_count'] = test_df['TEXT'].apply(lambda x: len(x.split(\" \")))\n",
    "test_df['character_count'] = test_df['TEXT'].apply(lambda x: sum(len(word) for word in x.split(' ')))\n",
    "test_df['avg_word_length'] = test_df['character_count']/test_df['word_count']\n",
    "test_df.head()"
   ]
  },
  {
   "cell_type": "markdown",
   "metadata": {},
   "source": [
    "The below table shows the relationship between gender and features of the text."
   ]
  },
  {
   "cell_type": "code",
   "execution_count": 8,
   "metadata": {},
   "outputs": [],
   "source": [
    "sent_analysis_lst=['word_count', 'character_count', 'avg_word_length']\n",
    "sent_analysis_df = training_df.groupby('gender')[sent_analysis_lst].mean().T\n",
    "sent_analysis_df.columns=['male', 'female']\n",
    "\n",
    "sent_analysis_df1 = test_df.groupby('gender')[sent_analysis_lst].mean().T\n",
    "sent_analysis_df1.columns=['male', 'female']\n"
   ]
  },
  {
   "cell_type": "markdown",
   "metadata": {},
   "source": [
    "###### Sentiment analysis\n",
    "\n",
    "Using the pre-trained model, TextBlob, the sentiment of the text was analysed as a potential feature for the model. The table below shows the averages of the sentiment and subjectivity of between the genders. There is a small difference between the genders, and so the sentiment was considered as a potential feature.  \n"
   ]
  },
  {
   "cell_type": "code",
   "execution_count": 9,
   "metadata": {},
   "outputs": [],
   "source": [
    "training_df[\"polarity_\"] = training_df['TEXT'].apply(lambda x: TextBlob(x).sentiment.polarity)\n",
    "training_df[\"subjectivity_\"] = training_df['TEXT'].apply(lambda x: TextBlob(x).sentiment.subjectivity)\n",
    "\n",
    "sentiments = ['polarity_', 'subjectivity_']\n",
    "\n",
    "sentiment_df_train = training_df.groupby('gender')[sentiments].mean()\n",
    "sentiment_df_train.index=['male', 'female']\n",
    "\n",
    "test_df[\"polarity_\"] = test_df['TEXT'].apply(lambda x: TextBlob(x).sentiment.polarity)\n",
    "test_df[\"subjectivity_\"] = test_df['TEXT'].apply(lambda x: TextBlob(x).sentiment.subjectivity)\n",
    "\n",
    "sentiment_df_test = test_df.groupby('gender')[sentiments].mean()\n",
    "sentiment_df_test.index=['male', 'female']\n",
    "\n"
   ]
  },
  {
   "cell_type": "markdown",
   "metadata": {},
   "source": [
    "###### Punctuation \n",
    "The difference in punctuation between the genders was explored as feature. The following punctuation elements were evaluated.\n",
    " - Question marks (?)\n",
    " - Exclamation marks (!)\n",
    " - Pauses (...)\n",
    " \n",
    "As there differences between the genders, they were used as features when testing the model."
   ]
  },
  {
   "cell_type": "code",
   "execution_count": 10,
   "metadata": {},
   "outputs": [
    {
     "data": {
      "text/html": [
       "<div>\n",
       "<style scoped>\n",
       "    .dataframe tbody tr th:only-of-type {\n",
       "        vertical-align: middle;\n",
       "    }\n",
       "\n",
       "    .dataframe tbody tr th {\n",
       "        vertical-align: top;\n",
       "    }\n",
       "\n",
       "    .dataframe thead th {\n",
       "        text-align: right;\n",
       "    }\n",
       "</style>\n",
       "<table border=\"1\" class=\"dataframe\">\n",
       "  <thead>\n",
       "    <tr style=\"text-align: right;\">\n",
       "      <th></th>\n",
       "      <th>question_marks_</th>\n",
       "      <th>exclamation_marks_</th>\n",
       "      <th>pauses_</th>\n",
       "    </tr>\n",
       "    <tr>\n",
       "      <th>gender</th>\n",
       "      <th></th>\n",
       "      <th></th>\n",
       "      <th></th>\n",
       "    </tr>\n",
       "  </thead>\n",
       "  <tbody>\n",
       "    <tr>\n",
       "      <th>0</th>\n",
       "      <td>0.428094</td>\n",
       "      <td>0.055184</td>\n",
       "      <td>0.145485</td>\n",
       "    </tr>\n",
       "    <tr>\n",
       "      <th>1</th>\n",
       "      <td>0.448669</td>\n",
       "      <td>0.060837</td>\n",
       "      <td>0.161597</td>\n",
       "    </tr>\n",
       "  </tbody>\n",
       "</table>\n",
       "</div>"
      ],
      "text/plain": [
       "        question_marks_  exclamation_marks_   pauses_\n",
       "gender                                               \n",
       "0              0.428094            0.055184  0.145485\n",
       "1              0.448669            0.060837  0.161597"
      ]
     },
     "execution_count": 10,
     "metadata": {},
     "output_type": "execute_result"
    }
   ],
   "source": [
    "training_df['question_marks_'] = training_df['TEXT'].apply(lambda x: x.count('?'))\n",
    "training_df['exclamation_marks_'] = training_df['TEXT'].apply(lambda x: x.count('!'))\n",
    "training_df['pauses_'] = training_df['TEXT'].apply(lambda x: x.count('...'))\n",
    "\n",
    "punc_list = ['question_marks_', 'exclamation_marks_', 'pauses_']\n",
    "question_df = pd.DataFrame(training_df.groupby('gender')[punc_list].mean())\n",
    "\n",
    "\n",
    "\n",
    "test_df['question_marks_'] = test_df['TEXT'].apply(lambda x: x.count('?'))\n",
    "test_df['exclamation_marks_'] = test_df['TEXT'].apply(lambda x: x.count('!'))\n",
    "test_df['pauses_'] = test_df['TEXT'].apply(lambda x: x.count('...'))\n",
    "\n",
    "question_df1 = pd.DataFrame(test_df.groupby('gender')[punc_list].mean())\n",
    "\n",
    "question_df1"
   ]
  },
  {
   "cell_type": "markdown",
   "metadata": {},
   "source": [
    "###### Empty lines\n",
    "\n",
    "Although uncommon, there were a few empty lines in the training data with women more likely to have empty lines."
   ]
  },
  {
   "cell_type": "code",
   "execution_count": 11,
   "metadata": {},
   "outputs": [
    {
     "data": {
      "text/plain": [
       "0    3\n",
       "1    1\n",
       "Name: gender, dtype: int64"
      ]
     },
     "execution_count": 11,
     "metadata": {},
     "output_type": "execute_result"
    }
   ],
   "source": [
    "empty_line_df = training_df[training_df['TEXT']=='']\n",
    "empty_line_df['gender'].value_counts()\n",
    "\n",
    "empty_line_df1 = test_df[test_df['TEXT']=='']\n",
    "empty_line_df1['gender'].value_counts()"
   ]
  },
  {
   "cell_type": "code",
   "execution_count": 12,
   "metadata": {},
   "outputs": [
    {
     "data": {
      "text/html": [
       "<div>\n",
       "<style scoped>\n",
       "    .dataframe tbody tr th:only-of-type {\n",
       "        vertical-align: middle;\n",
       "    }\n",
       "\n",
       "    .dataframe tbody tr th {\n",
       "        vertical-align: top;\n",
       "    }\n",
       "\n",
       "    .dataframe thead th {\n",
       "        text-align: right;\n",
       "    }\n",
       "</style>\n",
       "<table border=\"1\" class=\"dataframe\">\n",
       "  <thead>\n",
       "    <tr style=\"text-align: right;\">\n",
       "      <th></th>\n",
       "      <th>TEXT</th>\n",
       "      <th>gender</th>\n",
       "      <th>clean_text</th>\n",
       "      <th>preprocessed_text</th>\n",
       "      <th>word_count</th>\n",
       "      <th>character_count</th>\n",
       "      <th>avg_word_length</th>\n",
       "      <th>polarity_</th>\n",
       "      <th>subjectivity_</th>\n",
       "      <th>question_marks_</th>\n",
       "      <th>exclamation_marks_</th>\n",
       "      <th>pauses_</th>\n",
       "      <th>empty_line</th>\n",
       "    </tr>\n",
       "  </thead>\n",
       "  <tbody>\n",
       "    <tr>\n",
       "      <th>0</th>\n",
       "      <td>Kicked you out?</td>\n",
       "      <td>1</td>\n",
       "      <td>kicked you out</td>\n",
       "      <td>kicked</td>\n",
       "      <td>3</td>\n",
       "      <td>13</td>\n",
       "      <td>4.333333</td>\n",
       "      <td>0.0</td>\n",
       "      <td>0.0</td>\n",
       "      <td>1</td>\n",
       "      <td>0</td>\n",
       "      <td>0</td>\n",
       "      <td>0</td>\n",
       "    </tr>\n",
       "    <tr>\n",
       "      <th>1</th>\n",
       "      <td>Meaning?</td>\n",
       "      <td>1</td>\n",
       "      <td>meaning</td>\n",
       "      <td>meaning</td>\n",
       "      <td>1</td>\n",
       "      <td>8</td>\n",
       "      <td>8.000000</td>\n",
       "      <td>0.0</td>\n",
       "      <td>0.0</td>\n",
       "      <td>1</td>\n",
       "      <td>0</td>\n",
       "      <td>0</td>\n",
       "      <td>0</td>\n",
       "    </tr>\n",
       "    <tr>\n",
       "      <th>2</th>\n",
       "      <td>Wish I could do more.</td>\n",
       "      <td>0</td>\n",
       "      <td>wish i could do more</td>\n",
       "      <td>wish could</td>\n",
       "      <td>5</td>\n",
       "      <td>17</td>\n",
       "      <td>3.400000</td>\n",
       "      <td>0.5</td>\n",
       "      <td>0.5</td>\n",
       "      <td>0</td>\n",
       "      <td>0</td>\n",
       "      <td>0</td>\n",
       "      <td>0</td>\n",
       "    </tr>\n",
       "    <tr>\n",
       "      <th>3</th>\n",
       "      <td>What? Not you. Hang on. Pellets are in the cup...</td>\n",
       "      <td>1</td>\n",
       "      <td>what not you hang on pellets are in the cupboard</td>\n",
       "      <td>hang pellet cupboard</td>\n",
       "      <td>10</td>\n",
       "      <td>43</td>\n",
       "      <td>4.300000</td>\n",
       "      <td>0.0</td>\n",
       "      <td>0.0</td>\n",
       "      <td>1</td>\n",
       "      <td>0</td>\n",
       "      <td>0</td>\n",
       "      <td>0</td>\n",
       "    </tr>\n",
       "    <tr>\n",
       "      <th>4</th>\n",
       "      <td>Yeah, he's not well. What? You don't believe m...</td>\n",
       "      <td>1</td>\n",
       "      <td>yeah he s not well what you do n t believe me ...</td>\n",
       "      <td>yeah well n believe pop slip bed like old time...</td>\n",
       "      <td>22</td>\n",
       "      <td>90</td>\n",
       "      <td>4.090909</td>\n",
       "      <td>0.1</td>\n",
       "      <td>0.2</td>\n",
       "      <td>1</td>\n",
       "      <td>0</td>\n",
       "      <td>0</td>\n",
       "      <td>0</td>\n",
       "    </tr>\n",
       "  </tbody>\n",
       "</table>\n",
       "</div>"
      ],
      "text/plain": [
       "                                                TEXT  gender  \\\n",
       "0                                    Kicked you out?       1   \n",
       "1                                           Meaning?       1   \n",
       "2                              Wish I could do more.       0   \n",
       "3  What? Not you. Hang on. Pellets are in the cup...       1   \n",
       "4  Yeah, he's not well. What? You don't believe m...       1   \n",
       "\n",
       "                                          clean_text  \\\n",
       "0                                     kicked you out   \n",
       "1                                            meaning   \n",
       "2                               wish i could do more   \n",
       "3   what not you hang on pellets are in the cupboard   \n",
       "4  yeah he s not well what you do n t believe me ...   \n",
       "\n",
       "                                   preprocessed_text  word_count  \\\n",
       "0                                             kicked           3   \n",
       "1                                            meaning           1   \n",
       "2                                         wish could           5   \n",
       "3                               hang pellet cupboard          10   \n",
       "4  yeah well n believe pop slip bed like old time...          22   \n",
       "\n",
       "   character_count  avg_word_length  polarity_  subjectivity_  \\\n",
       "0               13         4.333333        0.0            0.0   \n",
       "1                8         8.000000        0.0            0.0   \n",
       "2               17         3.400000        0.5            0.5   \n",
       "3               43         4.300000        0.0            0.0   \n",
       "4               90         4.090909        0.1            0.2   \n",
       "\n",
       "   question_marks_  exclamation_marks_  pauses_  empty_line  \n",
       "0                1                   0        0           0  \n",
       "1                1                   0        0           0  \n",
       "2                0                   0        0           0  \n",
       "3                1                   0        0           0  \n",
       "4                1                   0        0           0  "
      ]
     },
     "execution_count": 12,
     "metadata": {},
     "output_type": "execute_result"
    }
   ],
   "source": [
    "training_df['empty_line'] = [1 if x =='' else 0 for x in training_df['TEXT']]\n",
    "\n",
    "\n",
    "test_df['empty_line'] = [1 if x =='' else 0 for x in test_df['TEXT']]\n",
    "\n",
    "test_df.head()"
   ]
  },
  {
   "cell_type": "markdown",
   "metadata": {},
   "source": [
    "## Section 4: Splitting data\n"
   ]
  },
  {
   "cell_type": "code",
   "execution_count": 13,
   "metadata": {},
   "outputs": [],
   "source": [
    "processed_train_df = training_df.copy()\n",
    "processed_test_df = test_df.copy()\n",
    "\n",
    "y1_train = processed_train_df['gender']\n",
    "X1_train = processed_train_df.drop(['gender'], axis=1)\n",
    "\n",
    "y1_test = processed_test_df['gender']\n",
    "X1_test = processed_test_df.drop(['gender'], axis=1)\n"
   ]
  },
  {
   "cell_type": "code",
   "execution_count": 14,
   "metadata": {},
   "outputs": [],
   "source": [
    "processed_train_df = training_df.copy()\n",
    "y = processed_train_df['gender']\n",
    "X = processed_train_df.drop(['gender'], axis=1)\n",
    "\n",
    "X_train, X_test, y_train, y_test = train_test_split(X, y, test_size=0.20, \n",
    "                                                    random_state=42)"
   ]
  },
  {
   "cell_type": "code",
   "execution_count": 15,
   "metadata": {},
   "outputs": [
    {
     "data": {
      "text/html": [
       "<div>\n",
       "<style scoped>\n",
       "    .dataframe tbody tr th:only-of-type {\n",
       "        vertical-align: middle;\n",
       "    }\n",
       "\n",
       "    .dataframe tbody tr th {\n",
       "        vertical-align: top;\n",
       "    }\n",
       "\n",
       "    .dataframe thead th {\n",
       "        text-align: right;\n",
       "    }\n",
       "</style>\n",
       "<table border=\"1\" class=\"dataframe\">\n",
       "  <thead>\n",
       "    <tr style=\"text-align: right;\">\n",
       "      <th></th>\n",
       "      <th>TEXT</th>\n",
       "      <th>clean_text</th>\n",
       "      <th>preprocessed_text</th>\n",
       "      <th>word_count</th>\n",
       "      <th>character_count</th>\n",
       "      <th>avg_word_length</th>\n",
       "      <th>polarity_</th>\n",
       "      <th>subjectivity_</th>\n",
       "      <th>question_marks_</th>\n",
       "      <th>exclamation_marks_</th>\n",
       "      <th>pauses_</th>\n",
       "      <th>empty_line</th>\n",
       "    </tr>\n",
       "  </thead>\n",
       "  <tbody>\n",
       "    <tr>\n",
       "      <th>9571</th>\n",
       "      <td>No argument there.  Talk about asking for trou...</td>\n",
       "      <td>no argument there talk about asking for troubl...</td>\n",
       "      <td>argument talk asking trouble bound get caught</td>\n",
       "      <td>17</td>\n",
       "      <td>69</td>\n",
       "      <td>4.058824</td>\n",
       "      <td>-0.2</td>\n",
       "      <td>0.2</td>\n",
       "      <td>0</td>\n",
       "      <td>0</td>\n",
       "      <td>0</td>\n",
       "      <td>0</td>\n",
       "    </tr>\n",
       "    <tr>\n",
       "      <th>9502</th>\n",
       "      <td>Look you don't -</td>\n",
       "      <td>look you do n t</td>\n",
       "      <td>look n</td>\n",
       "      <td>4</td>\n",
       "      <td>13</td>\n",
       "      <td>3.250000</td>\n",
       "      <td>0.0</td>\n",
       "      <td>0.0</td>\n",
       "      <td>0</td>\n",
       "      <td>0</td>\n",
       "      <td>0</td>\n",
       "      <td>0</td>\n",
       "    </tr>\n",
       "    <tr>\n",
       "      <th>3379</th>\n",
       "      <td>Well?</td>\n",
       "      <td>well</td>\n",
       "      <td>well</td>\n",
       "      <td>1</td>\n",
       "      <td>5</td>\n",
       "      <td>5.000000</td>\n",
       "      <td>0.0</td>\n",
       "      <td>0.0</td>\n",
       "      <td>1</td>\n",
       "      <td>0</td>\n",
       "      <td>0</td>\n",
       "      <td>0</td>\n",
       "    </tr>\n",
       "    <tr>\n",
       "      <th>5407</th>\n",
       "      <td>I thought you didn't want to go?</td>\n",
       "      <td>i thought you did n t want to go</td>\n",
       "      <td>thought n want go</td>\n",
       "      <td>7</td>\n",
       "      <td>26</td>\n",
       "      <td>3.714286</td>\n",
       "      <td>0.0</td>\n",
       "      <td>0.0</td>\n",
       "      <td>1</td>\n",
       "      <td>0</td>\n",
       "      <td>0</td>\n",
       "      <td>0</td>\n",
       "    </tr>\n",
       "    <tr>\n",
       "      <th>7815</th>\n",
       "      <td>‚S not much of a challenge.</td>\n",
       "      <td>s not much of a challenge</td>\n",
       "      <td>much challenge</td>\n",
       "      <td>6</td>\n",
       "      <td>22</td>\n",
       "      <td>3.666667</td>\n",
       "      <td>-0.1</td>\n",
       "      <td>0.2</td>\n",
       "      <td>0</td>\n",
       "      <td>0</td>\n",
       "      <td>0</td>\n",
       "      <td>0</td>\n",
       "    </tr>\n",
       "  </tbody>\n",
       "</table>\n",
       "</div>"
      ],
      "text/plain": [
       "                                                   TEXT  \\\n",
       "9571  No argument there.  Talk about asking for trou...   \n",
       "9502                                   Look you don't -   \n",
       "3379                                              Well?   \n",
       "5407                   I thought you didn't want to go?   \n",
       "7815                        ‚S not much of a challenge.   \n",
       "\n",
       "                                             clean_text  \\\n",
       "9571  no argument there talk about asking for troubl...   \n",
       "9502                                    look you do n t   \n",
       "3379                                               well   \n",
       "5407                   i thought you did n t want to go   \n",
       "7815                          s not much of a challenge   \n",
       "\n",
       "                                  preprocessed_text  word_count  \\\n",
       "9571  argument talk asking trouble bound get caught          17   \n",
       "9502                                         look n           4   \n",
       "3379                                           well           1   \n",
       "5407                              thought n want go           7   \n",
       "7815                                 much challenge           6   \n",
       "\n",
       "      character_count  avg_word_length  polarity_  subjectivity_  \\\n",
       "9571               69         4.058824       -0.2            0.2   \n",
       "9502               13         3.250000        0.0            0.0   \n",
       "3379                5         5.000000        0.0            0.0   \n",
       "5407               26         3.714286        0.0            0.0   \n",
       "7815               22         3.666667       -0.1            0.2   \n",
       "\n",
       "      question_marks_  exclamation_marks_  pauses_  empty_line  \n",
       "9571                0                   0        0           0  \n",
       "9502                0                   0        0           0  \n",
       "3379                1                   0        0           0  \n",
       "5407                1                   0        0           0  \n",
       "7815                0                   0        0           0  "
      ]
     },
     "execution_count": 15,
     "metadata": {},
     "output_type": "execute_result"
    }
   ],
   "source": [
    "X_test.head()"
   ]
  },
  {
   "cell_type": "markdown",
   "metadata": {},
   "source": [
    "## Section 5: Model testing and analysis\n",
    "\n",
    "A selector transformer was made to return either a numerical or categorical column.\n",
    "\n",
    "The features that are numerical were grouped together for use in feature analysis and are shown below"
   ]
  },
  {
   "cell_type": "code",
   "execution_count": 16,
   "metadata": {},
   "outputs": [
    {
     "name": "stdout",
     "output_type": "stream",
     "text": [
      "Numerical columns are:\n",
      "['word_count', 'character_count', 'avg_word_length', 'polarity_', 'subjectivity_', 'question_marks_', 'exclamation_marks_', 'pauses_', 'empty_line']\n"
     ]
    }
   ],
   "source": [
    "numerical = list(X_train.select_dtypes('number').columns)\n",
    "print(f\"Numerical columns are:\\n{str(numerical)}\")\n"
   ]
  },
  {
   "cell_type": "code",
   "execution_count": 17,
   "metadata": {},
   "outputs": [],
   "source": [
    "from sklearn.pipeline import FeatureUnion\n",
    "from sklearn.base import BaseEstimator, TransformerMixin\n",
    "\n",
    "class TextSelector(BaseEstimator, TransformerMixin):\n",
    "    def __init__(self, columns):\n",
    "        self.columns = columns\n",
    "        \n",
    "    def fit(self, X, y=None):\n",
    "        return self\n",
    "    \n",
    "    def transform(self, X):\n",
    "        return X[self.columns]\n",
    "    \n",
    "    def get_feature_names(self):\n",
    "        return self.columns.tolist()\n",
    "    \n",
    "class NumSelector(BaseEstimator, TransformerMixin):\n",
    "    def __init__(self, columns):\n",
    "        self.columns = columns\n",
    "        \n",
    "    def fit(self, X, y=None):\n",
    "        return self\n",
    "    \n",
    "    def transform(self, X):\n",
    "        return X[[self.columns]]\n",
    "\n",
    "    def get_feature_names(self):\n",
    "        return self.columns.tolist()"
   ]
  },
  {
   "cell_type": "markdown",
   "metadata": {},
   "source": [
    "The preprocessed text was vectorized into a Bag of Words (BoW) model and subsequently transformed using TF-IDF. Features such as word count, polarity and pauses were then preprocessed using MinMaxScaler normalisation.\n",
    "\n",
    "All features were then joined in a feature union."
   ]
  },
  {
   "cell_type": "code",
   "execution_count": 18,
   "metadata": {},
   "outputs": [],
   "source": [
    "from sklearn.pipeline import Pipeline\n",
    "from sklearn.feature_extraction.text import CountVectorizer\n",
    "from sklearn.feature_extraction.text import TfidfTransformer\n",
    "from sklearn.preprocessing import StandardScaler\n",
    "from sklearn.preprocessing import MinMaxScaler\n",
    "from sklearn.linear_model import LogisticRegression\n",
    "from sklearn.ensemble import RandomForestClassifier\n",
    "from sklearn.tree import DecisionTreeClassifier\n",
    "\n",
    "from sklearn.metrics import f1_score\n",
    "\n",
    "\n",
    "pp_text = Pipeline([\n",
    "                ('selector', TextSelector(columns='preprocessed_text')),\n",
    "                ('bow', CountVectorizer()),\n",
    "                ('tfidf', TfidfTransformer())\n",
    "            ])"
   ]
  },
  {
   "cell_type": "code",
   "execution_count": 19,
   "metadata": {},
   "outputs": [],
   "source": [
    "word_count =  Pipeline([\n",
    "                ('selector', NumSelector(columns='word_count')),\n",
    "                ('min_max', MinMaxScaler())\n",
    "            ])\n",
    "character_count =  Pipeline([\n",
    "                ('selector', NumSelector(columns='character_count')),\n",
    "                ('min_max', MinMaxScaler())\n",
    "            ])\n",
    "avg_word_length =  Pipeline([\n",
    "                ('selector', NumSelector(columns='avg_word_length')),\n",
    "                ('min_max', MinMaxScaler())\n",
    "            ])\n",
    "polarity_ =  Pipeline([\n",
    "                ('selector', NumSelector(columns='polarity_')),\n",
    "                ('min_max', MinMaxScaler())\n",
    "            ])\n",
    "subjectivity_ =  Pipeline([\n",
    "                ('selector', NumSelector(columns='subjectivity_')),\n",
    "                ('min_max', MinMaxScaler())\n",
    "            ])\n",
    "question_marks_ =  Pipeline([\n",
    "                ('selector', NumSelector(columns='question_marks_')),\n",
    "                ('min_max', MinMaxScaler())\n",
    "            ])\n",
    "exclamation_marks_ =  Pipeline([\n",
    "                ('selector', NumSelector(columns='exclamation_marks_')),\n",
    "                ('min_max', MinMaxScaler())\n",
    "            ])\n",
    "pauses_ =  Pipeline([\n",
    "                ('selector', NumSelector(columns='pauses_')),\n",
    "                ('min_max', MinMaxScaler())\n",
    "            ])\n",
    "empty_line =  Pipeline([\n",
    "                ('selector', NumSelector(columns='empty_line')),\n",
    "                ('min_max', MinMaxScaler())\n",
    "            ])"
   ]
  },
  {
   "cell_type": "code",
   "execution_count": 20,
   "metadata": {},
   "outputs": [],
   "source": [
    "feat_union = Pipeline([\n",
    "    ('feature_union', FeatureUnion(\n",
    "        [('pp_text', pp_text), \n",
    "        ('word_count', word_count),\n",
    "        ('character_count', character_count),\n",
    "        ('avg_word_length', avg_word_length),\n",
    "        ('polarity_', polarity_),\n",
    "        ('subjectivity_', subjectivity_),\n",
    "        ('question_marks_', question_marks_),\n",
    "        ('exclamation_marks_', exclamation_marks_),\n",
    "        ('pauses_', pauses_),\n",
    "        ('empty_line', empty_line)]))])\n",
    "\n",
    "\n",
    "feat_processing = Pipeline([('feats', feat_union)])\n"
   ]
  },
  {
   "cell_type": "markdown",
   "metadata": {},
   "source": [
    "### Classifier selection:\n",
    "\n",
    "The following classifiers were evaluated:\n",
    "1. Random Forest Classifier\n",
    "2. Naive Bayes Classifier\n",
    "    1. Multinomial Naive Bayes\n",
    "    2. Complement Naive Bayes\n",
    "3. Logistic Regression\n",
    "4. Decision Tree\n",
    "5. Support Vector Machine\n",
    "\n",
    "#### Classifier 1: Random Forest Tree\n"
   ]
  },
  {
   "cell_type": "code",
   "execution_count": 21,
   "metadata": {},
   "outputs": [
    {
     "name": "stdout",
     "output_type": "stream",
     "text": [
      "Random Forest Classifier f-score: 0.5550\n",
      "\n",
      "              precision    recall  f1-score   support\n",
      "\n",
      "           0       0.56      0.57      0.57      1006\n",
      "           1       0.56      0.55      0.55      1017\n",
      "\n",
      "    accuracy                           0.56      2023\n",
      "   macro avg       0.56      0.56      0.56      2023\n",
      "weighted avg       0.56      0.56      0.56      2023\n",
      "\n"
     ]
    },
    {
     "data": {
      "image/png": "[encoded data removed]",
      "text/plain": [
       "<Figure size 432x288 with 1 Axes>"
      ]
     },
     "metadata": {
      "needs_background": "light"
     },
     "output_type": "display_data"
    }
   ],
   "source": [
    "# rfc pipeline\n",
    "rfc_pipeline = Pipeline([\n",
    "    ('features',feat_union),\n",
    "    ('classifier', RandomForestClassifier(random_state = 42)),\n",
    "])\n",
    "rfc_pipeline.fit(X_train, y_train)\n",
    "rfc_preds = rfc_pipeline.predict(X_test)\n",
    "\n",
    "# Cross validation for the f-score\n",
    "rfc_score = f1_score(y_test,rfc_preds)\n",
    "print(f'Random Forest Classifier f-score: {rfc_score.mean():.4f}\\n')\n",
    "print(classification_report(y_test, rfc_preds))\n",
    "\n",
    "rfc_mat = confusion_matrix(y_test, rfc_preds)\n",
    "sns.heatmap(rfc_mat, annot=True, cbar=False, fmt='d',cmap=plt.cm.Oranges) \n",
    "plt.xlabel('predicted value')\n",
    "plt.ylabel('true value');\n"
   ]
  },
  {
   "cell_type": "markdown",
   "metadata": {},
   "source": [
    "#### Classifier 2a: Multinomial Naive Bayes Classifier\n",
    "Multinomial Naive Bayes was evaluated. The f-score and confusion matrix produced are given below."
   ]
  },
  {
   "cell_type": "code",
   "execution_count": 22,
   "metadata": {},
   "outputs": [
    {
     "name": "stdout",
     "output_type": "stream",
     "text": [
      "Multinomial Naive Bayes Classifier f-score: 0.5569\n",
      "\n",
      "              precision    recall  f1-score   support\n",
      "\n",
      "           0       0.56      0.60      0.58      1006\n",
      "           1       0.58      0.54      0.56      1017\n",
      "\n",
      "    accuracy                           0.57      2023\n",
      "   macro avg       0.57      0.57      0.57      2023\n",
      "weighted avg       0.57      0.57      0.57      2023\n",
      "\n"
     ]
    },
    {
     "data": {
      "image/png": "[encoded data removed]",
      "text/plain": [
       "<Figure size 432x288 with 1 Axes>"
      ]
     },
     "metadata": {
      "needs_background": "light"
     },
     "output_type": "display_data"
    }
   ],
   "source": [
    "# MNB pipeline\n",
    "MNB_pipeline = Pipeline([\n",
    "    ('features',feat_union),\n",
    "    ('classifier', MultinomialNB()),\n",
    "])\n",
    "MNB_pipeline.fit(X_train, y_train)\n",
    "MNB_preds = MNB_pipeline.predict(X_test)\n",
    "\n",
    "# Cross validation for the f-score\n",
    "MNB_score = f1_score(y_test,MNB_preds)\n",
    "\n",
    "print(f'Multinomial Naive Bayes Classifier f-score: {MNB_score:.4f}\\n')\n",
    "print(classification_report(y_test, MNB_preds))\n",
    "\n",
    "MNB_mat = confusion_matrix(y_test, MNB_preds)\n",
    "sns.heatmap(MNB_mat, annot=True, cbar=False, fmt='d',cmap=plt.cm.Oranges) \n",
    "plt.xlabel('predicted value')\n",
    "plt.ylabel('true value');\n"
   ]
  },
  {
   "cell_type": "markdown",
   "metadata": {},
   "source": [
    "#### Classifier 2b: Complement Naive Bayes Classifier\n",
    "Complement Naive Bayes is typically better with imbalanced data sets such as NLP. As the f-score and confusion matrix below show, it is an improvement on the Multinomial Naive Bayes model."
   ]
  },
  {
   "cell_type": "code",
   "execution_count": 23,
   "metadata": {},
   "outputs": [
    {
     "name": "stdout",
     "output_type": "stream",
     "text": [
      "Complement Naive Bayes Classifier f-score: 0.5822\n",
      "\n",
      "              precision    recall  f1-score   support\n",
      "\n",
      "           0       0.58      0.59      0.58      1006\n",
      "           1       0.59      0.58      0.58      1017\n",
      "\n",
      "    accuracy                           0.58      2023\n",
      "   macro avg       0.58      0.58      0.58      2023\n",
      "weighted avg       0.58      0.58      0.58      2023\n",
      "\n"
     ]
    },
    {
     "data": {
      "image/png": "[encoded data removed]",
      "text/plain": [
       "<Figure size 432x288 with 1 Axes>"
      ]
     },
     "metadata": {
      "needs_background": "light"
     },
     "output_type": "display_data"
    }
   ],
   "source": [
    "# CNB pipeline\n",
    "CNB_pipeline = Pipeline([\n",
    "    ('features',feat_union),\n",
    "    ('classifier', ComplementNB()),\n",
    "])\n",
    "CNB_pipeline.fit(X_train, y_train)\n",
    "CNB_preds = CNB_pipeline.predict(X_test)\n",
    "\n",
    "# Cross validation for the f-score\n",
    "CNB_score = f1_score(y_test,CNB_preds)\n",
    "\n",
    "print(f'Complement Naive Bayes Classifier f-score: {CNB_score:.4f}\\n')\n",
    "print(classification_report(y_test, CNB_preds))\n",
    "\n",
    "CNB_mat = confusion_matrix(y_test, CNB_preds)\n",
    "sns.heatmap(CNB_mat, annot=True, cbar=False, fmt='d',cmap=plt.cm.Oranges) \n",
    "plt.xlabel('predicted value')\n",
    "plt.ylabel('true value');\n"
   ]
  },
  {
   "cell_type": "markdown",
   "metadata": {},
   "source": [
    "#### Classifier 3: Logistic Regression Classifier \n"
   ]
  },
  {
   "cell_type": "code",
   "execution_count": 24,
   "metadata": {},
   "outputs": [
    {
     "name": "stdout",
     "output_type": "stream",
     "text": [
      "Logistic Regression Classifier f-score: 0.5784\n",
      "\n",
      "              precision    recall  f1-score   support\n",
      "\n",
      "           0       0.58      0.60      0.59      1006\n",
      "           1       0.59      0.57      0.58      1017\n",
      "\n",
      "    accuracy                           0.58      2023\n",
      "   macro avg       0.58      0.58      0.58      2023\n",
      "weighted avg       0.58      0.58      0.58      2023\n",
      "\n"
     ]
    },
    {
     "data": {
      "image/png": "[encoded data removed]",
      "text/plain": [
       "<Figure size 432x288 with 1 Axes>"
      ]
     },
     "metadata": {
      "needs_background": "light"
     },
     "output_type": "display_data"
    }
   ],
   "source": [
    "LR_pipeline = Pipeline([\n",
    "    ('features',feat_union),\n",
    "    ('classifier', LogisticRegression()),\n",
    "])\n",
    "LR_pipeline.fit(X_train, y_train)\n",
    "LR_preds = LR_pipeline.predict(X_test)\n",
    "\n",
    "# Cross validation for the f-score\n",
    "LR_score = f1_score(y_test,LR_preds)\n",
    "\n",
    "print(f'Logistic Regression Classifier f-score: {LR_score.mean():.4f}\\n')\n",
    "print(classification_report(y_test, LR_preds))\n",
    "\n",
    "LR_mat = confusion_matrix(y_test, LR_preds)\n",
    "sns.heatmap(LR_mat, annot=True, cbar=False, fmt='d',cmap=plt.cm.Oranges) \n",
    "plt.xlabel('predicted value')\n",
    "plt.ylabel('true value');\n"
   ]
  },
  {
   "cell_type": "markdown",
   "metadata": {},
   "source": [
    "#### Classifier 4: Decision Tree\n"
   ]
  },
  {
   "cell_type": "code",
   "execution_count": 25,
   "metadata": {},
   "outputs": [
    {
     "name": "stdout",
     "output_type": "stream",
     "text": [
      "Decision Tree Classifier f-score: 0.5136\n",
      "\n",
      "              precision    recall  f1-score   support\n",
      "\n",
      "           0       0.51      0.52      0.52      1006\n",
      "           1       0.52      0.51      0.51      1017\n",
      "\n",
      "    accuracy                           0.52      2023\n",
      "   macro avg       0.52      0.52      0.52      2023\n",
      "weighted avg       0.52      0.52      0.52      2023\n",
      "\n"
     ]
    },
    {
     "data": {
      "image/png": "[encoded data removed]",
      "text/plain": [
       "<Figure size 432x288 with 1 Axes>"
      ]
     },
     "metadata": {
      "needs_background": "light"
     },
     "output_type": "display_data"
    }
   ],
   "source": [
    "DT_pipeline = Pipeline([\n",
    "    ('features',feat_union),\n",
    "    ('classifier', DecisionTreeClassifier()),\n",
    "])\n",
    "DT_pipeline.fit(X_train, y_train)\n",
    "DT_preds = DT_pipeline.predict(X_test)\n",
    "\n",
    "# Cross validation for the f-score\n",
    "DT_score = f1_score(y_test,DT_preds)\n",
    "\n",
    "print(f'Decision Tree Classifier f-score: {DT_score.mean():.4f}\\n')\n",
    "print(classification_report(y_test, DT_preds))\n",
    "\n",
    "DT_mat = confusion_matrix(y_test, DT_preds)\n",
    "sns.heatmap(DT_mat, annot=True, cbar=False, fmt='d',cmap=plt.cm.Oranges) \n",
    "plt.xlabel('predicted value')\n",
    "plt.ylabel('true value');\n"
   ]
  },
  {
   "cell_type": "markdown",
   "metadata": {},
   "source": [
    "#### Classifier 5: Support Vector Machine\n"
   ]
  },
  {
   "cell_type": "code",
   "execution_count": 26,
   "metadata": {},
   "outputs": [
    {
     "name": "stdout",
     "output_type": "stream",
     "text": [
      "Support Vector Machine classifier f-score: 0.5709\n",
      "              precision    recall  f1-score   support\n",
      "\n",
      "           0       0.57      0.59      0.58      1006\n",
      "           1       0.58      0.56      0.57      1017\n",
      "\n",
      "    accuracy                           0.58      2023\n",
      "   macro avg       0.58      0.58      0.58      2023\n",
      "weighted avg       0.58      0.58      0.58      2023\n",
      "\n"
     ]
    }
   ],
   "source": [
    "SVM_pipeline = Pipeline([\n",
    "    ('features',feat_union),\n",
    "    ('classifier', LinearSVC()),\n",
    "])\n",
    "SVM_pipeline.fit(X_train, y_train)\n",
    "SVM_preds = SVM_pipeline.predict(X_test)\n",
    "\n",
    "# Cross validation for the f-score\n",
    "SVM_score = f1_score(y_test,SVM_preds)\n",
    "\n",
    "print(f'Support Vector Machine classifier f-score: {SVM_score.mean():.4f}')\n",
    "print(classification_report(y_test, SVM_preds))"
   ]
  },
  {
   "cell_type": "code",
   "execution_count": 27,
   "metadata": {
    "scrolled": true
   },
   "outputs": [
    {
     "data": {
      "image/png": "[encoded data removed]",
      "text/plain": [
       "<Figure size 432x288 with 1 Axes>"
      ]
     },
     "metadata": {
      "needs_background": "light"
     },
     "output_type": "display_data"
    }
   ],
   "source": [
    "SVM_mat = confusion_matrix(y_test, SVM_preds)\n",
    "sns.heatmap(SVM_mat, annot=True, cbar=False, fmt='d',cmap=plt.cm.Oranges) \n",
    "plt.xlabel('predicted value')\n",
    "plt.ylabel('true value');"
   ]
  },
  {
   "cell_type": "markdown",
   "metadata": {},
   "source": [
    "### Logistic Regression Classifier VS Complement Naive Bayes Classifier\n"
   ]
  },
  {
   "cell_type": "code",
   "execution_count": 28,
   "metadata": {},
   "outputs": [],
   "source": [
    "# selection of hyperparameters\n",
    "hyperparameters = { 'features__feature_union__pp_text__bow__max_df': [0.05, 0.25, 0.5,0.75, 0.95],\n",
    "                    'features__feature_union__pp_text__bow__ngram_range': [(1,1), (1,2), (1,3)],\n",
    "                    'features__feature_union__pp_text__bow__strip_accents':[None, 'ascii']\n",
    "                  }"
   ]
  },
  {
   "cell_type": "code",
   "execution_count": 29,
   "metadata": {},
   "outputs": [
    {
     "name": "stdout",
     "output_type": "stream",
     "text": [
      "The best parameters were:\n"
     ]
    },
    {
     "data": {
      "text/plain": [
       "{'features__feature_union__pp_text__bow__max_df': 0.25,\n",
       " 'features__feature_union__pp_text__bow__ngram_range': (1, 1),\n",
       " 'features__feature_union__pp_text__bow__strip_accents': 'ascii'}"
      ]
     },
     "metadata": {},
     "output_type": "display_data"
    },
    {
     "name": "stdout",
     "output_type": "stream",
     "text": [
      "\n",
      "CNB f-score: 0.5823\n",
      "\n",
      "              precision    recall  f1-score   support\n",
      "\n",
      "           0       0.58      0.59      0.58      1006\n",
      "           1       0.59      0.58      0.58      1017\n",
      "\n",
      "    accuracy                           0.58      2023\n",
      "   macro avg       0.58      0.58      0.58      2023\n",
      "weighted avg       0.58      0.58      0.58      2023\n",
      "\n"
     ]
    },
    {
     "data": {
      "image/png": "[encoded data removed]",
      "text/plain": [
       "<Figure size 432x288 with 1 Axes>"
      ]
     },
     "metadata": {
      "needs_background": "light"
     },
     "output_type": "display_data"
    }
   ],
   "source": [
    "CNB_clf = GridSearchCV(CNB_pipeline, hyperparameters, cv=5)\n",
    "\n",
    "# Fit and tune model\n",
    "CNB_clf.fit(X_train, y_train)\n",
    "\n",
    "# best parameters\n",
    "print('The best parameters were:')\n",
    "display(CNB_clf.best_params_)\n",
    "\n",
    "CNB_clf.refit\n",
    "CNB_preds = CNB_clf.predict(X_test)\n",
    "\n",
    "CNB_CV_score = np.mean(CNB_preds == y_test)\n",
    "print(f'\\nCNB f-score: {CNB_CV_score:.4f}\\n')\n",
    "print(classification_report(y_test, CNB_preds))\n",
    "\n",
    "CNB_best_mat = confusion_matrix(y_test, CNB_preds)\n",
    "sns.heatmap(CNB_best_mat, annot=True, cbar=False, fmt='d',cmap=plt.cm.Oranges) \n",
    "plt.xlabel('predicted value')\n",
    "plt.ylabel('true value');"
   ]
  },
  {
   "cell_type": "markdown",
   "metadata": {},
   "source": [
    "# TEST DATA CLASSIFICATION: COMPLIMENT NAIVE BAYES"
   ]
  },
  {
   "cell_type": "code",
   "execution_count": 30,
   "metadata": {},
   "outputs": [
    {
     "name": "stdout",
     "output_type": "stream",
     "text": [
      "\n",
      "CNB f-score: 0.5703\n",
      "\n",
      "              precision    recall  f1-score   support\n",
      "\n",
      "           0       0.60      0.56      0.58       598\n",
      "           1       0.54      0.59      0.56       526\n",
      "\n",
      "    accuracy                           0.57      1124\n",
      "   macro avg       0.57      0.57      0.57      1124\n",
      "weighted avg       0.57      0.57      0.57      1124\n",
      "\n"
     ]
    },
    {
     "data": {
      "image/png": "[encoded data removed]",
      "text/plain": [
       "<Figure size 432x288 with 1 Axes>"
      ]
     },
     "metadata": {
      "needs_background": "light"
     },
     "output_type": "display_data"
    }
   ],
   "source": [
    "TEST_DATA_CNB_preds = CNB_clf.predict(X1_test)\n",
    "\n",
    "CNB_CV_score = np.mean(TEST_DATA_CNB_preds == y1_test)\n",
    "print(f'\\nCNB f-score: {CNB_CV_score:.4f}\\n')\n",
    "print(classification_report(y1_test, TEST_DATA_CNB_preds))\n",
    "\n",
    "CNB_best_mat = confusion_matrix(y1_test, TEST_DATA_CNB_preds)\n",
    "sns.heatmap(CNB_best_mat, annot=True, cbar=False, fmt='d',cmap=plt.cm.Oranges) \n",
    "plt.xlabel('predicted value')\n",
    "plt.ylabel('true value');"
   ]
  },
  {
   "cell_type": "code",
   "execution_count": 31,
   "metadata": {},
   "outputs": [
    {
     "name": "stdout",
     "output_type": "stream",
     "text": [
      "The best parameters were:\n"
     ]
    },
    {
     "data": {
      "text/plain": [
       "{'features__feature_union__pp_text__bow__max_df': 0.05,\n",
       " 'features__feature_union__pp_text__bow__ngram_range': (1, 2),\n",
       " 'features__feature_union__pp_text__bow__strip_accents': None}"
      ]
     },
     "metadata": {},
     "output_type": "display_data"
    },
    {
     "name": "stdout",
     "output_type": "stream",
     "text": [
      "\\LR f-score: 0.5679\n",
      "\n",
      "              precision    recall  f1-score   support\n",
      "\n",
      "           0       0.57      0.59      0.58      1006\n",
      "           1       0.58      0.56      0.57      1017\n",
      "\n",
      "    accuracy                           0.57      2023\n",
      "   macro avg       0.57      0.57      0.57      2023\n",
      "weighted avg       0.57      0.57      0.57      2023\n",
      "\n"
     ]
    },
    {
     "data": {
      "image/png": "[encoded data removed]",
      "text/plain": [
       "<Figure size 432x288 with 1 Axes>"
      ]
     },
     "metadata": {
      "needs_background": "light"
     },
     "output_type": "display_data"
    }
   ],
   "source": [
    "LR_clf = GridSearchCV(LR_pipeline, hyperparameters, cv=5)\n",
    " \n",
    "# Fit and tune model\n",
    "LR_clf.fit(X_train, y_train)\n",
    "\n",
    "# best parameters\n",
    "print('The best parameters were:')\n",
    "display(LR_clf.best_params_)\n",
    "\n",
    "LR_clf.refit\n",
    "LR_preds = LR_clf.predict(X_test)\n",
    "\n",
    "LR_CV_score = f1_score(y_test,LR_preds)\n",
    "\n",
    "print(f'\\LR f-score: {LR_CV_score:.4f}\\n')\n",
    "print(classification_report(y_test, LR_preds))\n",
    "\n",
    "LR_best_mat = confusion_matrix(y_test, LR_preds)\n",
    "sns.heatmap(LR_best_mat, annot=True, cbar=False, fmt='d',cmap=plt.cm.Oranges) \n",
    "plt.xlabel('predicted value')\n",
    "plt.ylabel('true value');\n"
   ]
  },
  {
   "cell_type": "markdown",
   "metadata": {},
   "source": [
    "# TEST DATA CLASSIFICATION: LOGISITIC REGRESSION"
   ]
  },
  {
   "cell_type": "code",
   "execution_count": 32,
   "metadata": {},
   "outputs": [
    {
     "name": "stdout",
     "output_type": "stream",
     "text": [
      "\n",
      "CNB f-score: 0.5703\n",
      "\n",
      "              precision    recall  f1-score   support\n",
      "\n",
      "           0       0.58      0.55      0.57       598\n",
      "           1       0.52      0.55      0.54       526\n",
      "\n",
      "    accuracy                           0.55      1124\n",
      "   macro avg       0.55      0.55      0.55      1124\n",
      "weighted avg       0.56      0.55      0.55      1124\n",
      "\n"
     ]
    },
    {
     "data": {
      "image/png": "[encoded data removed]",
      "text/plain": [
       "<Figure size 432x288 with 1 Axes>"
      ]
     },
     "metadata": {
      "needs_background": "light"
     },
     "output_type": "display_data"
    }
   ],
   "source": [
    "TEST_DATA_LR_preds = LR_clf.predict(X1_test)\n",
    "\n",
    "LR_CV_score = np.mean(TEST_DATA_LR_preds == y1_test)\n",
    "print(f'\\nCNB f-score: {CNB_CV_score:.4f}\\n')\n",
    "print(classification_report(y1_test, TEST_DATA_LR_preds))\n",
    "\n",
    "LR_best_mat = confusion_matrix(y1_test, TEST_DATA_LR_preds)\n",
    "sns.heatmap(CNB_best_mat, annot=True, cbar=False, fmt='d',cmap=plt.cm.Oranges) \n",
    "plt.xlabel('predicted value')\n",
    "plt.ylabel('true value');"
   ]
  },
  {
   "cell_type": "code",
   "execution_count": null,
   "metadata": {},
   "outputs": [],
   "source": []
  },
  {
   "cell_type": "code",
   "execution_count": null,
   "metadata": {},
   "outputs": [],
   "source": []
  },
  {
   "cell_type": "code",
   "execution_count": null,
   "metadata": {},
   "outputs": [],
   "source": []
  }
 ],
 "metadata": {
  "kernelspec": {
   "display_name": "Python 3",
   "language": "python",
   "name": "python3"
  },
  "language_info": {
   "codemirror_mode": {
    "name": "ipython",
    "version": 3
   },
   "file_extension": ".py",
   "mimetype": "text/x-python",
   "name": "python",
   "nbconvert_exporter": "python",
   "pygments_lexer": "ipython3",
   "version": "3.8.5"
  }
 },
 "nbformat": 4,
 "nbformat_minor": 4
}
