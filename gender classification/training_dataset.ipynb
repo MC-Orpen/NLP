{
 "cells": [
  {
   "cell_type": "markdown",
   "metadata": {},
   "source": [
    "# Assignment : Eastenders Gender Identification \n",
    "\n",
    "## Contents:\n",
    "**Section 1:** Load data and packages\n",
    "\n",
    "**Section 2:** Data preprocessing\n",
    "\n",
    "**Section 3:** Data exploration\n",
    "\n",
    "**Section 4:** Splitting data\n",
    "\n",
    "**Section 5:** Model testing and analysis\n"
   ]
  },
  {
   "cell_type": "markdown",
   "metadata": {},
   "source": [
    "## Section 1: Loading data and packages"
   ]
  },
  {
   "cell_type": "code",
   "execution_count": 1,
   "metadata": {},
   "outputs": [],
   "source": [
    "# Loading packages \n",
    "import csv\n",
    "import numpy as np\n",
    "import pandas as pd\n",
    "import matplotlib.pyplot as plt\n",
    "import spacy\n",
    "\n",
    "import collections\n",
    "import json\n",
    "import seaborn as sns\n",
    "import wordcloud\n",
    "\n",
    "import re\n",
    "import nltk\n",
    "\n",
    "from nltk.corpus import stopwords\n",
    "from nltk.tokenize import word_tokenize, WordPunctTokenizer\n",
    "from nltk.util import ngrams\n",
    "from nltk.stem.wordnet import WordNetLemmatizer\n",
    "from nltk.stem.porter import PorterStemmer\n",
    "from textblob import TextBlob\n",
    "\n",
    "from sklearn import feature_extraction, manifold\n",
    "import gensim\n",
    "import gensim.downloader as gensim_api\n",
    "\n",
    "from sklearn.feature_extraction.text import CountVectorizer\n",
    "from sklearn.model_selection import train_test_split, cross_val_score,GridSearchCV\n",
    "\n",
    "from sklearn.linear_model import LogisticRegression\n",
    "from sklearn.svm import LinearSVC\n",
    "from sklearn.naive_bayes import ComplementNB, MultinomialNB\n",
    "from sklearn.metrics import f1_score, accuracy_score, confusion_matrix, classification_report"
   ]
  },
  {
   "cell_type": "code",
   "execution_count": 2,
   "metadata": {},
   "outputs": [
    {
     "data": {
      "text/plain": [
       "[('Someone had fun.', 'SEAN', 'male'),\n",
       " (\"It's no problem, honestly. Go on, go and open the launderette.  Leave it with me.\",\n",
       "  'SHIRLEY',\n",
       "  'female'),\n",
       " (\"Last night was better than ever. What's all this?  Anything interesting?\",\n",
       "  'MAX',\n",
       "  'male')]"
      ]
     },
     "execution_count": 2,
     "metadata": {},
     "output_type": "execute_result"
    }
   ],
   "source": [
    "# loading data \n",
    "data_raw = []\n",
    "\n",
    "def load_data(path, Text=None):\n",
    "    with open(path) as f:\n",
    "        reader = csv.reader(f, delimiter=',')\n",
    "        for line in reader:\n",
    "            (line, character, gender) = (line[0], line[1], line[2])\n",
    "            data_raw.append((line, character, gender))\n",
    "\n",
    "# file paths\n",
    "train_file_path = \"training.csv\"\n",
    "test_file_path = \"test.csv\"\n",
    "\n",
    "# sample of the training data\n",
    "load_data(train_file_path)\n",
    "data_raw[:3]"
   ]
  },
  {
   "cell_type": "code",
   "execution_count": 3,
   "metadata": {},
   "outputs": [
    {
     "data": {
      "text/html": [
       "<div>\n",
       "<style scoped>\n",
       "    .dataframe tbody tr th:only-of-type {\n",
       "        vertical-align: middle;\n",
       "    }\n",
       "\n",
       "    .dataframe tbody tr th {\n",
       "        vertical-align: top;\n",
       "    }\n",
       "\n",
       "    .dataframe thead th {\n",
       "        text-align: right;\n",
       "    }\n",
       "</style>\n",
       "<table border=\"1\" class=\"dataframe\">\n",
       "  <thead>\n",
       "    <tr style=\"text-align: right;\">\n",
       "      <th></th>\n",
       "      <th>TEXT</th>\n",
       "      <th>gender</th>\n",
       "    </tr>\n",
       "  </thead>\n",
       "  <tbody>\n",
       "    <tr>\n",
       "      <th>0</th>\n",
       "      <td>Someone had fun.</td>\n",
       "      <td>0</td>\n",
       "    </tr>\n",
       "    <tr>\n",
       "      <th>1</th>\n",
       "      <td>It's no problem, honestly. Go on, go and open ...</td>\n",
       "      <td>1</td>\n",
       "    </tr>\n",
       "    <tr>\n",
       "      <th>2</th>\n",
       "      <td>Last night was better than ever. What's all th...</td>\n",
       "      <td>0</td>\n",
       "    </tr>\n",
       "    <tr>\n",
       "      <th>3</th>\n",
       "      <td>Have you checked the answerphone?  Any calls?</td>\n",
       "      <td>0</td>\n",
       "    </tr>\n",
       "    <tr>\n",
       "      <th>4</th>\n",
       "      <td>Oscar's asleep.</td>\n",
       "      <td>0</td>\n",
       "    </tr>\n",
       "  </tbody>\n",
       "</table>\n",
       "</div>"
      ],
      "text/plain": [
       "                                                TEXT  gender\n",
       "0                                   Someone had fun.       0\n",
       "1  It's no problem, honestly. Go on, go and open ...       1\n",
       "2  Last night was better than ever. What's all th...       0\n",
       "3      Have you checked the answerphone?  Any calls?       0\n",
       "4                                    Oscar's asleep.       0"
      ]
     },
     "execution_count": 3,
     "metadata": {},
     "output_type": "execute_result"
    }
   ],
   "source": [
    "# creating dataframe \n",
    "raw_df = pd.DataFrame.from_records(data_raw)\n",
    "raw_df.columns = ['TEXT', 'name', 'gender']\n",
    "\n",
    "# dropping the 'name' feature\n",
    "raw_df = raw_df.drop('name', axis=1)\n",
    "raw_df['gender'] = raw_df['gender'].replace({'male': 0, 'female':1})\n",
    "raw_df.head()"
   ]
  },
  {
   "cell_type": "markdown",
   "metadata": {},
   "source": [
    "## Section 2: Data preprocessing\n",
    "\n",
    "A function with various preprocessing methods was created. This allows for experiementing with various features to find the optimal combination.\n",
    "\n",
    "The preprocessing features included the following:\n",
    " - Removal of punctuation and capital letters\n",
    " - Stopword removal\n",
    " - Lemmatisation of text\n",
    " - Stemming of text"
   ]
  },
  {
   "cell_type": "code",
   "execution_count": 4,
   "metadata": {},
   "outputs": [],
   "source": [
    "# initialising stopwords and NER\n",
    "en_stopwords = stopwords.words(\"english\")\n",
    "ner = spacy.load(\"en_core_web_sm\")\n",
    "\n",
    "def pre_process(text, punc=False, stem=False, lemm=False,\n",
    "                stopwords=False, norm=False, NER=False, \n",
    "                POS=False, sentiment=False):\n",
    "\n",
    "\n",
    "    tokens = word_tokenize(text)\n",
    "\n",
    "    # puncuation removal\n",
    "    if punc is True:\n",
    "        joined_text = ' '.join(tokens)\n",
    "        no_punc_text = re.sub(r'[^\\w\\s]', ' ', joined_text)\n",
    "        tokens = no_punc_text.split()\n",
    "        \n",
    "    # normalise words\n",
    "    if norm is True:\n",
    "        tokens = [word.lower() for word in tokens]\n",
    "    \n",
    "    # copy of preprocessed normalised tokens without stemming, lemmatisation or stopword removal\n",
    "    pre_norm_tokens = tokens.copy()\n",
    "    \n",
    "    # stopword removal\n",
    "    if stopwords:\n",
    "        tokens = [word for word in tokens if word not in en_stopwords]\n",
    "    \n",
    "    # lemmatiser\n",
    "    if lemm:\n",
    "        lemmat = WordNetLemmatizer()\n",
    "        tokens = [lemmat.lemmatize(word) for word in tokens]\n",
    "\n",
    "     # stemming\n",
    "    if stem:\n",
    "        stemmer = PorterStemmer()\n",
    "        tokens = [stemmer.stem(word) for word in tokens]\n",
    "        \n",
    "    text = ' '.join(tokens)\n",
    "    return text"
   ]
  },
  {
   "cell_type": "markdown",
   "metadata": {},
   "source": [
    "#### Examples of preprocess function \n"
   ]
  },
  {
   "cell_type": "code",
   "execution_count": 5,
   "metadata": {},
   "outputs": [
    {
     "name": "stdout",
     "output_type": "stream",
     "text": [
      "It's no problem, honestly. Go on, go and open the launderette.  Leave it with me.\n",
      "it s no problem honestly go on go and open the launderette leave it with me\n",
      "It 's no problem , honestli . Go on , go and open the launderett . leav it with me .\n"
     ]
    }
   ],
   "source": [
    "print(data_raw[1][0])\n",
    "print(pre_process(data_raw[1][0], punc=True, norm=True))\n",
    "print(pre_process(data_raw[1][0], stem=True))"
   ]
  },
  {
   "cell_type": "markdown",
   "metadata": {},
   "source": [
    "The punctuation in the text is removed and converted to lowercase in the column `clean_text`. The column `preprocessed_text` contains preprocessed text removing stopwords and other preprocessing features."
   ]
  },
  {
   "cell_type": "code",
   "execution_count": 6,
   "metadata": {},
   "outputs": [
    {
     "data": {
      "text/html": [
       "<div>\n",
       "<style scoped>\n",
       "    .dataframe tbody tr th:only-of-type {\n",
       "        vertical-align: middle;\n",
       "    }\n",
       "\n",
       "    .dataframe tbody tr th {\n",
       "        vertical-align: top;\n",
       "    }\n",
       "\n",
       "    .dataframe thead th {\n",
       "        text-align: right;\n",
       "    }\n",
       "</style>\n",
       "<table border=\"1\" class=\"dataframe\">\n",
       "  <thead>\n",
       "    <tr style=\"text-align: right;\">\n",
       "      <th></th>\n",
       "      <th>TEXT</th>\n",
       "      <th>gender</th>\n",
       "      <th>clean_text</th>\n",
       "      <th>preprocessed_text</th>\n",
       "    </tr>\n",
       "  </thead>\n",
       "  <tbody>\n",
       "    <tr>\n",
       "      <th>0</th>\n",
       "      <td>Someone had fun.</td>\n",
       "      <td>0</td>\n",
       "      <td>someone had fun</td>\n",
       "      <td>someone fun</td>\n",
       "    </tr>\n",
       "    <tr>\n",
       "      <th>1</th>\n",
       "      <td>It's no problem, honestly. Go on, go and open ...</td>\n",
       "      <td>1</td>\n",
       "      <td>it s no problem honestly go on go and open the...</td>\n",
       "      <td>problem honestly go go open launderette leave</td>\n",
       "    </tr>\n",
       "    <tr>\n",
       "      <th>2</th>\n",
       "      <td>Last night was better than ever. What's all th...</td>\n",
       "      <td>0</td>\n",
       "      <td>last night was better than ever what s all thi...</td>\n",
       "      <td>last night better ever anything interesting</td>\n",
       "    </tr>\n",
       "    <tr>\n",
       "      <th>3</th>\n",
       "      <td>Have you checked the answerphone?  Any calls?</td>\n",
       "      <td>0</td>\n",
       "      <td>have you checked the answerphone any calls</td>\n",
       "      <td>checked answerphone call</td>\n",
       "    </tr>\n",
       "    <tr>\n",
       "      <th>4</th>\n",
       "      <td>Oscar's asleep.</td>\n",
       "      <td>0</td>\n",
       "      <td>oscar s asleep</td>\n",
       "      <td>oscar asleep</td>\n",
       "    </tr>\n",
       "    <tr>\n",
       "      <th>...</th>\n",
       "      <td>...</td>\n",
       "      <td>...</td>\n",
       "      <td>...</td>\n",
       "      <td>...</td>\n",
       "    </tr>\n",
       "    <tr>\n",
       "      <th>10108</th>\n",
       "      <td>What's going on Gal? What's going on? I don't ...</td>\n",
       "      <td>0</td>\n",
       "      <td>what s going on gal what s going on i do n t u...</td>\n",
       "      <td>going gal going n understand mate said gon na ...</td>\n",
       "    </tr>\n",
       "    <tr>\n",
       "      <th>10109</th>\n",
       "      <td>Am I mad?  Have I completely lost it?</td>\n",
       "      <td>1</td>\n",
       "      <td>am i mad have i completely lost it</td>\n",
       "      <td>mad completely lost</td>\n",
       "    </tr>\n",
       "    <tr>\n",
       "      <th>10110</th>\n",
       "      <td>You're late.</td>\n",
       "      <td>0</td>\n",
       "      <td>you re late</td>\n",
       "      <td>late</td>\n",
       "    </tr>\n",
       "    <tr>\n",
       "      <th>10111</th>\n",
       "      <td>Ask your psycho Ex.</td>\n",
       "      <td>1</td>\n",
       "      <td>ask your psycho ex</td>\n",
       "      <td>ask psycho ex</td>\n",
       "    </tr>\n",
       "    <tr>\n",
       "      <th>10112</th>\n",
       "      <td>She's got an evening shift but I don't want to...</td>\n",
       "      <td>0</td>\n",
       "      <td>she s got an evening shift but i do n t want t...</td>\n",
       "      <td>got evening shift n want see sobered</td>\n",
       "    </tr>\n",
       "  </tbody>\n",
       "</table>\n",
       "<p>10113 rows × 4 columns</p>\n",
       "</div>"
      ],
      "text/plain": [
       "                                                    TEXT  gender  \\\n",
       "0                                       Someone had fun.       0   \n",
       "1      It's no problem, honestly. Go on, go and open ...       1   \n",
       "2      Last night was better than ever. What's all th...       0   \n",
       "3          Have you checked the answerphone?  Any calls?       0   \n",
       "4                                        Oscar's asleep.       0   \n",
       "...                                                  ...     ...   \n",
       "10108  What's going on Gal? What's going on? I don't ...       0   \n",
       "10109              Am I mad?  Have I completely lost it?       1   \n",
       "10110                                       You're late.       0   \n",
       "10111                                Ask your psycho Ex.       1   \n",
       "10112  She's got an evening shift but I don't want to...       0   \n",
       "\n",
       "                                              clean_text  \\\n",
       "0                                        someone had fun   \n",
       "1      it s no problem honestly go on go and open the...   \n",
       "2      last night was better than ever what s all thi...   \n",
       "3             have you checked the answerphone any calls   \n",
       "4                                         oscar s asleep   \n",
       "...                                                  ...   \n",
       "10108  what s going on gal what s going on i do n t u...   \n",
       "10109                 am i mad have i completely lost it   \n",
       "10110                                        you re late   \n",
       "10111                                 ask your psycho ex   \n",
       "10112  she s got an evening shift but i do n t want t...   \n",
       "\n",
       "                                       preprocessed_text  \n",
       "0                                            someone fun  \n",
       "1          problem honestly go go open launderette leave  \n",
       "2            last night better ever anything interesting  \n",
       "3                               checked answerphone call  \n",
       "4                                           oscar asleep  \n",
       "...                                                  ...  \n",
       "10108  going gal going n understand mate said gon na ...  \n",
       "10109                                mad completely lost  \n",
       "10110                                               late  \n",
       "10111                                      ask psycho ex  \n",
       "10112               got evening shift n want see sobered  \n",
       "\n",
       "[10113 rows x 4 columns]"
      ]
     },
     "execution_count": 6,
     "metadata": {},
     "output_type": "execute_result"
    }
   ],
   "source": [
    "\n",
    "raw_df['clean_text']= raw_df['TEXT'].apply(lambda x: pre_process(x, punc=True,norm=True))\n",
    "raw_df['preprocessed_text']= raw_df['TEXT'].apply(lambda x: \n",
    "                                               pre_process(x, lemm=True, norm=True, punc=True,\n",
    "                                                          stopwords=True))\n",
    "raw_df"
   ]
  },
  {
   "cell_type": "markdown",
   "metadata": {},
   "source": [
    "## Section 3: Data exploration\n",
    "\n",
    "Structural characteristics and dimensions of the text were evaluated as features for the model. The features that were considered were:\n",
    "- Word count\n",
    "- Character count\n",
    "- Average word length"
   ]
  },
  {
   "cell_type": "markdown",
   "metadata": {},
   "source": [
    "###### Sentence feature analysis \n",
    "\n",
    "The relationship between gender and the word count was investigated."
   ]
  },
  {
   "cell_type": "code",
   "execution_count": 7,
   "metadata": {},
   "outputs": [
    {
     "data": {
      "text/html": [
       "<div>\n",
       "<style scoped>\n",
       "    .dataframe tbody tr th:only-of-type {\n",
       "        vertical-align: middle;\n",
       "    }\n",
       "\n",
       "    .dataframe tbody tr th {\n",
       "        vertical-align: top;\n",
       "    }\n",
       "\n",
       "    .dataframe thead th {\n",
       "        text-align: right;\n",
       "    }\n",
       "</style>\n",
       "<table border=\"1\" class=\"dataframe\">\n",
       "  <thead>\n",
       "    <tr style=\"text-align: right;\">\n",
       "      <th></th>\n",
       "      <th>TEXT</th>\n",
       "      <th>gender</th>\n",
       "      <th>clean_text</th>\n",
       "      <th>preprocessed_text</th>\n",
       "      <th>word_count</th>\n",
       "      <th>character_count</th>\n",
       "      <th>avg_word_length</th>\n",
       "    </tr>\n",
       "  </thead>\n",
       "  <tbody>\n",
       "    <tr>\n",
       "      <th>0</th>\n",
       "      <td>Someone had fun.</td>\n",
       "      <td>0</td>\n",
       "      <td>someone had fun</td>\n",
       "      <td>someone fun</td>\n",
       "      <td>3</td>\n",
       "      <td>14</td>\n",
       "      <td>4.666667</td>\n",
       "    </tr>\n",
       "    <tr>\n",
       "      <th>1</th>\n",
       "      <td>It's no problem, honestly. Go on, go and open ...</td>\n",
       "      <td>1</td>\n",
       "      <td>it s no problem honestly go on go and open the...</td>\n",
       "      <td>problem honestly go go open launderette leave</td>\n",
       "      <td>16</td>\n",
       "      <td>66</td>\n",
       "      <td>4.125000</td>\n",
       "    </tr>\n",
       "    <tr>\n",
       "      <th>2</th>\n",
       "      <td>Last night was better than ever. What's all th...</td>\n",
       "      <td>0</td>\n",
       "      <td>last night was better than ever what s all thi...</td>\n",
       "      <td>last night better ever anything interesting</td>\n",
       "      <td>12</td>\n",
       "      <td>61</td>\n",
       "      <td>5.083333</td>\n",
       "    </tr>\n",
       "    <tr>\n",
       "      <th>3</th>\n",
       "      <td>Have you checked the answerphone?  Any calls?</td>\n",
       "      <td>0</td>\n",
       "      <td>have you checked the answerphone any calls</td>\n",
       "      <td>checked answerphone call</td>\n",
       "      <td>8</td>\n",
       "      <td>38</td>\n",
       "      <td>4.750000</td>\n",
       "    </tr>\n",
       "    <tr>\n",
       "      <th>4</th>\n",
       "      <td>Oscar's asleep.</td>\n",
       "      <td>0</td>\n",
       "      <td>oscar s asleep</td>\n",
       "      <td>oscar asleep</td>\n",
       "      <td>2</td>\n",
       "      <td>14</td>\n",
       "      <td>7.000000</td>\n",
       "    </tr>\n",
       "  </tbody>\n",
       "</table>\n",
       "</div>"
      ],
      "text/plain": [
       "                                                TEXT  gender  \\\n",
       "0                                   Someone had fun.       0   \n",
       "1  It's no problem, honestly. Go on, go and open ...       1   \n",
       "2  Last night was better than ever. What's all th...       0   \n",
       "3      Have you checked the answerphone?  Any calls?       0   \n",
       "4                                    Oscar's asleep.       0   \n",
       "\n",
       "                                          clean_text  \\\n",
       "0                                    someone had fun   \n",
       "1  it s no problem honestly go on go and open the...   \n",
       "2  last night was better than ever what s all thi...   \n",
       "3         have you checked the answerphone any calls   \n",
       "4                                     oscar s asleep   \n",
       "\n",
       "                               preprocessed_text  word_count  character_count  \\\n",
       "0                                    someone fun           3               14   \n",
       "1  problem honestly go go open launderette leave          16               66   \n",
       "2    last night better ever anything interesting          12               61   \n",
       "3                       checked answerphone call           8               38   \n",
       "4                                   oscar asleep           2               14   \n",
       "\n",
       "   avg_word_length  \n",
       "0         4.666667  \n",
       "1         4.125000  \n",
       "2         5.083333  \n",
       "3         4.750000  \n",
       "4         7.000000  "
      ]
     },
     "execution_count": 7,
     "metadata": {},
     "output_type": "execute_result"
    }
   ],
   "source": [
    "raw_df['word_count'] = raw_df['TEXT'].apply(lambda x: len(x.split(\" \")))\n",
    "raw_df['character_count'] = raw_df['TEXT'].apply(lambda x: sum(len(word) for word in x.split(' ')))\n",
    "raw_df['avg_word_length'] = raw_df['character_count']/raw_df['word_count']\n",
    "raw_df.head()"
   ]
  },
  {
   "cell_type": "markdown",
   "metadata": {},
   "source": [
    "The below table shows the relationship between gender and features of the text."
   ]
  },
  {
   "cell_type": "code",
   "execution_count": 8,
   "metadata": {},
   "outputs": [
    {
     "data": {
      "text/html": [
       "<div>\n",
       "<style scoped>\n",
       "    .dataframe tbody tr th:only-of-type {\n",
       "        vertical-align: middle;\n",
       "    }\n",
       "\n",
       "    .dataframe tbody tr th {\n",
       "        vertical-align: top;\n",
       "    }\n",
       "\n",
       "    .dataframe thead th {\n",
       "        text-align: right;\n",
       "    }\n",
       "</style>\n",
       "<table border=\"1\" class=\"dataframe\">\n",
       "  <thead>\n",
       "    <tr style=\"text-align: right;\">\n",
       "      <th></th>\n",
       "      <th>male</th>\n",
       "      <th>female</th>\n",
       "    </tr>\n",
       "  </thead>\n",
       "  <tbody>\n",
       "    <tr>\n",
       "      <th>word_count</th>\n",
       "      <td>10.655383</td>\n",
       "      <td>10.218601</td>\n",
       "    </tr>\n",
       "    <tr>\n",
       "      <th>character_count</th>\n",
       "      <td>43.510726</td>\n",
       "      <td>41.506558</td>\n",
       "    </tr>\n",
       "    <tr>\n",
       "      <th>avg_word_length</th>\n",
       "      <td>4.300346</td>\n",
       "      <td>4.253668</td>\n",
       "    </tr>\n",
       "  </tbody>\n",
       "</table>\n",
       "</div>"
      ],
      "text/plain": [
       "                      male     female\n",
       "word_count       10.655383  10.218601\n",
       "character_count  43.510726  41.506558\n",
       "avg_word_length   4.300346   4.253668"
      ]
     },
     "execution_count": 8,
     "metadata": {},
     "output_type": "execute_result"
    }
   ],
   "source": [
    "sent_analysis_lst=['word_count', 'character_count', 'avg_word_length']\n",
    "sent_analysis_df = raw_df.groupby('gender')[sent_analysis_lst].mean().T\n",
    "sent_analysis_df.columns=['male', 'female']\n",
    "sent_analysis_df"
   ]
  },
  {
   "cell_type": "markdown",
   "metadata": {},
   "source": [
    "The table shows that there was difference between the genders in all three features and therefore were considered to be used within the classifier."
   ]
  },
  {
   "cell_type": "markdown",
   "metadata": {},
   "source": [
    "###### Sentiment analysis\n",
    "\n",
    "Using the pre-trained model, TextBlob, the sentiment of the text was analysed as a potential feature for the model. The table below shows the averages of the sentiment and subjectivity of between the genders. There is a small difference between the genders, and so the sentiment was considered as a potential feature.  \n"
   ]
  },
  {
   "cell_type": "code",
   "execution_count": 9,
   "metadata": {},
   "outputs": [
    {
     "data": {
      "text/html": [
       "<div>\n",
       "<style scoped>\n",
       "    .dataframe tbody tr th:only-of-type {\n",
       "        vertical-align: middle;\n",
       "    }\n",
       "\n",
       "    .dataframe tbody tr th {\n",
       "        vertical-align: top;\n",
       "    }\n",
       "\n",
       "    .dataframe thead th {\n",
       "        text-align: right;\n",
       "    }\n",
       "</style>\n",
       "<table border=\"1\" class=\"dataframe\">\n",
       "  <thead>\n",
       "    <tr style=\"text-align: right;\">\n",
       "      <th></th>\n",
       "      <th>polarity_</th>\n",
       "      <th>subjectivity_</th>\n",
       "    </tr>\n",
       "  </thead>\n",
       "  <tbody>\n",
       "    <tr>\n",
       "      <th>male</th>\n",
       "      <td>0.043328</td>\n",
       "      <td>0.235298</td>\n",
       "    </tr>\n",
       "    <tr>\n",
       "      <th>female</th>\n",
       "      <td>0.041879</td>\n",
       "      <td>0.233380</td>\n",
       "    </tr>\n",
       "  </tbody>\n",
       "</table>\n",
       "</div>"
      ],
      "text/plain": [
       "        polarity_  subjectivity_\n",
       "male     0.043328       0.235298\n",
       "female   0.041879       0.233380"
      ]
     },
     "execution_count": 9,
     "metadata": {},
     "output_type": "execute_result"
    }
   ],
   "source": [
    "raw_df[\"polarity_\"] = raw_df['TEXT'].apply(lambda x: TextBlob(x).sentiment.polarity)\n",
    "raw_df[\"subjectivity_\"] = raw_df['TEXT'].apply(lambda x: TextBlob(x).sentiment.subjectivity)\n",
    "\n",
    "sentiments = ['polarity_', 'subjectivity_']\n",
    "\n",
    "sentiment_df = raw_df.groupby('gender')[sentiments].mean()\n",
    "sentiment_df.index=['male', 'female']\n",
    "\n",
    "sentiment_df"
   ]
  },
  {
   "cell_type": "markdown",
   "metadata": {},
   "source": [
    "###### Punctuation \n",
    "The difference in punctuation between the genders was explored as feature. The following punctuation elements were evaluated.\n",
    " - Question marks (?)\n",
    " - Exclamation marks (!)\n",
    " - Pauses (...)\n",
    " \n",
    "As there differences between the genders, they were used as features when testing the model."
   ]
  },
  {
   "cell_type": "code",
   "execution_count": 10,
   "metadata": {},
   "outputs": [
    {
     "data": {
      "text/html": [
       "<div>\n",
       "<style scoped>\n",
       "    .dataframe tbody tr th:only-of-type {\n",
       "        vertical-align: middle;\n",
       "    }\n",
       "\n",
       "    .dataframe tbody tr th {\n",
       "        vertical-align: top;\n",
       "    }\n",
       "\n",
       "    .dataframe thead th {\n",
       "        text-align: right;\n",
       "    }\n",
       "</style>\n",
       "<table border=\"1\" class=\"dataframe\">\n",
       "  <thead>\n",
       "    <tr style=\"text-align: right;\">\n",
       "      <th></th>\n",
       "      <th>question_marks_</th>\n",
       "      <th>exclamation_marks_</th>\n",
       "      <th>pauses_</th>\n",
       "    </tr>\n",
       "    <tr>\n",
       "      <th>gender</th>\n",
       "      <th></th>\n",
       "      <th></th>\n",
       "      <th></th>\n",
       "    </tr>\n",
       "  </thead>\n",
       "  <tbody>\n",
       "    <tr>\n",
       "      <th>0</th>\n",
       "      <td>0.426884</td>\n",
       "      <td>0.050581</td>\n",
       "      <td>0.130289</td>\n",
       "    </tr>\n",
       "    <tr>\n",
       "      <th>1</th>\n",
       "      <td>0.369038</td>\n",
       "      <td>0.063196</td>\n",
       "      <td>0.125994</td>\n",
       "    </tr>\n",
       "  </tbody>\n",
       "</table>\n",
       "</div>"
      ],
      "text/plain": [
       "        question_marks_  exclamation_marks_   pauses_\n",
       "gender                                               \n",
       "0              0.426884            0.050581  0.130289\n",
       "1              0.369038            0.063196  0.125994"
      ]
     },
     "execution_count": 10,
     "metadata": {},
     "output_type": "execute_result"
    }
   ],
   "source": [
    "raw_df['question_marks_'] = raw_df['TEXT'].apply(lambda x: x.count('?'))\n",
    "raw_df['exclamation_marks_'] = raw_df['TEXT'].apply(lambda x: x.count('!'))\n",
    "raw_df['pauses_'] = raw_df['TEXT'].apply(lambda x: x.count('...'))\n",
    "\n",
    "punc_list = ['question_marks_', 'exclamation_marks_', 'pauses_']\n",
    "question_df = pd.DataFrame(raw_df.groupby('gender')[punc_list].mean())\n",
    "\n",
    "question_df\n"
   ]
  },
  {
   "cell_type": "markdown",
   "metadata": {},
   "source": [
    "###### Empty lines\n",
    "\n",
    "Although uncommon, there were a few empty lines in the training data with women more likely to have empty lines."
   ]
  },
  {
   "cell_type": "code",
   "execution_count": 11,
   "metadata": {},
   "outputs": [
    {
     "data": {
      "text/plain": [
       "1    23\n",
       "0    19\n",
       "Name: gender, dtype: int64"
      ]
     },
     "execution_count": 11,
     "metadata": {},
     "output_type": "execute_result"
    }
   ],
   "source": [
    "empty_line_df = raw_df[raw_df['TEXT']=='']\n",
    "empty_line_df['gender'].value_counts()"
   ]
  },
  {
   "cell_type": "code",
   "execution_count": 12,
   "metadata": {},
   "outputs": [
    {
     "data": {
      "text/html": [
       "<div>\n",
       "<style scoped>\n",
       "    .dataframe tbody tr th:only-of-type {\n",
       "        vertical-align: middle;\n",
       "    }\n",
       "\n",
       "    .dataframe tbody tr th {\n",
       "        vertical-align: top;\n",
       "    }\n",
       "\n",
       "    .dataframe thead th {\n",
       "        text-align: right;\n",
       "    }\n",
       "</style>\n",
       "<table border=\"1\" class=\"dataframe\">\n",
       "  <thead>\n",
       "    <tr style=\"text-align: right;\">\n",
       "      <th></th>\n",
       "      <th>TEXT</th>\n",
       "      <th>gender</th>\n",
       "      <th>clean_text</th>\n",
       "      <th>preprocessed_text</th>\n",
       "      <th>word_count</th>\n",
       "      <th>character_count</th>\n",
       "      <th>avg_word_length</th>\n",
       "      <th>polarity_</th>\n",
       "      <th>subjectivity_</th>\n",
       "      <th>question_marks_</th>\n",
       "      <th>exclamation_marks_</th>\n",
       "      <th>pauses_</th>\n",
       "      <th>empty_line</th>\n",
       "    </tr>\n",
       "  </thead>\n",
       "  <tbody>\n",
       "    <tr>\n",
       "      <th>0</th>\n",
       "      <td>Someone had fun.</td>\n",
       "      <td>0</td>\n",
       "      <td>someone had fun</td>\n",
       "      <td>someone fun</td>\n",
       "      <td>3</td>\n",
       "      <td>14</td>\n",
       "      <td>4.666667</td>\n",
       "      <td>0.300000</td>\n",
       "      <td>0.200000</td>\n",
       "      <td>0</td>\n",
       "      <td>0</td>\n",
       "      <td>0</td>\n",
       "      <td>0</td>\n",
       "    </tr>\n",
       "    <tr>\n",
       "      <th>1</th>\n",
       "      <td>It's no problem, honestly. Go on, go and open ...</td>\n",
       "      <td>1</td>\n",
       "      <td>it s no problem honestly go on go and open the...</td>\n",
       "      <td>problem honestly go go open launderette leave</td>\n",
       "      <td>16</td>\n",
       "      <td>66</td>\n",
       "      <td>4.125000</td>\n",
       "      <td>0.300000</td>\n",
       "      <td>0.700000</td>\n",
       "      <td>0</td>\n",
       "      <td>0</td>\n",
       "      <td>0</td>\n",
       "      <td>0</td>\n",
       "    </tr>\n",
       "    <tr>\n",
       "      <th>2</th>\n",
       "      <td>Last night was better than ever. What's all th...</td>\n",
       "      <td>0</td>\n",
       "      <td>last night was better than ever what s all thi...</td>\n",
       "      <td>last night better ever anything interesting</td>\n",
       "      <td>12</td>\n",
       "      <td>61</td>\n",
       "      <td>5.083333</td>\n",
       "      <td>0.333333</td>\n",
       "      <td>0.355556</td>\n",
       "      <td>2</td>\n",
       "      <td>0</td>\n",
       "      <td>0</td>\n",
       "      <td>0</td>\n",
       "    </tr>\n",
       "    <tr>\n",
       "      <th>3</th>\n",
       "      <td>Have you checked the answerphone?  Any calls?</td>\n",
       "      <td>0</td>\n",
       "      <td>have you checked the answerphone any calls</td>\n",
       "      <td>checked answerphone call</td>\n",
       "      <td>8</td>\n",
       "      <td>38</td>\n",
       "      <td>4.750000</td>\n",
       "      <td>0.000000</td>\n",
       "      <td>0.000000</td>\n",
       "      <td>2</td>\n",
       "      <td>0</td>\n",
       "      <td>0</td>\n",
       "      <td>0</td>\n",
       "    </tr>\n",
       "    <tr>\n",
       "      <th>4</th>\n",
       "      <td>Oscar's asleep.</td>\n",
       "      <td>0</td>\n",
       "      <td>oscar s asleep</td>\n",
       "      <td>oscar asleep</td>\n",
       "      <td>2</td>\n",
       "      <td>14</td>\n",
       "      <td>7.000000</td>\n",
       "      <td>0.000000</td>\n",
       "      <td>0.000000</td>\n",
       "      <td>0</td>\n",
       "      <td>0</td>\n",
       "      <td>0</td>\n",
       "      <td>0</td>\n",
       "    </tr>\n",
       "  </tbody>\n",
       "</table>\n",
       "</div>"
      ],
      "text/plain": [
       "                                                TEXT  gender  \\\n",
       "0                                   Someone had fun.       0   \n",
       "1  It's no problem, honestly. Go on, go and open ...       1   \n",
       "2  Last night was better than ever. What's all th...       0   \n",
       "3      Have you checked the answerphone?  Any calls?       0   \n",
       "4                                    Oscar's asleep.       0   \n",
       "\n",
       "                                          clean_text  \\\n",
       "0                                    someone had fun   \n",
       "1  it s no problem honestly go on go and open the...   \n",
       "2  last night was better than ever what s all thi...   \n",
       "3         have you checked the answerphone any calls   \n",
       "4                                     oscar s asleep   \n",
       "\n",
       "                               preprocessed_text  word_count  character_count  \\\n",
       "0                                    someone fun           3               14   \n",
       "1  problem honestly go go open launderette leave          16               66   \n",
       "2    last night better ever anything interesting          12               61   \n",
       "3                       checked answerphone call           8               38   \n",
       "4                                   oscar asleep           2               14   \n",
       "\n",
       "   avg_word_length  polarity_  subjectivity_  question_marks_  \\\n",
       "0         4.666667   0.300000       0.200000                0   \n",
       "1         4.125000   0.300000       0.700000                0   \n",
       "2         5.083333   0.333333       0.355556                2   \n",
       "3         4.750000   0.000000       0.000000                2   \n",
       "4         7.000000   0.000000       0.000000                0   \n",
       "\n",
       "   exclamation_marks_  pauses_  empty_line  \n",
       "0                   0        0           0  \n",
       "1                   0        0           0  \n",
       "2                   0        0           0  \n",
       "3                   0        0           0  \n",
       "4                   0        0           0  "
      ]
     },
     "execution_count": 12,
     "metadata": {},
     "output_type": "execute_result"
    }
   ],
   "source": [
    "raw_df['empty_line'] = [1 if x =='' else 0 for x in raw_df['TEXT']]\n",
    "\n",
    "raw_df.head()"
   ]
  },
  {
   "cell_type": "markdown",
   "metadata": {},
   "source": [
    "## Section 4: Splitting data\n"
   ]
  },
  {
   "cell_type": "code",
   "execution_count": 13,
   "metadata": {},
   "outputs": [],
   "source": [
    "processed_df = raw_df.copy()\n",
    "y = processed_df['gender']\n",
    "X = processed_df.drop(['gender'], axis=1)\n",
    "\n",
    "X_train, X_test, y_train, y_test = train_test_split(X, y, test_size=0.20, \n",
    "                                                    random_state=42)"
   ]
  },
  {
   "cell_type": "code",
   "execution_count": 14,
   "metadata": {},
   "outputs": [
    {
     "data": {
      "text/html": [
       "<div>\n",
       "<style scoped>\n",
       "    .dataframe tbody tr th:only-of-type {\n",
       "        vertical-align: middle;\n",
       "    }\n",
       "\n",
       "    .dataframe tbody tr th {\n",
       "        vertical-align: top;\n",
       "    }\n",
       "\n",
       "    .dataframe thead th {\n",
       "        text-align: right;\n",
       "    }\n",
       "</style>\n",
       "<table border=\"1\" class=\"dataframe\">\n",
       "  <thead>\n",
       "    <tr style=\"text-align: right;\">\n",
       "      <th></th>\n",
       "      <th>TEXT</th>\n",
       "      <th>clean_text</th>\n",
       "      <th>preprocessed_text</th>\n",
       "      <th>word_count</th>\n",
       "      <th>character_count</th>\n",
       "      <th>avg_word_length</th>\n",
       "      <th>polarity_</th>\n",
       "      <th>subjectivity_</th>\n",
       "      <th>question_marks_</th>\n",
       "      <th>exclamation_marks_</th>\n",
       "      <th>pauses_</th>\n",
       "      <th>empty_line</th>\n",
       "    </tr>\n",
       "  </thead>\n",
       "  <tbody>\n",
       "    <tr>\n",
       "      <th>0</th>\n",
       "      <td>Someone had fun.</td>\n",
       "      <td>someone had fun</td>\n",
       "      <td>someone fun</td>\n",
       "      <td>3</td>\n",
       "      <td>14</td>\n",
       "      <td>4.666667</td>\n",
       "      <td>0.300000</td>\n",
       "      <td>0.200000</td>\n",
       "      <td>0</td>\n",
       "      <td>0</td>\n",
       "      <td>0</td>\n",
       "      <td>0</td>\n",
       "    </tr>\n",
       "    <tr>\n",
       "      <th>1</th>\n",
       "      <td>It's no problem, honestly. Go on, go and open ...</td>\n",
       "      <td>it s no problem honestly go on go and open the...</td>\n",
       "      <td>problem honestly go go open launderette leave</td>\n",
       "      <td>16</td>\n",
       "      <td>66</td>\n",
       "      <td>4.125000</td>\n",
       "      <td>0.300000</td>\n",
       "      <td>0.700000</td>\n",
       "      <td>0</td>\n",
       "      <td>0</td>\n",
       "      <td>0</td>\n",
       "      <td>0</td>\n",
       "    </tr>\n",
       "    <tr>\n",
       "      <th>2</th>\n",
       "      <td>Last night was better than ever. What's all th...</td>\n",
       "      <td>last night was better than ever what s all thi...</td>\n",
       "      <td>last night better ever anything interesting</td>\n",
       "      <td>12</td>\n",
       "      <td>61</td>\n",
       "      <td>5.083333</td>\n",
       "      <td>0.333333</td>\n",
       "      <td>0.355556</td>\n",
       "      <td>2</td>\n",
       "      <td>0</td>\n",
       "      <td>0</td>\n",
       "      <td>0</td>\n",
       "    </tr>\n",
       "    <tr>\n",
       "      <th>3</th>\n",
       "      <td>Have you checked the answerphone?  Any calls?</td>\n",
       "      <td>have you checked the answerphone any calls</td>\n",
       "      <td>checked answerphone call</td>\n",
       "      <td>8</td>\n",
       "      <td>38</td>\n",
       "      <td>4.750000</td>\n",
       "      <td>0.000000</td>\n",
       "      <td>0.000000</td>\n",
       "      <td>2</td>\n",
       "      <td>0</td>\n",
       "      <td>0</td>\n",
       "      <td>0</td>\n",
       "    </tr>\n",
       "    <tr>\n",
       "      <th>4</th>\n",
       "      <td>Oscar's asleep.</td>\n",
       "      <td>oscar s asleep</td>\n",
       "      <td>oscar asleep</td>\n",
       "      <td>2</td>\n",
       "      <td>14</td>\n",
       "      <td>7.000000</td>\n",
       "      <td>0.000000</td>\n",
       "      <td>0.000000</td>\n",
       "      <td>0</td>\n",
       "      <td>0</td>\n",
       "      <td>0</td>\n",
       "      <td>0</td>\n",
       "    </tr>\n",
       "  </tbody>\n",
       "</table>\n",
       "</div>"
      ],
      "text/plain": [
       "                                                TEXT  \\\n",
       "0                                   Someone had fun.   \n",
       "1  It's no problem, honestly. Go on, go and open ...   \n",
       "2  Last night was better than ever. What's all th...   \n",
       "3      Have you checked the answerphone?  Any calls?   \n",
       "4                                    Oscar's asleep.   \n",
       "\n",
       "                                          clean_text  \\\n",
       "0                                    someone had fun   \n",
       "1  it s no problem honestly go on go and open the...   \n",
       "2  last night was better than ever what s all thi...   \n",
       "3         have you checked the answerphone any calls   \n",
       "4                                     oscar s asleep   \n",
       "\n",
       "                               preprocessed_text  word_count  character_count  \\\n",
       "0                                    someone fun           3               14   \n",
       "1  problem honestly go go open launderette leave          16               66   \n",
       "2    last night better ever anything interesting          12               61   \n",
       "3                       checked answerphone call           8               38   \n",
       "4                                   oscar asleep           2               14   \n",
       "\n",
       "   avg_word_length  polarity_  subjectivity_  question_marks_  \\\n",
       "0         4.666667   0.300000       0.200000                0   \n",
       "1         4.125000   0.300000       0.700000                0   \n",
       "2         5.083333   0.333333       0.355556                2   \n",
       "3         4.750000   0.000000       0.000000                2   \n",
       "4         7.000000   0.000000       0.000000                0   \n",
       "\n",
       "   exclamation_marks_  pauses_  empty_line  \n",
       "0                   0        0           0  \n",
       "1                   0        0           0  \n",
       "2                   0        0           0  \n",
       "3                   0        0           0  \n",
       "4                   0        0           0  "
      ]
     },
     "execution_count": 14,
     "metadata": {},
     "output_type": "execute_result"
    }
   ],
   "source": [
    "X.head()"
   ]
  },
  {
   "cell_type": "markdown",
   "metadata": {},
   "source": [
    "## Section 5: Model testing and analysis\n",
    "\n",
    "A selector transformer was made to return either a numerical or categorical column.\n",
    "\n",
    "The features that are numerical were grouped together for use in feature analysis and are shown below"
   ]
  },
  {
   "cell_type": "code",
   "execution_count": 15,
   "metadata": {},
   "outputs": [
    {
     "name": "stdout",
     "output_type": "stream",
     "text": [
      "Numerical columns are:\n",
      "['word_count', 'character_count', 'avg_word_length', 'polarity_', 'subjectivity_', 'question_marks_', 'exclamation_marks_', 'pauses_', 'empty_line']\n"
     ]
    }
   ],
   "source": [
    "numerical = list(X.select_dtypes('number').columns)\n",
    "print(f\"Numerical columns are:\\n{str(numerical)}\")\n"
   ]
  },
  {
   "cell_type": "code",
   "execution_count": 16,
   "metadata": {},
   "outputs": [],
   "source": [
    "from sklearn.pipeline import FeatureUnion\n",
    "from sklearn.base import BaseEstimator, TransformerMixin\n",
    "\n",
    "class TextSelector(BaseEstimator, TransformerMixin):\n",
    "    def __init__(self, columns):\n",
    "        self.columns = columns\n",
    "        \n",
    "    def fit(self, X, y=None):\n",
    "        return self\n",
    "    \n",
    "    def transform(self, X):\n",
    "        return X[self.columns]\n",
    "    \n",
    "    def get_feature_names(self):\n",
    "        return self.columns.tolist()\n",
    "    \n",
    "class NumSelector(BaseEstimator, TransformerMixin):\n",
    "    def __init__(self, columns):\n",
    "        self.columns = columns\n",
    "        \n",
    "    def fit(self, X, y=None):\n",
    "        return self\n",
    "    \n",
    "    def transform(self, X):\n",
    "        return X[[self.columns]]\n",
    "\n",
    "    def get_feature_names(self):\n",
    "        return self.columns.tolist()"
   ]
  },
  {
   "cell_type": "markdown",
   "metadata": {},
   "source": [
    "The preprocessed text was vectorized into a Bag of Words (BoW) model and subsequently transformed using TF-IDF. Features such as word count, polarity and pauses were then preprocessed using MinMaxScaler normalisation.\n",
    "\n",
    "All features were then joined in a feature union."
   ]
  },
  {
   "cell_type": "code",
   "execution_count": 17,
   "metadata": {},
   "outputs": [],
   "source": [
    "from sklearn.pipeline import Pipeline\n",
    "from sklearn.feature_extraction.text import CountVectorizer\n",
    "from sklearn.feature_extraction.text import TfidfTransformer\n",
    "from sklearn.preprocessing import StandardScaler\n",
    "from sklearn.preprocessing import MinMaxScaler\n",
    "from sklearn.linear_model import LogisticRegression\n",
    "from sklearn.ensemble import RandomForestClassifier\n",
    "from sklearn.tree import DecisionTreeClassifier\n",
    "\n",
    "from sklearn.metrics import f1_score\n",
    "\n",
    "\n",
    "pp_text = Pipeline([\n",
    "                ('selector', TextSelector(columns='preprocessed_text')),\n",
    "                ('bow', CountVectorizer()),\n",
    "                ('tfidf', TfidfTransformer())\n",
    "            ])"
   ]
  },
  {
   "cell_type": "code",
   "execution_count": 18,
   "metadata": {},
   "outputs": [],
   "source": [
    "word_count =  Pipeline([\n",
    "                ('selector', NumSelector(columns='word_count')),\n",
    "                ('min_max', MinMaxScaler())\n",
    "            ])\n",
    "character_count =  Pipeline([\n",
    "                ('selector', NumSelector(columns='character_count')),\n",
    "                ('min_max', MinMaxScaler())\n",
    "            ])\n",
    "avg_word_length =  Pipeline([\n",
    "                ('selector', NumSelector(columns='avg_word_length')),\n",
    "                ('min_max', MinMaxScaler())\n",
    "            ])\n",
    "polarity_ =  Pipeline([\n",
    "                ('selector', NumSelector(columns='polarity_')),\n",
    "                ('min_max', MinMaxScaler())\n",
    "            ])\n",
    "subjectivity_ =  Pipeline([\n",
    "                ('selector', NumSelector(columns='subjectivity_')),\n",
    "                ('min_max', MinMaxScaler())\n",
    "            ])\n",
    "question_marks_ =  Pipeline([\n",
    "                ('selector', NumSelector(columns='question_marks_')),\n",
    "                ('min_max', MinMaxScaler())\n",
    "            ])\n",
    "exclamation_marks_ =  Pipeline([\n",
    "                ('selector', NumSelector(columns='exclamation_marks_')),\n",
    "                ('min_max', MinMaxScaler())\n",
    "            ])\n",
    "pauses_ =  Pipeline([\n",
    "                ('selector', NumSelector(columns='pauses_')),\n",
    "                ('min_max', MinMaxScaler())\n",
    "            ])\n",
    "empty_line =  Pipeline([\n",
    "                ('selector', NumSelector(columns='empty_line')),\n",
    "                ('min_max', MinMaxScaler())\n",
    "            ])"
   ]
  },
  {
   "cell_type": "code",
   "execution_count": 19,
   "metadata": {},
   "outputs": [
    {
     "data": {
      "text/plain": [
       "<8090x4412 sparse matrix of type '<class 'numpy.float64'>'\n",
       "\twith 74759 stored elements in Compressed Sparse Row format>"
      ]
     },
     "execution_count": 19,
     "metadata": {},
     "output_type": "execute_result"
    }
   ],
   "source": [
    "feat_union = Pipeline([\n",
    "    ('feature_union', FeatureUnion(\n",
    "        [('pp_text', pp_text), \n",
    "        ('word_count', word_count),\n",
    "        ('character_count', character_count),\n",
    "        ('avg_word_length', avg_word_length),\n",
    "        ('polarity_', polarity_),\n",
    "        ('subjectivity_', subjectivity_),\n",
    "        ('question_marks_', question_marks_),\n",
    "        ('exclamation_marks_', exclamation_marks_),\n",
    "        ('pauses_', pauses_),\n",
    "        ('empty_line', empty_line)]))])\n",
    "\n",
    "\n",
    "feat_processing = Pipeline([('feats', feat_union)])\n",
    "feat_processing.fit_transform(X_train)"
   ]
  },
  {
   "cell_type": "markdown",
   "metadata": {},
   "source": [
    "### Classifier selection:\n",
    "\n",
    "The following classifiers were evaluated:\n",
    "1. Random Forest Classifier\n",
    "2. Naive Bayes Classifier\n",
    "    1. Multinomial Naive Bayes\n",
    "    2. Complement Naive Bayes\n",
    "3. Logistic Regression\n",
    "4. Decision Tree\n",
    "5. Support Vector Machine\n",
    "\n",
    "#### Classifier 1: Random Forest Tree\n"
   ]
  },
  {
   "cell_type": "code",
   "execution_count": 20,
   "metadata": {},
   "outputs": [
    {
     "name": "stdout",
     "output_type": "stream",
     "text": [
      "Random Forest Classifier f-score: 0.5598\n",
      "\n",
      "              precision    recall  f1-score   support\n",
      "\n",
      "           0       0.56      0.57      0.57      1006\n",
      "           1       0.56      0.55      0.55      1017\n",
      "\n",
      "    accuracy                           0.56      2023\n",
      "   macro avg       0.56      0.56      0.56      2023\n",
      "weighted avg       0.56      0.56      0.56      2023\n",
      "\n"
     ]
    },
    {
     "data": {
      "image/png": "[encoded data removed]",
      "text/plain": [
       "<Figure size 432x288 with 1 Axes>"
      ]
     },
     "metadata": {
      "needs_background": "light"
     },
     "output_type": "display_data"
    }
   ],
   "source": [
    "# rfc pipeline\n",
    "rfc_pipeline = Pipeline([\n",
    "    ('features',feat_union),\n",
    "    ('classifier', RandomForestClassifier(random_state = 42)),\n",
    "])\n",
    "rfc_pipeline.fit(X_train, y_train)\n",
    "rfc_preds = rfc_pipeline.predict(X_test)\n",
    "\n",
    "# Cross validation for the f-score\n",
    "rfc_score = cross_val_score(rfc_pipeline, X, y, cv=5)\n",
    "print(f'Random Forest Classifier f-score: {rfc_score.mean():.4f}\\n')\n",
    "print(classification_report(y_test, rfc_preds))\n",
    "\n",
    "rfc_mat = confusion_matrix(y_test, rfc_preds)\n",
    "sns.heatmap(rfc_mat, annot=True, cbar=False, fmt='d',cmap=plt.cm.Oranges) \n",
    "plt.xlabel('predicted value')\n",
    "plt.ylabel('true value');\n"
   ]
  },
  {
   "cell_type": "markdown",
   "metadata": {},
   "source": [
    "#### Classifier 2a: Multinomial Naive Bayes Classifier\n",
    "Multinomial Naive Bayes was evaluated. The f-score and confusion matrix produced are given below."
   ]
  },
  {
   "cell_type": "code",
   "execution_count": 21,
   "metadata": {},
   "outputs": [
    {
     "name": "stdout",
     "output_type": "stream",
     "text": [
      "Multinomial Naive Bayes Classifier f-score: 0.5668\n",
      "\n",
      "              precision    recall  f1-score   support\n",
      "\n",
      "           0       0.56      0.60      0.58      1006\n",
      "           1       0.58      0.54      0.56      1017\n",
      "\n",
      "    accuracy                           0.57      2023\n",
      "   macro avg       0.57      0.57      0.57      2023\n",
      "weighted avg       0.57      0.57      0.57      2023\n",
      "\n"
     ]
    },
    {
     "data": {
      "image/png": "[encoded data removed]",
      "text/plain": [
       "<Figure size 432x288 with 1 Axes>"
      ]
     },
     "metadata": {
      "needs_background": "light"
     },
     "output_type": "display_data"
    }
   ],
   "source": [
    "# MNB pipeline\n",
    "MNB_pipeline = Pipeline([\n",
    "    ('features',feat_union),\n",
    "    ('classifier', MultinomialNB()),\n",
    "])\n",
    "MNB_pipeline.fit(X_train, y_train)\n",
    "MNB_preds = MNB_pipeline.predict(X_test)\n",
    "\n",
    "# Cross validation for the f-score\n",
    "MNB_score = cross_val_score(MNB_pipeline, X, y, cv=5)\n",
    "print(f'Multinomial Naive Bayes Classifier f-score: {MNB_score.mean():.4f}\\n')\n",
    "print(classification_report(y_test, MNB_preds))\n",
    "\n",
    "MNB_mat = confusion_matrix(y_test, MNB_preds)\n",
    "sns.heatmap(MNB_mat, annot=True, cbar=False, fmt='d',cmap=plt.cm.Oranges) \n",
    "plt.xlabel('predicted value')\n",
    "plt.ylabel('true value');\n"
   ]
  },
  {
   "cell_type": "markdown",
   "metadata": {},
   "source": [
    "#### Classifier 2b: Complement Naive Bayes Classifier\n",
    "Complement Naive Bayes is typically better with imbalanced data sets such as NLP. As the f-score and confusion matrix below show, it is an improvement on the Multinomial Naive Bayes model."
   ]
  },
  {
   "cell_type": "code",
   "execution_count": 22,
   "metadata": {},
   "outputs": [
    {
     "name": "stdout",
     "output_type": "stream",
     "text": [
      "Complement Naive Bayes Classifier f-score: 0.5702\n",
      "\n",
      "              precision    recall  f1-score   support\n",
      "\n",
      "           0       0.58      0.59      0.58      1006\n",
      "           1       0.59      0.58      0.58      1017\n",
      "\n",
      "    accuracy                           0.58      2023\n",
      "   macro avg       0.58      0.58      0.58      2023\n",
      "weighted avg       0.58      0.58      0.58      2023\n",
      "\n"
     ]
    },
    {
     "data": {
      "image/png": "[encoded data removed]",
      "text/plain": [
       "<Figure size 432x288 with 1 Axes>"
      ]
     },
     "metadata": {
      "needs_background": "light"
     },
     "output_type": "display_data"
    }
   ],
   "source": [
    "# CNB pipeline\n",
    "CNB_pipeline = Pipeline([\n",
    "    ('features',feat_union),\n",
    "    ('classifier', ComplementNB()),\n",
    "])\n",
    "CNB_pipeline.fit(X_train, y_train)\n",
    "CNB_preds = CNB_pipeline.predict(X_test)\n",
    "\n",
    "# Cross validation for the f-score\n",
    "CNB_score = cross_val_score(CNB_pipeline, X, y, cv=5)\n",
    "print(f'Complement Naive Bayes Classifier f-score: {CNB_score.mean():.4f}\\n')\n",
    "print(classification_report(y_test, CNB_preds))\n",
    "\n",
    "CNB_mat = confusion_matrix(y_test, CNB_preds)\n",
    "sns.heatmap(CNB_mat, annot=True, cbar=False, fmt='d',cmap=plt.cm.Oranges) \n",
    "plt.xlabel('predicted value')\n",
    "plt.ylabel('true value');\n"
   ]
  },
  {
   "cell_type": "markdown",
   "metadata": {},
   "source": [
    "#### Classifier 3: Logistic Regression Classifier \n"
   ]
  },
  {
   "cell_type": "code",
   "execution_count": 23,
   "metadata": {},
   "outputs": [
    {
     "name": "stdout",
     "output_type": "stream",
     "text": [
      "Logistic Regression Classifier f-score: 0.5685\n",
      "\n",
      "              precision    recall  f1-score   support\n",
      "\n",
      "           0       0.58      0.60      0.59      1006\n",
      "           1       0.59      0.57      0.58      1017\n",
      "\n",
      "    accuracy                           0.58      2023\n",
      "   macro avg       0.58      0.58      0.58      2023\n",
      "weighted avg       0.58      0.58      0.58      2023\n",
      "\n"
     ]
    },
    {
     "data": {
      "image/png": "[encoded data removed]",
      "text/plain": [
       "<Figure size 432x288 with 1 Axes>"
      ]
     },
     "metadata": {
      "needs_background": "light"
     },
     "output_type": "display_data"
    }
   ],
   "source": [
    "LR_pipeline = Pipeline([\n",
    "    ('features',feat_union),\n",
    "    ('classifier', LogisticRegression()),\n",
    "])\n",
    "LR_pipeline.fit(X_train, y_train)\n",
    "LR_preds = LR_pipeline.predict(X_test)\n",
    "\n",
    "# Cross validation for the f-score\n",
    "LR_score = cross_val_score(LR_pipeline, X, y, cv=5)\n",
    "print(f'Logistic Regression Classifier f-score: {LR_score.mean():.4f}\\n')\n",
    "print(classification_report(y_test, LR_preds))\n",
    "\n",
    "LR_mat = confusion_matrix(y_test, LR_preds)\n",
    "sns.heatmap(LR_mat, annot=True, cbar=False, fmt='d',cmap=plt.cm.Oranges) \n",
    "plt.xlabel('predicted value')\n",
    "plt.ylabel('true value');\n"
   ]
  },
  {
   "cell_type": "markdown",
   "metadata": {},
   "source": [
    "#### Classifier 4: Decision Tree\n"
   ]
  },
  {
   "cell_type": "code",
   "execution_count": 24,
   "metadata": {},
   "outputs": [
    {
     "name": "stdout",
     "output_type": "stream",
     "text": [
      "Decision Tree Classifier f-score: 0.5334\n",
      "\n",
      "              precision    recall  f1-score   support\n",
      "\n",
      "           0       0.52      0.53      0.52      1006\n",
      "           1       0.52      0.51      0.52      1017\n",
      "\n",
      "    accuracy                           0.52      2023\n",
      "   macro avg       0.52      0.52      0.52      2023\n",
      "weighted avg       0.52      0.52      0.52      2023\n",
      "\n"
     ]
    },
    {
     "data": {
      "image/png": "[encoded data removed]",
      "text/plain": [
       "<Figure size 432x288 with 1 Axes>"
      ]
     },
     "metadata": {
      "needs_background": "light"
     },
     "output_type": "display_data"
    }
   ],
   "source": [
    "DT_pipeline = Pipeline([\n",
    "    ('features',feat_union),\n",
    "    ('classifier', DecisionTreeClassifier()),\n",
    "])\n",
    "DT_pipeline.fit(X_train, y_train)\n",
    "DT_preds = DT_pipeline.predict(X_test)\n",
    "\n",
    "# Cross validation for the f-score\n",
    "DT_score = cross_val_score(DT_pipeline, X, y, cv=5)\n",
    "print(f'Decision Tree Classifier f-score: {DT_score.mean():.4f}\\n')\n",
    "print(classification_report(y_test, DT_preds))\n",
    "\n",
    "DT_mat = confusion_matrix(y_test, DT_preds)\n",
    "sns.heatmap(DT_mat, annot=True, cbar=False, fmt='d',cmap=plt.cm.Oranges) \n",
    "plt.xlabel('predicted value')\n",
    "plt.ylabel('true value');\n"
   ]
  },
  {
   "cell_type": "markdown",
   "metadata": {},
   "source": [
    "#### Classifier 5: Support Vector Machine\n"
   ]
  },
  {
   "cell_type": "code",
   "execution_count": 25,
   "metadata": {},
   "outputs": [
    {
     "name": "stdout",
     "output_type": "stream",
     "text": [
      "Support Vector Machine classifier f-score: 0.5595\n",
      "              precision    recall  f1-score   support\n",
      "\n",
      "           0       0.57      0.59      0.58      1006\n",
      "           1       0.58      0.56      0.57      1017\n",
      "\n",
      "    accuracy                           0.58      2023\n",
      "   macro avg       0.58      0.58      0.58      2023\n",
      "weighted avg       0.58      0.58      0.58      2023\n",
      "\n"
     ]
    }
   ],
   "source": [
    "SVM_pipeline = Pipeline([\n",
    "    ('features',feat_union),\n",
    "    ('classifier', LinearSVC()),\n",
    "])\n",
    "SVM_pipeline.fit(X_train, y_train)\n",
    "SVM_preds = SVM_pipeline.predict(X_test)\n",
    "\n",
    "# Cross validation for the f-score\n",
    "SVM_score = cross_val_score(SVM_pipeline, X, y, cv=5)\n",
    "print(f'Support Vector Machine classifier f-score: {SVM_score.mean():.4f}')\n",
    "print(classification_report(y_test, SVM_preds))"
   ]
  },
  {
   "cell_type": "code",
   "execution_count": 26,
   "metadata": {
    "scrolled": true
   },
   "outputs": [
    {
     "data": {
      "image/png": "[encoded data removed]",
      "text/plain": [
       "<Figure size 432x288 with 1 Axes>"
      ]
     },
     "metadata": {
      "needs_background": "light"
     },
     "output_type": "display_data"
    }
   ],
   "source": [
    "SVM_mat = confusion_matrix(y_test, SVM_preds)\n",
    "sns.heatmap(SVM_mat, annot=True, cbar=False, fmt='d',cmap=plt.cm.Oranges) \n",
    "plt.xlabel('predicted value')\n",
    "plt.ylabel('true value');"
   ]
  },
  {
   "cell_type": "markdown",
   "metadata": {},
   "source": [
    "### Hyperparameter Tuning\n",
    "The best two classifiers were logisitic regression and compliment naive bayes. The hyperparameters were tuned using gridsearch cross validation. These were then applied in a separate file to the test dataset.\n",
    "#### Complement Naive Bayes Classifier"
   ]
  },
  {
   "cell_type": "code",
   "execution_count": 27,
   "metadata": {},
   "outputs": [],
   "source": [
    "# selection of hyperparameters\n",
    "hyperparameters = { 'features__feature_union__pp_text__bow__max_df': [0.05, 0.25, 0.5,0.75, 0.95],\n",
    "                    'features__feature_union__pp_text__bow__ngram_range': [(1,1), (1,2), (1,3)],\n",
    "                    'features__feature_union__pp_text__bow__strip_accents':[None, 'ascii']\n",
    "                  }"
   ]
  },
  {
   "cell_type": "code",
   "execution_count": 28,
   "metadata": {},
   "outputs": [
    {
     "name": "stdout",
     "output_type": "stream",
     "text": [
      "The best parameters were:\n"
     ]
    },
    {
     "data": {
      "text/plain": [
       "{'features__feature_union__pp_text__bow__max_df': 0.25,\n",
       " 'features__feature_union__pp_text__bow__ngram_range': (1, 1),\n",
       " 'features__feature_union__pp_text__bow__strip_accents': 'ascii'}"
      ]
     },
     "metadata": {},
     "output_type": "display_data"
    },
    {
     "name": "stdout",
     "output_type": "stream",
     "text": [
      "\n",
      "CNB f-score: 0.5823\n",
      "\n",
      "              precision    recall  f1-score   support\n",
      "\n",
      "           0       0.58      0.59      0.58      1006\n",
      "           1       0.59      0.58      0.58      1017\n",
      "\n",
      "    accuracy                           0.58      2023\n",
      "   macro avg       0.58      0.58      0.58      2023\n",
      "weighted avg       0.58      0.58      0.58      2023\n",
      "\n"
     ]
    },
    {
     "data": {
      "image/png": "[encoded data removed]",
      "text/plain": [
       "<Figure size 432x288 with 1 Axes>"
      ]
     },
     "metadata": {
      "needs_background": "light"
     },
     "output_type": "display_data"
    }
   ],
   "source": [
    "CNB_clf = GridSearchCV(CNB_pipeline, hyperparameters, cv=5)\n",
    "\n",
    "# Fit and tune model\n",
    "CNB_clf.fit(X_train, y_train)\n",
    "\n",
    "# best parameters\n",
    "print('The best parameters were:')\n",
    "display(CNB_clf.best_params_)\n",
    "\n",
    "CNB_clf.refit\n",
    "CNB_preds = CNB_clf.predict(X_test)\n",
    "\n",
    "CNB_CV_score = np.mean(CNB_preds == y_test)\n",
    "print(f'\\nCNB f-score: {CNB_CV_score:.4f}\\n')\n",
    "print(classification_report(y_test, CNB_preds))\n",
    "\n",
    "CNB_best_mat = confusion_matrix(y_test, CNB_preds)\n",
    "sns.heatmap(CNB_best_mat, annot=True, cbar=False, fmt='d',cmap=plt.cm.Oranges) \n",
    "plt.xlabel('predicted value')\n",
    "plt.ylabel('true value');"
   ]
  },
  {
   "cell_type": "markdown",
   "metadata": {},
   "source": [
    "#### Logistic Regression Classifier \n"
   ]
  },
  {
   "cell_type": "code",
   "execution_count": 29,
   "metadata": {},
   "outputs": [
    {
     "name": "stdout",
     "output_type": "stream",
     "text": [
      "The best parameters were:\n"
     ]
    },
    {
     "data": {
      "text/plain": [
       "{'features__feature_union__pp_text__bow__max_df': 0.05,\n",
       " 'features__feature_union__pp_text__bow__ngram_range': (1, 2),\n",
       " 'features__feature_union__pp_text__bow__strip_accents': None}"
      ]
     },
     "metadata": {},
     "output_type": "display_data"
    },
    {
     "name": "stdout",
     "output_type": "stream",
     "text": [
      "\n",
      "CNB f-score: 0.5734\n",
      "\n",
      "              precision    recall  f1-score   support\n",
      "\n",
      "           0       0.57      0.59      0.58      1006\n",
      "           1       0.58      0.56      0.57      1017\n",
      "\n",
      "    accuracy                           0.57      2023\n",
      "   macro avg       0.57      0.57      0.57      2023\n",
      "weighted avg       0.57      0.57      0.57      2023\n",
      "\n"
     ]
    },
    {
     "data": {
      "image/png": "[encoded data removed]",
      "text/plain": [
       "<Figure size 432x288 with 1 Axes>"
      ]
     },
     "metadata": {
      "needs_background": "light"
     },
     "output_type": "display_data"
    }
   ],
   "source": [
    "LR_clf = GridSearchCV(LR_pipeline, hyperparameters, cv=5)\n",
    " \n",
    "# Fit and tune model\n",
    "LR_clf.fit(X_train, y_train)\n",
    "\n",
    "# best parameters\n",
    "print('The best parameters were:')\n",
    "display(LR_clf.best_params_)\n",
    "\n",
    "LR_clf.refit\n",
    "LR_preds = LR_clf.predict(X_test)\n",
    "\n",
    "LR_CV_score = np.mean(LR_preds == y_test)\n",
    "print(f'\\nCNB f-score: {LR_CV_score:.4f}\\n')\n",
    "print(classification_report(y_test, LR_preds))\n",
    "\n",
    "LR_best_mat = confusion_matrix(y_test, LR_preds)\n",
    "sns.heatmap(LR_best_mat, annot=True, cbar=False, fmt='d',cmap=plt.cm.Oranges) \n",
    "plt.xlabel('predicted value')\n",
    "plt.ylabel('true value');\n"
   ]
  },
  {
   "cell_type": "markdown",
   "metadata": {},
   "source": [
    "Using the training dataset, the best classifer was found to be complement naive bayes."
   ]
  },
  {
   "cell_type": "code",
   "execution_count": null,
   "metadata": {},
   "outputs": [],
   "source": []
  },
  {
   "cell_type": "code",
   "execution_count": null,
   "metadata": {},
   "outputs": [],
   "source": []
  },
  {
   "cell_type": "code",
   "execution_count": null,
   "metadata": {},
   "outputs": [],
   "source": []
  },
  {
   "cell_type": "code",
   "execution_count": null,
   "metadata": {},
   "outputs": [],
   "source": []
  }
 ],
 "metadata": {
  "kernelspec": {
   "display_name": "Python 3",
   "language": "python",
   "name": "python3"
  },
  "language_info": {
   "codemirror_mode": {
    "name": "ipython",
    "version": 3
   },
   "file_extension": ".py",
   "mimetype": "text/x-python",
   "name": "python",
   "nbconvert_exporter": "python",
   "pygments_lexer": "ipython3",
   "version": "3.8.5"
  }
 },
 "nbformat": 4,
 "nbformat_minor": 4
}
