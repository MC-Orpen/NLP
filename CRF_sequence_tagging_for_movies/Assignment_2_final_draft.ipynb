{
 "cells": [
  {
   "cell_type": "markdown",
   "metadata": {},
   "source": [
    "# Assignment 2: CRF sequence tagging for Move Queries"
   ]
  },
  {
   "cell_type": "code",
   "execution_count": 1,
   "metadata": {},
   "outputs": [],
   "source": [
    "import os\n",
    "import sys\n",
    "\n",
    "from copy import deepcopy\n",
    "from collections import Counter\n",
    "from nltk.tag import CRFTagger\n",
    "\n",
    "from sklearn.metrics import confusion_matrix\n",
    "from sklearn.metrics import precision_recall_fscore_support\n",
    "from sklearn.metrics import classification_report\n",
    "\n",
    "from matplotlib import pyplot as plt\n",
    "import numpy as np\n",
    "import pandas as pd\n",
    "import re\n",
    "import unicodedata"
   ]
  },
  {
   "cell_type": "code",
   "execution_count": 2,
   "metadata": {},
   "outputs": [],
   "source": [
    "def get_raw_data_from_bio_file(fpath):\n",
    "    \"\"\"A simple function to read in from a one-word-per-line BIO\n",
    "    (Beginning, Inside, Outside) tagged corpus, tab separated\n",
    "    and each example sentence/text separated with a blank line.\n",
    "    The data is already tokenized in a simple way.\n",
    "    e.g.:\n",
    "    \n",
    "    O\ta\n",
    "    O\tgreat\n",
    "    O\tlunch\n",
    "    O\tspot\n",
    "    O\tbut\n",
    "    B-Hours\topen\n",
    "    I-Hours\ttill\n",
    "    I-Hours\t2\n",
    "    I-Hours\ta\n",
    "    \n",
    "    I-Hours\tm\n",
    "    B-Restaurant_Name\tpassims\n",
    "    I-Restaurant_Name\tkitchen\n",
    "    \n",
    "    returns a list of lists of tuples of (word, tag) tuples\n",
    "    \"\"\"\n",
    "    f = open(fpath)\n",
    "    data = []  # the data, a list of lists of (word, tag) tuples\n",
    "    current_sent = []  # data for current sentence/example\n",
    "    for line in f:\n",
    "        if line == \"\\n\":  # each instance has a blank line separating it from next one\n",
    "            # solution\n",
    "            data.append(current_sent)\n",
    "            current_sent = []\n",
    "            continue\n",
    "        line_data = line.strip(\"\\n\").split(\"\\t\")\n",
    "        current_sent.append((line_data[1], line_data[0]))\n",
    "    f.close()\n",
    "    return data"
   ]
  },
  {
   "cell_type": "code",
   "execution_count": 3,
   "metadata": {},
   "outputs": [],
   "source": [
    "raw_training_data = get_raw_data_from_bio_file(\"engtrain.bio.txt\") "
   ]
  },
  {
   "cell_type": "code",
   "execution_count": 4,
   "metadata": {},
   "outputs": [
    {
     "name": "stdout",
     "output_type": "stream",
     "text": [
      "[('what', 'O'), ('movies', 'O'), ('star', 'O'), ('bruce', 'B-ACTOR'), ('willis', 'I-ACTOR')]\n"
     ]
    }
   ],
   "source": [
    "# have a look at the first example\n",
    "print(raw_training_data[0])"
   ]
  },
  {
   "cell_type": "code",
   "execution_count": 5,
   "metadata": {},
   "outputs": [
    {
     "name": "stdout",
     "output_type": "stream",
     "text": [
      "9775 instances\n",
      "99491 words\n"
     ]
    }
   ],
   "source": [
    "print(len(raw_training_data), \"instances\")\n",
    "print(sum([len(sent) for sent in raw_training_data]), \"words\")"
   ]
  },
  {
   "cell_type": "code",
   "execution_count": 6,
   "metadata": {},
   "outputs": [],
   "source": [
    "def preProcess(example):\n",
    "    \"\"\"Function takes in list of (word, bio-tag) pairs, e.g.:\n",
    "        [('what', 'O'), ('movies', 'O'), ('star', 'O'), ('bruce', 'B-ACTOR'), ('willis', 'I-ACTOR')]\n",
    "    returns new (token, bio-tag) pairs with preprocessing applied to the words\"\"\"\n",
    "\n",
    "    preprocessed_example = example  # trivial- no preprocessing\n",
    "    return preprocessed_example"
   ]
  },
  {
   "cell_type": "code",
   "execution_count": 7,
   "metadata": {},
   "outputs": [],
   "source": [
    "training_data = [preProcess(example) for example in raw_training_data]"
   ]
  },
  {
   "cell_type": "code",
   "execution_count": 8,
   "metadata": {},
   "outputs": [
    {
     "name": "stdout",
     "output_type": "stream",
     "text": [
      "[('what', 'O'), ('movies', 'O'), ('star', 'O'), ('bruce', 'B-ACTOR'), ('willis', 'I-ACTOR')]\n"
     ]
    }
   ],
   "source": [
    "# check the effect of pre-processing\n",
    "print(training_data[0])"
   ]
  },
  {
   "cell_type": "code",
   "execution_count": 9,
   "metadata": {},
   "outputs": [],
   "source": [
    "_pattern = re.compile(r\"\\d\")  # to recognize numbers/digits\n",
    "\n",
    "# This is the 'out-of-the-box' get_features function from the nltk CRF tagger\n",
    "def get_features(tokens, idx):\n",
    "    \"\"\"\n",
    "    Extract basic features about this word including\n",
    "         - Current Word\n",
    "         - Is Capitalized ?\n",
    "         - Has Punctuation ?\n",
    "         - Has Number ?\n",
    "         - Suffixes up to length 3\n",
    "    Note that : we might include feature over previous word, next word ect.\n",
    "\n",
    "    :return : a list which contains the features\n",
    "    :rtype : list(str)\n",
    "\n",
    "    \"\"\"\n",
    "    token = tokens[idx]\n",
    "    feature_list = []\n",
    "\n",
    "    if not token:\n",
    "        return feature_list\n",
    "\n",
    "    # Capitalization\n",
    "    if token[0].isupper():\n",
    "        feature_list.append(\"CAPITALIZATION\")\n",
    "\n",
    "    # Number\n",
    "    if re.search(_pattern, token) is not None:\n",
    "        feature_list.append(\"HAS_NUM\")\n",
    "\n",
    "    # Punctuation\n",
    "    punc_cat = set([\"Pc\", \"Pd\", \"Ps\", \"Pe\", \"Pi\", \"Pf\", \"Po\"])\n",
    "    if all(unicodedata.category(x) in punc_cat for x in token):\n",
    "        feature_list.append(\"PUNCTUATION\")\n",
    "\n",
    "    # Suffix up to length 3\n",
    "    if len(token) > 1:\n",
    "        feature_list.append(\"SUF_\" + token[-1:])\n",
    "    if len(token) > 2:\n",
    "        feature_list.append(\"SUF_\" + token[-2:])\n",
    "    if len(token) > 3:\n",
    "        feature_list.append(\"SUF_\" + token[-3:])\n",
    "        \n",
    "    feature_list.append(\"WORD_\" + token)\n",
    "    #print(feature_list)\n",
    "    return feature_list"
   ]
  },
  {
   "cell_type": "markdown",
   "metadata": {},
   "source": [
    "# 1. Split the training data into 80% training, 20% development set (5 marks)"
   ]
  },
  {
   "cell_type": "code",
   "execution_count": 10,
   "metadata": {},
   "outputs": [
    {
     "name": "stdout",
     "output_type": "stream",
     "text": [
      "Initial training data length: 9775\n",
      "Split training data length: 7820\n",
      "Test data length: 1955\n"
     ]
    }
   ],
   "source": [
    "# Splitting the data into training and development sets with no shuffling.\n",
    "td_length = len(training_data)\n",
    "split_length = int(td_length * 0.8)\n",
    "train_set = training_data[:split_length]\n",
    "dev_set = training_data[split_length:]\n",
    "\n",
    "print(f'Initial training data length: {len(training_data)}')\n",
    "print(f'Split training data length: {len(train_set)}')\n",
    "print(f'Test data length: {len(dev_set)}')\n"
   ]
  },
  {
   "cell_type": "code",
   "execution_count": 11,
   "metadata": {},
   "outputs": [
    {
     "name": "stdout",
     "output_type": "stream",
     "text": [
      "training tagger...\n",
      "done\n"
     ]
    }
   ],
   "source": [
    "# Train the CRF BIO-tag tagger\n",
    "TAGGER_PATH = \"crf_nlu.tagger\"  # path to the tagger- it will save/access the model from here\n",
    "ct = CRFTagger(feature_func=get_features)  # initialize tagger with get_features function\n",
    "\n",
    "print(\"training tagger...\")\n",
    "ct.train(train_set, TAGGER_PATH)\n",
    "print(\"done\")"
   ]
  },
  {
   "cell_type": "code",
   "execution_count": 12,
   "metadata": {},
   "outputs": [
    {
     "name": "stdout",
     "output_type": "stream",
     "text": [
      "1955 instances\n",
      "20225 words\n"
     ]
    }
   ],
   "source": [
    "# load tagger from saved file\n",
    "ct = CRFTagger(feature_func=get_features)  # initialize tagger\n",
    "ct.set_model_file(TAGGER_PATH)  # load model from file\n",
    "\n",
    "# # prepare the test data:\n",
    "# raw_test_data = get_raw_data_from_bio_file(\"engtest.bio.txt\") \n",
    "# test_data = [preProcess(example) for example in raw_test_data]\n",
    "print(len(dev_set), \"instances\")\n",
    "print(sum([len(sent) for sent in dev_set]), \"words\")"
   ]
  },
  {
   "cell_type": "code",
   "execution_count": 13,
   "metadata": {},
   "outputs": [
    {
     "name": "stdout",
     "output_type": "stream",
     "text": [
      "testing tagger...\n",
      "done\n"
     ]
    }
   ],
   "source": [
    "print(\"testing tagger...\")\n",
    "preds = []\n",
    "y_test = []\n",
    "for sent in dev_set:\n",
    "    sent_preds = [x[1] for x in ct.tag([s[0] for s in sent])]\n",
    "    sent_true = [s[1] for s in sent]\n",
    "    preds.extend(sent_preds)\n",
    "    y_test.extend(sent_true)\n",
    "print(\"done\")"
   ]
  },
  {
   "cell_type": "code",
   "execution_count": 14,
   "metadata": {},
   "outputs": [
    {
     "name": "stdout",
     "output_type": "stream",
     "text": [
      "                   precision    recall  f1-score   support\n",
      "\n",
      "          B-ACTOR       0.65      0.87      0.74       433\n",
      "      B-CHARACTER       0.70      0.32      0.44        44\n",
      "       B-DIRECTOR       0.76      0.63      0.69       365\n",
      "          B-GENRE       0.96      0.97      0.97       927\n",
      "           B-PLOT       0.48      0.43      0.45       298\n",
      "         B-RATING       1.00      1.00      1.00       430\n",
      "B-RATINGS_AVERAGE       0.88      0.88      0.88       451\n",
      "         B-REVIEW       0.00      0.00      0.00        31\n",
      "           B-SONG       0.50      0.25      0.33        20\n",
      "          B-TITLE       0.66      0.35      0.46       679\n",
      "        B-TRAILER       1.00      0.50      0.67        28\n",
      "           B-YEAR       0.89      1.00      0.94       535\n",
      "          I-ACTOR       0.66      0.85      0.74       482\n",
      "      I-CHARACTER       0.58      0.60      0.59        47\n",
      "       I-DIRECTOR       0.76      0.62      0.68       410\n",
      "          I-GENRE       0.90      1.00      0.95       123\n",
      "           I-PLOT       0.28      0.64      0.39       148\n",
      "         I-RATING       0.98      1.00      0.99       156\n",
      "I-RATINGS_AVERAGE       0.76      0.94      0.84       408\n",
      "         I-REVIEW       0.00      0.00      0.00         9\n",
      "           I-SONG       0.29      0.23      0.26        43\n",
      "          I-TITLE       0.75      0.48      0.58      1182\n",
      "        I-TRAILER       0.00      0.00      0.00         1\n",
      "           I-YEAR       0.95      1.00      0.98       528\n",
      "                O       0.94      0.96      0.95     12447\n",
      "\n",
      "         accuracy                           0.88     20225\n",
      "        macro avg       0.65      0.62      0.62     20225\n",
      "     weighted avg       0.88      0.88      0.87     20225\n",
      "\n"
     ]
    },
    {
     "name": "stderr",
     "output_type": "stream",
     "text": [
      "/Users/Mark/opt/anaconda3/lib/python3.7/site-packages/sklearn/metrics/_classification.py:1272: UndefinedMetricWarning: Precision and F-score are ill-defined and being set to 0.0 in labels with no predicted samples. Use `zero_division` parameter to control this behavior.\n",
      "  _warn_prf(average, modifier, msg_start, len(result))\n"
     ]
    }
   ],
   "source": [
    "# Output the classification report (which you should save each time for comparing your models)\n",
    "print(classification_report(y_test, preds))"
   ]
  },
  {
   "cell_type": "code",
   "execution_count": 15,
   "metadata": {},
   "outputs": [],
   "source": [
    "def confusion_matrix_heatmap(y_test, preds):\n",
    "    \"\"\"Function to plot a confusion matrix\"\"\"\n",
    "    labels = list(set(y_test))   # get the labels in the y_test\n",
    "    # print(labels)\n",
    "    cm = confusion_matrix(y_test, preds, labels)\n",
    "    fig = plt.figure(figsize=(20,20))\n",
    "    ax = fig.add_subplot(111)\n",
    "    cax = ax.matshow(cm)\n",
    "    plt.title('Confusion matrix of the classifier')\n",
    "    fig.colorbar(cax)\n",
    "    ax.set_xticks(np.arange(len(labels)))\n",
    "    ax.set_yticks(np.arange(len(labels)))\n",
    "    ax.set_xticklabels( labels, rotation=45)\n",
    "    ax.set_yticklabels( labels)\n",
    "\n",
    "    for i in range(len(cm)):\n",
    "        for j in range(len(cm)):\n",
    "            text = ax.text(j, i, cm[i, j],\n",
    "                           ha=\"center\", va=\"center\", color=\"w\")\n",
    "\n",
    "    plt.xlabel('Predicted')\n",
    "    plt.ylabel('True')\n",
    "    #fig.tight_layout()\n",
    "    plt.show()"
   ]
  },
  {
   "cell_type": "code",
   "execution_count": 16,
   "metadata": {},
   "outputs": [
    {
     "data": {
      "image/png": "[encoded data removed]",
      "text/plain": [
       "<Figure size 1440x1440 with 2 Axes>"
      ]
     },
     "metadata": {
      "needs_background": "light"
     },
     "output_type": "display_data"
    }
   ],
   "source": [
    "confusion_matrix_heatmap(y_test, preds)"
   ]
  },
  {
   "cell_type": "markdown",
   "metadata": {},
   "source": [
    "# 1. Split the training data into 80% training, 20% development set (5 marks)\n",
    "Split the training data (`training_data`) into two lists: one split of the first 80% of the instances of `training_data`, which you will use for training your CRF, and the remaining 20% for testing. Once you've done this re-run the above code such that the tagger is trained on the 80% split and tested on the 20% split, and you obtain the classification report output and confusion heatmap output for the results of testing. Do not use the test data as it is above for testing/viewing results for now. Record the results by saving the classification report output as a string somewhere in the notebook for future reference as you go through.\n"
   ]
  },
  {
   "cell_type": "code",
   "execution_count": 17,
   "metadata": {},
   "outputs": [],
   "source": [
    "# This was done earlier in the notebook"
   ]
  },
  {
   "cell_type": "markdown",
   "metadata": {},
   "source": [
    "# 2. Error analysis 1: False positives (10 marks)\n",
    "\n",
    "Performing error analyses is a key part of improving your NLP applications. For the 5 classes which have the lowest precision, according to the results table from your 20% development data, print out all the sentences where there is a false positive for that class (i.e. the label is predicted in the predicted label for a given word by the tagger, but this is not present in the corresponding ground truth label for that word). HINT: This may most easily be achieved by editing the code above beginning `print(\"testing tagger...\")` and ending `print(\"done\")`. Have a look at these errors closely, and think about which features could be added to reduce the number of these errors.\n"
   ]
  },
  {
   "cell_type": "markdown",
   "metadata": {},
   "source": [
    "# 3. Error analysis 2: False negatives (10 marks)\n",
    "\n",
    "For the 5 classes which have the lowest recall, according to the results table from your 20% development data,, print out all the sentences where there is a false negative for that label (i.e. the label is present in the ground truth label for a given word, but that label is not predicted for that word by the tagger). HINT: This may most easily be achieved by editing the code above beginning `print(\"testing tagger...\")` and ending `print(\"done\")`. Have a look at these errors closely, and think about which features could be added to reduce the number of these errors.\n"
   ]
  },
  {
   "cell_type": "markdown",
   "metadata": {},
   "source": [
    "# 4. Using POS tags as features (15 marks)\n",
    "Use the CRF part-of-speech (POS) tagger as shown below to add POS tags to the words in the training data. Do this by altering the `preProcess` function above. Note the CRF tagger only takes strings as input so you will have to concatenate the word and POS tag together (with a special symbol, e.g. @), and you will also have to then split on this special symbol in the feature extraction function `get_features` to get the word and POS tag - modify that function so it uses the POS tag in addition to the word (currently using the word only is achieved by `feature_list.append(\"WORD_\" + token)`. Re-run the training and testing code on your 80%/20% training/dev split from question 1 and record the results from the classification report as text in this file for comparison of the accuracy metrics against not using POS tags- try to see any improvemements across the classes."
   ]
  },
  {
   "cell_type": "code",
   "execution_count": 18,
   "metadata": {},
   "outputs": [],
   "source": [
    "# # a postagger for use in exercises\n",
    "# posttagger = CRFTagger()\n",
    "# posttagger.set_model_file(\"crf_pos.tagger\")\n",
    "# # example use:\n",
    "# words = [\"john\", \"likes\", \"mary\", \"and\", \"bill\"]\n",
    "# print(posttagger.tag(words))"
   ]
  },
  {
   "cell_type": "markdown",
   "metadata": {},
   "source": [
    "# 5. Feature experimentation for optimal macro average (20 marks).\n",
    "Experiment with different features by further adjusting the `get_features` function, and modifying it to get the best results in terms of `macro average f-score` (i.e. average f-score across all classes) on your 20% development data. Iteratively try different functions, briefly describe the method and record the results in the classification report format. You could try more suffixes/prefixes of the curret word than those currently extracted, you could use windows of the next and previous tokens (of different sizes, e.g. the previous/next N words/tags). As you try different feature functions, use the techniques you used in Q1 and Q2 to see the kind of errors you are getting for lower performing classes, in addition to the confusion matrix over classes. Leave the `get_features` functions in the state you used to get the highest `macro average f-score` on your 20% development set, then re-train the model on ALL the training data and print the classification report for the original test data (i.e. from the test file `engtest.bio.txt`) as your final piece of code."
   ]
  },
  {
   "cell_type": "markdown",
   "metadata": {},
   "source": [
    "# Question 2 & 3: False positives and false negatives"
   ]
  },
  {
   "cell_type": "code",
   "execution_count": 19,
   "metadata": {},
   "outputs": [
    {
     "data": {
      "text/html": [
       "<div>\n",
       "<style scoped>\n",
       "    .dataframe tbody tr th:only-of-type {\n",
       "        vertical-align: middle;\n",
       "    }\n",
       "\n",
       "    .dataframe tbody tr th {\n",
       "        vertical-align: top;\n",
       "    }\n",
       "\n",
       "    .dataframe thead th {\n",
       "        text-align: right;\n",
       "    }\n",
       "</style>\n",
       "<table border=\"1\" class=\"dataframe\">\n",
       "  <thead>\n",
       "    <tr style=\"text-align: right;\">\n",
       "      <th></th>\n",
       "      <th>precision</th>\n",
       "      <th>recall</th>\n",
       "      <th>f1-score</th>\n",
       "      <th>support</th>\n",
       "    </tr>\n",
       "  </thead>\n",
       "  <tbody>\n",
       "    <tr>\n",
       "      <th>I-TRAILER</th>\n",
       "      <td>0.000000</td>\n",
       "      <td>0.000000</td>\n",
       "      <td>0.000000</td>\n",
       "      <td>1.0</td>\n",
       "    </tr>\n",
       "    <tr>\n",
       "      <th>I-REVIEW</th>\n",
       "      <td>0.000000</td>\n",
       "      <td>0.000000</td>\n",
       "      <td>0.000000</td>\n",
       "      <td>9.0</td>\n",
       "    </tr>\n",
       "    <tr>\n",
       "      <th>B-REVIEW</th>\n",
       "      <td>0.000000</td>\n",
       "      <td>0.000000</td>\n",
       "      <td>0.000000</td>\n",
       "      <td>31.0</td>\n",
       "    </tr>\n",
       "    <tr>\n",
       "      <th>I-PLOT</th>\n",
       "      <td>0.278592</td>\n",
       "      <td>0.641892</td>\n",
       "      <td>0.388548</td>\n",
       "      <td>148.0</td>\n",
       "    </tr>\n",
       "    <tr>\n",
       "      <th>I-SONG</th>\n",
       "      <td>0.294118</td>\n",
       "      <td>0.232558</td>\n",
       "      <td>0.259740</td>\n",
       "      <td>43.0</td>\n",
       "    </tr>\n",
       "  </tbody>\n",
       "</table>\n",
       "</div>"
      ],
      "text/plain": [
       "           precision    recall  f1-score  support\n",
       "I-TRAILER   0.000000  0.000000  0.000000      1.0\n",
       "I-REVIEW    0.000000  0.000000  0.000000      9.0\n",
       "B-REVIEW    0.000000  0.000000  0.000000     31.0\n",
       "I-PLOT      0.278592  0.641892  0.388548    148.0\n",
       "I-SONG      0.294118  0.232558  0.259740     43.0"
      ]
     },
     "metadata": {},
     "output_type": "display_data"
    },
    {
     "data": {
      "text/html": [
       "<div>\n",
       "<style scoped>\n",
       "    .dataframe tbody tr th:only-of-type {\n",
       "        vertical-align: middle;\n",
       "    }\n",
       "\n",
       "    .dataframe tbody tr th {\n",
       "        vertical-align: top;\n",
       "    }\n",
       "\n",
       "    .dataframe thead th {\n",
       "        text-align: right;\n",
       "    }\n",
       "</style>\n",
       "<table border=\"1\" class=\"dataframe\">\n",
       "  <thead>\n",
       "    <tr style=\"text-align: right;\">\n",
       "      <th></th>\n",
       "      <th>precision</th>\n",
       "      <th>recall</th>\n",
       "      <th>f1-score</th>\n",
       "      <th>support</th>\n",
       "    </tr>\n",
       "  </thead>\n",
       "  <tbody>\n",
       "    <tr>\n",
       "      <th>I-TRAILER</th>\n",
       "      <td>0.000000</td>\n",
       "      <td>0.000000</td>\n",
       "      <td>0.000000</td>\n",
       "      <td>1.0</td>\n",
       "    </tr>\n",
       "    <tr>\n",
       "      <th>B-REVIEW</th>\n",
       "      <td>0.000000</td>\n",
       "      <td>0.000000</td>\n",
       "      <td>0.000000</td>\n",
       "      <td>31.0</td>\n",
       "    </tr>\n",
       "    <tr>\n",
       "      <th>I-REVIEW</th>\n",
       "      <td>0.000000</td>\n",
       "      <td>0.000000</td>\n",
       "      <td>0.000000</td>\n",
       "      <td>9.0</td>\n",
       "    </tr>\n",
       "    <tr>\n",
       "      <th>I-SONG</th>\n",
       "      <td>0.294118</td>\n",
       "      <td>0.232558</td>\n",
       "      <td>0.259740</td>\n",
       "      <td>43.0</td>\n",
       "    </tr>\n",
       "    <tr>\n",
       "      <th>B-SONG</th>\n",
       "      <td>0.500000</td>\n",
       "      <td>0.250000</td>\n",
       "      <td>0.333333</td>\n",
       "      <td>20.0</td>\n",
       "    </tr>\n",
       "  </tbody>\n",
       "</table>\n",
       "</div>"
      ],
      "text/plain": [
       "           precision    recall  f1-score  support\n",
       "I-TRAILER   0.000000  0.000000  0.000000      1.0\n",
       "B-REVIEW    0.000000  0.000000  0.000000     31.0\n",
       "I-REVIEW    0.000000  0.000000  0.000000      9.0\n",
       "I-SONG      0.294118  0.232558  0.259740     43.0\n",
       "B-SONG      0.500000  0.250000  0.333333     20.0"
      ]
     },
     "metadata": {},
     "output_type": "display_data"
    }
   ],
   "source": [
    "# Output of the classification report as a dictionary\n",
    "report = classification_report(y_test, preds, output_dict=True)\n",
    "\n",
    "# Classification report as a dataframe\n",
    "df_report = pd.DataFrame(report).transpose()\n",
    "\n",
    "# Sorted dataframe by precision\n",
    "sorted_prec_df = df_report.sort_values(by='precision')\n",
    "display(sorted_prec_df.head())\n",
    "\n",
    "# Classes with lowest precison (false positives)\n",
    "fpos = sorted_prec_df.index[:5].to_list()\n",
    "\n",
    "# Sorted dataframe by recall\n",
    "sorted_recall_df = df_report.sort_values(by='recall')\n",
    "display(sorted_recall_df.head())\n",
    "\n",
    "# Classes with lowest recall (false negatives)\n",
    "fneg = sorted_recall_df.index[:5].to_list()"
   ]
  },
  {
   "cell_type": "code",
   "execution_count": 20,
   "metadata": {},
   "outputs": [
    {
     "name": "stdout",
     "output_type": "stream",
     "text": [
      "List of classes with lowest precision: ['I-TRAILER', 'I-REVIEW', 'B-REVIEW', 'I-PLOT', 'I-SONG']\n",
      "List of classes with lowest recall: ['I-TRAILER', 'B-REVIEW', 'I-REVIEW', 'I-SONG', 'B-SONG']\n",
      "\n",
      "The classes with the lowest precision will be used to find the false postives (FP).\n",
      "The classes with the lowest recall will be used to find the false negatives (FN).\n"
     ]
    }
   ],
   "source": [
    "print(f'List of classes with lowest precision: {fpos}')\n",
    "print(f'List of classes with lowest recall: {fneg}\\n')\n",
    "\n",
    "print('The classes with the lowest precision will be used to find the false postives (FP).')\n",
    "print('The classes with the lowest recall will be used to find the false negatives (FN).')"
   ]
  },
  {
   "cell_type": "code",
   "execution_count": 21,
   "metadata": {},
   "outputs": [
    {
     "name": "stdout",
     "output_type": "stream",
     "text": [
      "testing tagger...\n",
      "done\n"
     ]
    }
   ],
   "source": [
    "# list of FP or FN words\n",
    "f_pos_words = []\n",
    "f_neg_words = []\n",
    "\n",
    "# List of FP or FN sentences\n",
    "fpos_error_sentences = []\n",
    "fneg_error_sentences = []\n",
    "\n",
    "# Details of FP and FN occurences \n",
    "fp_details = []\n",
    "fn_details = []\n",
    "\n",
    "print(\"testing tagger...\")\n",
    "preds = []\n",
    "y_test = []\n",
    "for sent in dev_set:\n",
    "    sent_preds = [x[1] for x in ct.tag([s[0] for s in sent])]\n",
    "    sent_true = [s[1] for s in sent]\n",
    "    word = [x[0] for x in sent]\n",
    "\n",
    "    # FALSE POSITIVE LOOP\n",
    "    \n",
    "    # check if predicted label is in FP list of labels\n",
    "    for pred_label in sent_preds:\n",
    "        if pred_label in fpos: \n",
    "            \n",
    "            # get the index of the predicted label in the sentence\n",
    "            ind = sent_preds.index(pred_label)\n",
    "            # get true label\n",
    "            true_label = sent_true[ind]\n",
    "            \n",
    "            # labels that don't match are false positives\n",
    "            if pred_label != true_label:\n",
    "                \n",
    "                # get the false positive words\n",
    "                false_pos_word = sent[ind][0]\n",
    "                f_pos_words.append(false_pos_word)\n",
    "                \n",
    "                # get the sentence containing the false positive error\n",
    "                fp_error_sent = ' '.join(word)\n",
    "                fpos_error_sentences.append(fp_error_sent)\n",
    "                \n",
    "                # additional info about the false positive\n",
    "                word_sent_predlabel_truelabel = [false_pos_word, fp_error_sent, pred_label, true_label]\n",
    "                fp_details.append(word_sent_predlabel_truelabel)\n",
    "                break\n",
    "\n",
    "                \n",
    "    # FALSE NEGATIVE LOOP\n",
    "    \n",
    "    # check if true label is in FN list of labels\n",
    "    for true_label in sent_true:\n",
    "        if true_label in fneg:\n",
    "            \n",
    "            # get the index of the true label in the sentence\n",
    "            ind = sent_true.index(true_label)\n",
    "            # get predicted label\n",
    "            pred_label = sent_preds[ind]\n",
    "            \n",
    "            # labels that don't match are false negatives\n",
    "            if true_label != pred_label:\n",
    "                \n",
    "                # get the false negative words\n",
    "                false_neg_word = sent[ind][0]\n",
    "                f_neg_words.append(false_neg_word)\n",
    "                \n",
    "                # get the sentence containing the false negative error\n",
    "                fn_error_sent = ' '.join(word)\n",
    "                fneg_error_sentences.append(fn_error_sent) \n",
    "                \n",
    "                # additional info about the false negative\n",
    "                word_sent_pred_true = [false_neg_word, fn_error_sent, pred_label, true_label]\n",
    "                fn_details.append(word_sent_pred_true)\n",
    "                break\n",
    "    \n",
    "    preds.extend(sent_preds)\n",
    "    y_test.extend(sent_true)\n",
    "print(\"done\")\n"
   ]
  },
  {
   "cell_type": "markdown",
   "metadata": {},
   "source": [
    "## Sentences with a false positive\n",
    "All sentences in the development set that contained a false positive class from the list of lowest precision classes are printed below.\n",
    "\n",
    "Some sentences contained more than one false positive occurence, but only the unique sentences were printed for clarity. A sample of further analysis of the false positives is then given."
   ]
  },
  {
   "cell_type": "code",
   "execution_count": 22,
   "metadata": {},
   "outputs": [
    {
     "name": "stdout",
     "output_type": "stream",
     "text": [
      "whats the best family movie of the past decade thats is rated at least a four\n",
      "who directed fear of a black hat\n",
      "what is the best romantic comedy that came out in 2011\n",
      "what movie studio produced digital monster x evolution\n",
      "what was the best horror movie last year\n",
      "when is so proudly we hail released\n",
      "what is a movie about a party whose ratings averaged about a nine\n",
      "who directed the sweetest thing\n",
      "what was the last science fiction movie that won an oscar\n",
      "please give me a glimpse of that movie kiss me kate\n",
      "what is the best drama ever directed by ingmar bergman\n",
      "what is the best fantasy movie of all time\n",
      "who starred in all my friends are funeral singers\n",
      "kiss me deadly\n",
      "who directed lornas silence\n",
      "who directed lets fish\n",
      "my darling clementine\n",
      "what is the movie gekijouban fate stay night unlimited blade works about\n",
      "what is the best psychological drama that was made in the 1950 s\n",
      "where can i find the movie dumping lisa\n",
      "what is a nine star rated movie that is rated nc 17 and involves drugs\n",
      "what is the plot in the movie princess of thieves\n",
      "the grapes of wrath\n",
      "what is the plot of city of life and death\n",
      "what is the best science fiction movie directed by george lucas\n",
      "what is the best sci fi movie of the 2010 s\n",
      "the lost weekend\n",
      "what is the best war movie ever\n",
      "what is the movie waking life about\n",
      "what is a funny high school movie that is well rated\n",
      "can you show me a trailer for kiss me kate\n",
      "show me the trailer for that hard day s night movie that just came out\n",
      "please show me a website with clips of a hard day s night\n",
      "who directed black book\n",
      "what is a very popular r rated documentary with geraint wyne davies\n",
      "where are some reviews for better off dead\n",
      "would you be able to direct me to where i might find the movie priest\n",
      "what is the best thriller movie of all time\n",
      "where might i find the movie after hours\n",
      "what genre is the movie my date with the presidents daughter\n",
      "what is the best comedy of the 1970 s\n",
      "what is the movie dumping lisa about\n",
      "closely watched trains\n",
      "north by northwest\n",
      "what is the best drama that robert redford was ever in\n",
      "what is the movie death warrior about\n",
      "what is a excellent rated 1970 s drama involving mental abilities\n",
      "show me some interesting clips from a hard day s night\n",
      "what is the best science fiction movie that was made in the 1950 s\n",
      "who directed orange county\n",
      "white heat\n",
      "who starred in the movie blue chips\n",
      "who directed a very merry daughter of the bridge\n",
      "where can i find a cast list for a bittersweet life\n",
      "what year did dragons or dinosaurs creation or evolution come out\n",
      "what was the best comedy movie for 2011\n",
      "what popular work has kenny hartfield done\n",
      "the french connection\n",
      "what is the best action movie of the 1990 s\n",
      "what was the best crime film directed by federico fellini\n",
      "when did the king of new york come out\n",
      "what was the best thriller of the 1950 s\n",
      "what is the rating for august undergrounds penance\n",
      "what is the unrated watchable movie that has drew carey in it which involves a missing prisoner\n",
      "who directed the secret life of bees\n",
      "what is a rated r documentary directed by thomas l phillips\n",
      "who starred in sorority babes in the dance a thon of death\n",
      "it s a wonderful life\n",
      "whats the best western\n",
      "who directed sweet sweetbacks baadasssss song\n",
      "when did overnight delivery come out\n",
      "what war movie released in 2000 was directed by carl t evans\n",
      "what really good r rated crime films of the last seven decades had plots about criminals\n",
      "who is starring in expedition great white\n",
      "what is a movie in the past nine decades about a journey with jonathan taylor thomas that includes jokes\n",
      "what is such hawks such hounds about\n",
      "what is the best science fiction movie that orson welles has directed\n",
      "what is the best war film that was made in the 1950 s\n",
      "what is the movie a wonderful world\n",
      "what is the name of the r rated romance movie directed by jerry schatzberg about a best friend\n",
      "what is the last mystery movie that won an oscar\n",
      "who stars in everybody wants to be italian\n",
      "what is the funniest comedy of all time\n",
      "where can i purchase the movie little monsters online\n",
      "where can i find the movie cool world\n",
      "what is the best sci fi film of 1950\n",
      "where can i find billion dollar brain\n",
      "what is the last horror movie that won an oscar\n",
      "the magnificent ambersons\n",
      "what is the film the courtship of eddies father about\n",
      "who is in the movie lets fish\n",
      "what is the best action movie this year\n",
      "do you know whether a hard day s night is any good\n",
      "who wrote the screenplay for metal gear solid\n",
      "what is the best action movie from the last nine decades staring mark harmon with a pg 13 rating\n",
      "what is a movie where nicholas lea plays a lieutenant general\n",
      "what is the movie the edge of love about\n",
      "what is a rated r movie directed by c b harding regarding a small town\n",
      "name a pg 13 western with someone getting thrown from a train\n",
      "what is internal affairs\n",
      "what is becoming jesse tate\n",
      "what is the top ten favorite war films of all time\n",
      "where can i get the movie evil ed\n",
      "what was the best mystery movie of all time\n",
      "what movie won the best animation oscar in 1990\n",
      "i would like to see the movie review for the movie kiss me kate\n",
      "what was the best western that charlton heston was in\n",
      "who starred in gullivers travels\n",
      "what is a good movie based on war involving war crimes\n",
      "the lion king\n",
      "who stars in chains of gold\n",
      "who was the lead in escape to witch mountain\n",
      "who stars in cemetery junction\n",
      "what spaghetti western about treasure was directed by donal mosher\n",
      "whats the best romantic comedy\n",
      "can you show me short snippets from a hard day s night\n",
      "who is stars in the movie invaders from mars\n",
      "what is expected to be the best action movie of the year\n",
      "what movie in the 1990 s was based on a famous death camp\n",
      "what is a pg 13 rated drama movie made in the 1990 s that concerns health issues\n",
      "what is the movie on her majestys secret service about\n",
      "what is the plot of the movie posse cat\n",
      "what movies won the academy award for best animation in the last decade\n",
      "who is the best drama director these days\n",
      "what year was lost city raiders released on dvd\n",
      "what would be the best short movie to watch starring rene russo that was made in the last six years\n",
      "what were the best horror movies of the 2000 s\n",
      "who directed primal rage\n",
      "please show me a clip from kiss me kate\n",
      "what is trading places\n",
      "what was the best animation film in 2010\n",
      "what is the best drama that came out in the 2000 s\n",
      "can you please show me the extended movie trailer of kiss me kate\n",
      "what is the best military movie of all time\n",
      "what is the best crime movie from 2010\n",
      "what is the best action movie that denzel washington is in\n",
      "where is the big bounce showing tonight\n",
      "who stars in blood into wine\n",
      "what kind of movie is true stories\n",
      "what is a good romantic drama i can take my wife to see\n",
      "what is a family movie with actor bobbie phillips\n",
      "could you show some scenes without spoilers\n",
      "what is the best child movie by kelly overton that was made in the past decade\n",
      "what is the best comedy that came out in 2011\n",
      "what movies starring antonio banderas have reputations as having been received well by the viewing audiences\n",
      "an american in paris\n",
      "i want to see the trailer of the movie kiss me kate\n",
      "where is there a review of what happens in vegas available\n",
      "my fair lady\n",
      "who starred in almost dead\n",
      "whats the best western that is rated pg 13 from the 2000 s staring gregory peck that received two thumbs up\n",
      "who stars in hail the conquering hero\n",
      "what is an nc 17 movie about jewish politics\n",
      "who plays tommy in the rugrats go wild\n"
     ]
    }
   ],
   "source": [
    "for sentence in set(fpos_error_sentences):\n",
    "    print(sentence)"
   ]
  },
  {
   "cell_type": "markdown",
   "metadata": {},
   "source": [
    "### Analysis of false positives"
   ]
  },
  {
   "cell_type": "code",
   "execution_count": 23,
   "metadata": {},
   "outputs": [
    {
     "name": "stdout",
     "output_type": "stream",
     "text": [
      "False positive word: \"daughter\"\n",
      "Sentence with false positive: \"what genre is the movie my date with the presidents daughter\"\n",
      "predicted label: I-PLOT, true label: I-TITLE\n",
      "\n",
      "False positive word: \"jesse\"\n",
      "Sentence with false positive: \"what is becoming jesse tate\"\n",
      "predicted label: I-PLOT, true label: I-TITLE\n",
      "\n",
      "False positive word: \"affairs\"\n",
      "Sentence with false positive: \"what is internal affairs\"\n",
      "predicted label: I-PLOT, true label: I-TITLE\n",
      "\n",
      "False positive word: \"hawks\"\n",
      "Sentence with false positive: \"what is such hawks such hounds about\"\n",
      "predicted label: I-PLOT, true label: I-TITLE\n",
      "\n",
      "False positive word: \"places\"\n",
      "Sentence with false positive: \"what is trading places\"\n",
      "predicted label: I-PLOT, true label: I-TITLE\n",
      "\n"
     ]
    }
   ],
   "source": [
    "fp_samples = fp_details[:5]\n",
    "for fp in fp_samples:\n",
    "    print(f'False positive word: \"{fp[0]}\"')\n",
    "    print(f'Sentence with false positive: \"{fp[1]}\"')\n",
    "    print(f'predicted label: {fp[2]}, true label: {fp[3]}\\n')\n"
   ]
  },
  {
   "cell_type": "code",
   "execution_count": 24,
   "metadata": {},
   "outputs": [
    {
     "data": {
      "text/plain": [
       "[('best', 42),\n",
       " ('of', 9),\n",
       " ('me', 6),\n",
       " ('oscar', 3),\n",
       " ('life', 3),\n",
       " ('a', 3),\n",
       " ('world', 2),\n",
       " ('lisa', 2),\n",
       " ('in', 2),\n",
       " ('fish', 2)]"
      ]
     },
     "execution_count": 24,
     "metadata": {},
     "output_type": "execute_result"
    }
   ],
   "source": [
    "# 10 most common false positive words and respective counts\n",
    "fp_word_count = Counter(f_pos_words)\n",
    "fp_10 = fp_word_count.most_common(10)\n",
    "fp_10"
   ]
  },
  {
   "cell_type": "code",
   "execution_count": 25,
   "metadata": {},
   "outputs": [
    {
     "data": {
      "text/plain": [
       "['best', 'of', 'me', 'oscar', 'life', 'a']"
      ]
     },
     "execution_count": 25,
     "metadata": {},
     "output_type": "execute_result"
    }
   ],
   "source": [
    "# A selection of the most misclassified false negatives from the classes with the worst precision\n",
    "c_fp6 = fp_10[:6]\n",
    "fp6 = [x[0] for x in c_fp6]\n",
    "fp6"
   ]
  },
  {
   "cell_type": "markdown",
   "metadata": {},
   "source": [
    "## Sentences with a false negative\n",
    "All sentences in the development set that contained a false negative class from the list of lowest precision classes are printed below.\n",
    "\n",
    "Some sentences contained more than one false negative occurence, but only the unique sentences were printed for clarity. A sample of further analysis of the false negatives is then given."
   ]
  },
  {
   "cell_type": "code",
   "execution_count": 26,
   "metadata": {},
   "outputs": [
    {
     "name": "stdout",
     "output_type": "stream",
     "text": [
      "could you show me a website with detailed reviews of purple rain\n",
      "can you let me know what reviews people of my age group gave for purple rain\n",
      "i am interested in the movie evita but i want to see what people thought of the movie first\n",
      "which movie with judy garland is over the rainbow from\n",
      "can you show me some reviews for purple rain\n",
      "where can i find good reviews about the movie purple rain\n",
      "find me the movie with the song over the rainbow\n",
      "search for soundtracks of movies having come what may in them\n",
      "please show me the comments viewers had and whether they found it lovely or boring\n",
      "do you know whether a hard day s night is any good\n",
      "what were the reviews like for purple rain\n",
      "could you show me some part of the new indiana jones movie\n",
      "show me the movie with singin in the rain\n",
      "what do you think of the movie a hard day s night\n",
      "please show me a website with reviews of a hard day s night\n",
      "show me if any movie has the song come what may in it\n",
      "what was the movie that featured that song over the rainbow\n",
      "i want to know what movies have the song come what may\n",
      "what did people think about the movie willy wonka the chocolate factory\n",
      "what s the title of the movie with the song i feel pretty\n",
      "what do people think of the movie alicein wonderland\n",
      "i would like to see the movie review for the movie kiss me kate\n",
      "can you point me to a site where i can see some reviews of the movie willy wonka and the chocolate factory\n",
      "what are the reviews on rotten tomatoes saying about willy wonka the chocolate factory\n",
      "what are people saying about the evita movie\n",
      "i wish to see reviews from common people who watched the movie already\n",
      "what s the movie with the sound of music\n",
      "what did you really think about evita\n",
      "what movie starred judy garland that had over the rainbow in its soundtrack\n",
      "what are people saying about willy wonka the chocolate factory\n",
      "did you think willy wonka the chocolate factory was a good movie\n",
      "can you tell me the name of the movie that starred judy garland and had the song over the rainbow in it\n",
      "what did you think was an awesome part in it\n",
      "what did you think about that movie purple rain\n",
      "what are the film critics saying about the new indiana jones movie\n",
      "what is the public sentiment about willy wonka and the chocolate factory\n",
      "where can i find detailed opinions about the movie purple rain\n",
      "do you know of any movie that had come what may in its soundtrack\n",
      "how did others rate the willy wonka\n",
      "what kind of reviews are there for evita\n",
      "do you know any movies that have the song come what may in its soundtrack\n",
      "could you tell me which movie is starred by judy garland and has that song that starts with somewhere over the rainbow\n",
      "what did people say about shadow of the vampire\n",
      "could you show me a website with reviews by users of evita\n",
      "please tell me any movies that had come what may as the main theme song or as part of the soundtrack of the movie\n",
      "show me the reviews about road kill\n",
      "what are people saying about purple rain\n"
     ]
    }
   ],
   "source": [
    "for sentence in set(fneg_error_sentences):\n",
    "    print(sentence)"
   ]
  },
  {
   "cell_type": "markdown",
   "metadata": {},
   "source": [
    "### Analysis of false negatives"
   ]
  },
  {
   "cell_type": "code",
   "execution_count": 27,
   "metadata": {},
   "outputs": [
    {
     "name": "stdout",
     "output_type": "stream",
     "text": [
      "False negatives word: \"reviews\"\n",
      "Sentence with false negative: \"can you show me some reviews for purple rain\"\n",
      "predicted label: O, true label: B-REVIEW\n",
      "\n",
      "False negatives word: \"reviews\"\n",
      "Sentence with false negative: \"where can i find good reviews about the movie purple rain\"\n",
      "predicted label: O, true label: B-REVIEW\n",
      "\n",
      "False negatives word: \"people\"\n",
      "Sentence with false negative: \"what are people saying about purple rain\"\n",
      "predicted label: O, true label: B-REVIEW\n",
      "\n",
      "False negatives word: \"reviews\"\n",
      "Sentence with false negative: \"could you show me a website with detailed reviews of purple rain\"\n",
      "predicted label: O, true label: B-REVIEW\n",
      "\n",
      "False negatives word: \"reviews\"\n",
      "Sentence with false negative: \"can you let me know what reviews people of my age group gave for purple rain\"\n",
      "predicted label: O, true label: B-REVIEW\n",
      "\n"
     ]
    }
   ],
   "source": [
    "fn_samples = fn_details[:5]\n",
    "for fn in fn_samples:\n",
    "    print(f'False negatives word: \"{fn[0]}\"')\n",
    "    print(f'Sentence with false negative: \"{fn[1]}\"')\n",
    "    print(f'predicted label: {fn[2]}, true label: {fn[3]}\\n')"
   ]
  },
  {
   "cell_type": "code",
   "execution_count": 28,
   "metadata": {},
   "outputs": [
    {
     "data": {
      "text/plain": [
       "[('reviews', 12),\n",
       " ('think', 6),\n",
       " ('come', 6),\n",
       " ('people', 5),\n",
       " ('over', 5),\n",
       " ('opinions', 1),\n",
       " ('review', 1),\n",
       " ('comments', 1),\n",
       " ('rate', 1),\n",
       " ('sentiment', 1)]"
      ]
     },
     "execution_count": 28,
     "metadata": {},
     "output_type": "execute_result"
    }
   ],
   "source": [
    "# 10 most common false negative words and respective counts\n",
    "fn_word_count = Counter(f_neg_words)\n",
    "fn_10 = fn_word_count.most_common(10)\n",
    "fn_10"
   ]
  },
  {
   "cell_type": "code",
   "execution_count": 29,
   "metadata": {},
   "outputs": [
    {
     "data": {
      "text/plain": [
       "['reviews', 'think', 'come', 'people', 'over']"
      ]
     },
     "execution_count": 29,
     "metadata": {},
     "output_type": "execute_result"
    }
   ],
   "source": [
    "# 5 most common false negatives from the worst recall classes\n",
    "c_fn5 = fn_10[:5]\n",
    "fn5 = [x[0] for x in c_fn5]\n",
    "fn5"
   ]
  },
  {
   "cell_type": "markdown",
   "metadata": {},
   "source": [
    "## Question 4: Part-Of-Speech tagging\n",
    "\n",
    "The CRF tagger is is used to add part-of-speech (POS) tags to the words in each sentence in the preProcess fucntion. The word and POS tag are then concatenated together and returned as well as the class."
   ]
  },
  {
   "cell_type": "code",
   "execution_count": 30,
   "metadata": {},
   "outputs": [],
   "source": [
    "# CRF tagger\n",
    "posttagger = CRFTagger()\n",
    "posttagger.set_model_file(\"crf_pos.tagger\")\n",
    "\n",
    "def preProcess(example):\n",
    "    \"\"\"Function takes in list of (word, bio-tag) pairs, e.g.:\n",
    "        [('what', 'O'), ('movies', 'O'), ('star', 'O'), ('bruce', 'B-ACTOR'), ('willis', 'I-ACTOR')]\n",
    "    returns new (token, bio-tag) pairs with preprocessing applied to the words\"\"\"\n",
    "    \n",
    "    # The POS tag of each word in the sentence is found\n",
    "    words = [x[0] for x in example]\n",
    "    tagged_words = posttagger.tag(words)\n",
    "    \n",
    "    # The word and POS tag are concatenated together\n",
    "    w_and_tags = [x[0] +'@'+ x[1] for x in tagged_words]\n",
    "    \n",
    "    # The concatenated word and POS tags and BIO labels are put into a tuple.\n",
    "    w_label = [x[1] for x in example]\n",
    "    preprocessed_example = [(x,y) for x,y in zip(w_and_tags, w_label)]\n",
    "    \n",
    "    return preprocessed_example\n"
   ]
  },
  {
   "cell_type": "markdown",
   "metadata": {},
   "source": [
    "The raw training data was then preprocessed again to include the POS tags. Following the preprocessing, the training data was split into a training set and a development set. The prepr"
   ]
  },
  {
   "cell_type": "code",
   "execution_count": 31,
   "metadata": {},
   "outputs": [
    {
     "name": "stdout",
     "output_type": "stream",
     "text": [
      "Initial training data length: 9775\n",
      "Split training data length: 7820\n",
      "Test data length: 1955\n",
      "\n",
      "A sample of the modified preprocessing:\n",
      " [('what@WP', 'O'), ('movies@VBZ', 'O'), ('star@NNP', 'O'), ('bruce@NNP', 'B-ACTOR'), ('willis@NNP', 'I-ACTOR')]\n"
     ]
    }
   ],
   "source": [
    "# Preprocessing the raw data to include the POS tags\n",
    "training_data = [preProcess(example) for example in raw_training_data]\n",
    "\n",
    "# Splitting the data into a training set and a development set\n",
    "td_length = len(training_data)\n",
    "split_length = int(td_length * 0.8)\n",
    "train_set = training_data[:split_length]\n",
    "dev_set = training_data[split_length:]\n",
    "\n",
    "print(f'Initial training data length: {len(training_data)}')\n",
    "print(f'Split training data length: {len(train_set)}')\n",
    "print(f'Test data length: {len(dev_set)}\\n')\n",
    "\n",
    "# check the effect of pre-processing\n",
    "print(f\"A sample of the modified preprocessing:\\n {train_set[0]}\")"
   ]
  },
  {
   "cell_type": "markdown",
   "metadata": {},
   "source": [
    "### Modification of the get_features function\n",
    "\n",
    "With the POS tags concatenated with the words, the get_features function is modified to split the the words on the symbol \"@\". The POS tags are then used as features.\n",
    "\n"
   ]
  },
  {
   "cell_type": "code",
   "execution_count": 32,
   "metadata": {},
   "outputs": [],
   "source": [
    "_pattern = re.compile(r\"\\d\")  # to recognize numbers/digits\n",
    "\n",
    "# This is the 'out-of-the-box' get_features function from the nltk CRF tagger\n",
    "def get_features(tokens, idx):\n",
    "    \"\"\"\n",
    "    Extract basic features about this word including\n",
    "         - Current Word\n",
    "         - Is Capitalized ?\n",
    "         - Has Punctuation ?\n",
    "         - Has Number ?\n",
    "         - Suffixes up to length 3\n",
    "    Note that : we might include feature over previous word, next word ect.\n",
    "\n",
    "    :return : a list which contains the features\n",
    "    :rtype : list(str)\n",
    "\n",
    "    \"\"\"\n",
    "    \n",
    "    # The words and POS tokens are split\n",
    "    token_and_POS = tokens[idx]\n",
    "    split_token = token_and_POS.split(\"@\")\n",
    "    token = split_token[0]\n",
    "    \n",
    "    POS_token = split_token[1]\n",
    "    \n",
    "    feature_list = []\n",
    "\n",
    "    if not token:\n",
    "        return feature_list\n",
    "\n",
    "    # Capitalization\n",
    "    if token[0].isupper():\n",
    "        feature_list.append(\"CAPITALIZATION\")\n",
    "\n",
    "    # Number\n",
    "    if re.search(_pattern, token) is not None:\n",
    "        feature_list.append(\"HAS_NUM\")\n",
    "\n",
    "    # Punctuation\n",
    "    punc_cat = set([\"Pc\", \"Pd\", \"Ps\", \"Pe\", \"Pi\", \"Pf\", \"Po\"])\n",
    "    if all(unicodedata.category(x) in punc_cat for x in token):\n",
    "        feature_list.append(\"PUNCTUATION\")\n",
    "\n",
    "    # Suffix up to length 3\n",
    "    if len(token) > 1:\n",
    "        feature_list.append(\"SUF_\" + token[-1:])\n",
    "    if len(token) > 2:\n",
    "        feature_list.append(\"SUF_\" + token[-2:])\n",
    "    if len(token) > 3:\n",
    "        feature_list.append(\"SUF_\" + token[-3:])\n",
    "\n",
    "    # The word and POS added as features\n",
    "    feature_list.append(\"WORD_\" + token)\n",
    "    feature_list.append(\"POS_\"+POS_token)\n",
    "\n",
    "\n",
    "#     print(feature_list)\n",
    "    return feature_list\n"
   ]
  },
  {
   "cell_type": "markdown",
   "metadata": {},
   "source": [
    "The CRF tagger is initialised and trained on the train_set. The test data is prepared and the tagger is then tested."
   ]
  },
  {
   "cell_type": "code",
   "execution_count": 33,
   "metadata": {},
   "outputs": [
    {
     "name": "stdout",
     "output_type": "stream",
     "text": [
      "training tagger...\n",
      "done\n",
      "1955 instances\n",
      "20225 words\n"
     ]
    }
   ],
   "source": [
    "\n",
    "# Train the CRF BIO-tag tagger\n",
    "TAGGER_PATH = \"crf_nlu.tagger\"  # path to the tagger- it will save/access the model from here\n",
    "ct = CRFTagger(feature_func=get_features)  # initialize tagger with get_features function\n",
    "\n",
    "print(\"training tagger...\")\n",
    "ct.train(train_set, TAGGER_PATH)\n",
    "print(\"done\")\n",
    "\n",
    "# load tagger from saved file\n",
    "ct = CRFTagger(feature_func=get_features)  # initialize tagger\n",
    "ct.set_model_file(TAGGER_PATH)  # load model from file\n",
    "\n",
    "# prepare the test data:\n",
    "print(len(dev_set), \"instances\")\n",
    "print(sum([len(sent) for sent in dev_set]), \"words\")"
   ]
  },
  {
   "cell_type": "code",
   "execution_count": 34,
   "metadata": {},
   "outputs": [
    {
     "name": "stdout",
     "output_type": "stream",
     "text": [
      "testing tagger...\n",
      "done\n"
     ]
    }
   ],
   "source": [
    "print(\"testing tagger...\")\n",
    "preds = []\n",
    "y_test = []\n",
    "for sent in dev_set:\n",
    "    sent_preds = [x[1] for x in ct.tag([s[0] for s in sent])]\n",
    "    sent_true = [s[1] for s in sent]\n",
    "    preds.extend(sent_preds)\n",
    "    y_test.extend(sent_true)\n",
    "print(\"done\")"
   ]
  },
  {
   "cell_type": "code",
   "execution_count": 35,
   "metadata": {},
   "outputs": [
    {
     "name": "stdout",
     "output_type": "stream",
     "text": [
      "                   precision    recall  f1-score   support\n",
      "\n",
      "          B-ACTOR       0.64      0.85      0.73       433\n",
      "      B-CHARACTER       0.68      0.34      0.45        44\n",
      "       B-DIRECTOR       0.75      0.64      0.69       365\n",
      "          B-GENRE       0.96      0.97      0.97       927\n",
      "           B-PLOT       0.46      0.47      0.47       298\n",
      "         B-RATING       1.00      1.00      1.00       430\n",
      "B-RATINGS_AVERAGE       0.88      0.89      0.89       451\n",
      "         B-REVIEW       0.00      0.00      0.00        31\n",
      "           B-SONG       0.54      0.35      0.42        20\n",
      "          B-TITLE       0.68      0.34      0.45       679\n",
      "        B-TRAILER       1.00      0.54      0.70        28\n",
      "           B-YEAR       0.89      1.00      0.94       535\n",
      "          I-ACTOR       0.65      0.83      0.73       482\n",
      "      I-CHARACTER       0.55      0.60      0.57        47\n",
      "       I-DIRECTOR       0.75      0.64      0.69       410\n",
      "          I-GENRE       0.90      1.00      0.95       123\n",
      "           I-PLOT       0.26      0.64      0.37       148\n",
      "         I-RATING       0.98      1.00      0.99       156\n",
      "I-RATINGS_AVERAGE       0.78      0.93      0.85       408\n",
      "         I-REVIEW       0.00      0.00      0.00         9\n",
      "           I-SONG       0.31      0.35      0.33        43\n",
      "          I-TITLE       0.82      0.47      0.60      1182\n",
      "        I-TRAILER       0.00      0.00      0.00         1\n",
      "           I-YEAR       0.96      1.00      0.98       528\n",
      "                O       0.94      0.96      0.95     12447\n",
      "\n",
      "         accuracy                           0.88     20225\n",
      "        macro avg       0.66      0.63      0.63     20225\n",
      "     weighted avg       0.88      0.88      0.88     20225\n",
      "\n"
     ]
    },
    {
     "name": "stderr",
     "output_type": "stream",
     "text": [
      "/Users/Mark/opt/anaconda3/lib/python3.7/site-packages/sklearn/metrics/_classification.py:1272: UndefinedMetricWarning: Precision and F-score are ill-defined and being set to 0.0 in labels with no predicted samples. Use `zero_division` parameter to control this behavior.\n",
      "  _warn_prf(average, modifier, msg_start, len(result))\n"
     ]
    }
   ],
   "source": [
    "print(classification_report(y_test, preds))"
   ]
  },
  {
   "cell_type": "markdown",
   "metadata": {},
   "source": [
    "### Effect of the POS tags on the accuracy\n",
    "The initial macro f1-score from the first classification report was 0.62. With the addition of the POS tags as features, the macro f1-score on the same test data improved to 0.63.\n",
    "\n",
    "The two classificaiton reports were put into pandas dataframes to inspect the effects of the addition of POS tags on the classes. The difference between the two classification reports was examined and sorted by the classes with the largest improvement in the f1-score."
   ]
  },
  {
   "cell_type": "code",
   "execution_count": 36,
   "metadata": {},
   "outputs": [
    {
     "data": {
      "text/html": [
       "<div>\n",
       "<style scoped>\n",
       "    .dataframe tbody tr th:only-of-type {\n",
       "        vertical-align: middle;\n",
       "    }\n",
       "\n",
       "    .dataframe tbody tr th {\n",
       "        vertical-align: top;\n",
       "    }\n",
       "\n",
       "    .dataframe thead th {\n",
       "        text-align: right;\n",
       "    }\n",
       "</style>\n",
       "<table border=\"1\" class=\"dataframe\">\n",
       "  <thead>\n",
       "    <tr style=\"text-align: right;\">\n",
       "      <th></th>\n",
       "      <th>precision</th>\n",
       "      <th>recall</th>\n",
       "      <th>f1-score</th>\n",
       "      <th>support</th>\n",
       "    </tr>\n",
       "  </thead>\n",
       "  <tbody>\n",
       "    <tr>\n",
       "      <th>B-SONG</th>\n",
       "      <td>0.038462</td>\n",
       "      <td>0.100000</td>\n",
       "      <td>0.090909</td>\n",
       "      <td>20.0</td>\n",
       "    </tr>\n",
       "    <tr>\n",
       "      <th>I-SONG</th>\n",
       "      <td>0.018382</td>\n",
       "      <td>0.116279</td>\n",
       "      <td>0.069930</td>\n",
       "      <td>43.0</td>\n",
       "    </tr>\n",
       "    <tr>\n",
       "      <th>B-TRAILER</th>\n",
       "      <td>0.000000</td>\n",
       "      <td>0.035714</td>\n",
       "      <td>0.031008</td>\n",
       "      <td>28.0</td>\n",
       "    </tr>\n",
       "    <tr>\n",
       "      <th>B-CHARACTER</th>\n",
       "      <td>-0.018182</td>\n",
       "      <td>0.022727</td>\n",
       "      <td>0.017045</td>\n",
       "      <td>44.0</td>\n",
       "    </tr>\n",
       "    <tr>\n",
       "      <th>I-TITLE</th>\n",
       "      <td>0.070684</td>\n",
       "      <td>-0.005922</td>\n",
       "      <td>0.015596</td>\n",
       "      <td>1182.0</td>\n",
       "    </tr>\n",
       "    <tr>\n",
       "      <th>B-PLOT</th>\n",
       "      <td>-0.020419</td>\n",
       "      <td>0.043624</td>\n",
       "      <td>0.012987</td>\n",
       "      <td>298.0</td>\n",
       "    </tr>\n",
       "    <tr>\n",
       "      <th>I-RATINGS_AVERAGE</th>\n",
       "      <td>0.016595</td>\n",
       "      <td>-0.002451</td>\n",
       "      <td>0.008992</td>\n",
       "      <td>408.0</td>\n",
       "    </tr>\n",
       "    <tr>\n",
       "      <th>B-RATINGS_AVERAGE</th>\n",
       "      <td>0.004927</td>\n",
       "      <td>0.008869</td>\n",
       "      <td>0.006881</td>\n",
       "      <td>451.0</td>\n",
       "    </tr>\n",
       "    <tr>\n",
       "      <th>I-DIRECTOR</th>\n",
       "      <td>-0.006767</td>\n",
       "      <td>0.014634</td>\n",
       "      <td>0.005918</td>\n",
       "      <td>410.0</td>\n",
       "    </tr>\n",
       "    <tr>\n",
       "      <th>I-YEAR</th>\n",
       "      <td>0.006957</td>\n",
       "      <td>0.000000</td>\n",
       "      <td>0.003628</td>\n",
       "      <td>528.0</td>\n",
       "    </tr>\n",
       "    <tr>\n",
       "      <th>B-DIRECTOR</th>\n",
       "      <td>-0.004966</td>\n",
       "      <td>0.008219</td>\n",
       "      <td>0.002777</td>\n",
       "      <td>365.0</td>\n",
       "    </tr>\n",
       "    <tr>\n",
       "      <th>B-RATING</th>\n",
       "      <td>0.002326</td>\n",
       "      <td>0.002326</td>\n",
       "      <td>0.002326</td>\n",
       "      <td>430.0</td>\n",
       "    </tr>\n",
       "    <tr>\n",
       "      <th>O</th>\n",
       "      <td>0.001124</td>\n",
       "      <td>0.002812</td>\n",
       "      <td>0.001950</td>\n",
       "      <td>12447.0</td>\n",
       "    </tr>\n",
       "    <tr>\n",
       "      <th>B-GENRE</th>\n",
       "      <td>0.003072</td>\n",
       "      <td>0.000000</td>\n",
       "      <td>0.001555</td>\n",
       "      <td>927.0</td>\n",
       "    </tr>\n",
       "    <tr>\n",
       "      <th>B-YEAR</th>\n",
       "      <td>0.000000</td>\n",
       "      <td>0.000000</td>\n",
       "      <td>0.000000</td>\n",
       "      <td>535.0</td>\n",
       "    </tr>\n",
       "    <tr>\n",
       "      <th>I-GENRE</th>\n",
       "      <td>0.000000</td>\n",
       "      <td>0.000000</td>\n",
       "      <td>0.000000</td>\n",
       "      <td>123.0</td>\n",
       "    </tr>\n",
       "    <tr>\n",
       "      <th>I-TRAILER</th>\n",
       "      <td>0.000000</td>\n",
       "      <td>0.000000</td>\n",
       "      <td>0.000000</td>\n",
       "      <td>1.0</td>\n",
       "    </tr>\n",
       "    <tr>\n",
       "      <th>I-RATING</th>\n",
       "      <td>0.000000</td>\n",
       "      <td>0.000000</td>\n",
       "      <td>0.000000</td>\n",
       "      <td>156.0</td>\n",
       "    </tr>\n",
       "    <tr>\n",
       "      <th>B-REVIEW</th>\n",
       "      <td>0.000000</td>\n",
       "      <td>0.000000</td>\n",
       "      <td>0.000000</td>\n",
       "      <td>31.0</td>\n",
       "    </tr>\n",
       "    <tr>\n",
       "      <th>I-REVIEW</th>\n",
       "      <td>0.000000</td>\n",
       "      <td>0.000000</td>\n",
       "      <td>0.000000</td>\n",
       "      <td>9.0</td>\n",
       "    </tr>\n",
       "    <tr>\n",
       "      <th>B-TITLE</th>\n",
       "      <td>0.014562</td>\n",
       "      <td>-0.013255</td>\n",
       "      <td>-0.008230</td>\n",
       "      <td>679.0</td>\n",
       "    </tr>\n",
       "    <tr>\n",
       "      <th>B-ACTOR</th>\n",
       "      <td>-0.005014</td>\n",
       "      <td>-0.023095</td>\n",
       "      <td>-0.011756</td>\n",
       "      <td>433.0</td>\n",
       "    </tr>\n",
       "    <tr>\n",
       "      <th>I-ACTOR</th>\n",
       "      <td>-0.007681</td>\n",
       "      <td>-0.020747</td>\n",
       "      <td>-0.012793</td>\n",
       "      <td>482.0</td>\n",
       "    </tr>\n",
       "    <tr>\n",
       "      <th>I-CHARACTER</th>\n",
       "      <td>-0.034314</td>\n",
       "      <td>0.000000</td>\n",
       "      <td>-0.018045</td>\n",
       "      <td>47.0</td>\n",
       "    </tr>\n",
       "    <tr>\n",
       "      <th>I-PLOT</th>\n",
       "      <td>-0.023216</td>\n",
       "      <td>0.000000</td>\n",
       "      <td>-0.023163</td>\n",
       "      <td>148.0</td>\n",
       "    </tr>\n",
       "  </tbody>\n",
       "</table>\n",
       "</div>"
      ],
      "text/plain": [
       "                   precision    recall  f1-score  support\n",
       "B-SONG              0.038462  0.100000  0.090909     20.0\n",
       "I-SONG              0.018382  0.116279  0.069930     43.0\n",
       "B-TRAILER           0.000000  0.035714  0.031008     28.0\n",
       "B-CHARACTER        -0.018182  0.022727  0.017045     44.0\n",
       "I-TITLE             0.070684 -0.005922  0.015596   1182.0\n",
       "B-PLOT             -0.020419  0.043624  0.012987    298.0\n",
       "I-RATINGS_AVERAGE   0.016595 -0.002451  0.008992    408.0\n",
       "B-RATINGS_AVERAGE   0.004927  0.008869  0.006881    451.0\n",
       "I-DIRECTOR         -0.006767  0.014634  0.005918    410.0\n",
       "I-YEAR              0.006957  0.000000  0.003628    528.0\n",
       "B-DIRECTOR         -0.004966  0.008219  0.002777    365.0\n",
       "B-RATING            0.002326  0.002326  0.002326    430.0\n",
       "O                   0.001124  0.002812  0.001950  12447.0\n",
       "B-GENRE             0.003072  0.000000  0.001555    927.0\n",
       "B-YEAR              0.000000  0.000000  0.000000    535.0\n",
       "I-GENRE             0.000000  0.000000  0.000000    123.0\n",
       "I-TRAILER           0.000000  0.000000  0.000000      1.0\n",
       "I-RATING            0.000000  0.000000  0.000000    156.0\n",
       "B-REVIEW            0.000000  0.000000  0.000000     31.0\n",
       "I-REVIEW            0.000000  0.000000  0.000000      9.0\n",
       "B-TITLE             0.014562 -0.013255 -0.008230    679.0\n",
       "B-ACTOR            -0.005014 -0.023095 -0.011756    433.0\n",
       "I-ACTOR            -0.007681 -0.020747 -0.012793    482.0\n",
       "I-CHARACTER        -0.034314  0.000000 -0.018045     47.0\n",
       "I-PLOT             -0.023216  0.000000 -0.023163    148.0"
      ]
     },
     "execution_count": 36,
     "metadata": {},
     "output_type": "execute_result"
    }
   ],
   "source": [
    "# dataframe of the POS classifcation report \n",
    "pos_report = classification_report(y_test, preds, output_dict=True)\n",
    "df_pos = pd.DataFrame(pos_report).transpose()\n",
    "\n",
    "# POS report subtracted from inital report\n",
    "diff_df = df_pos - df_report\n",
    "\n",
    "# Dataframe comparing the accuracy metrics\n",
    "metrics_df = diff_df.loc[['accuracy', 'macro avg', 'weighted avg']]\n",
    "metrics_df = metrics_df.drop('support', axis=1)\n",
    "metrics_df.iloc[0,:2] = np.nan\n",
    "\n",
    "# Dataframe of the difference between the classifcations reports\n",
    "diff_df['support'] = df_report['support']\n",
    "diff_df = diff_df.drop(['accuracy', 'macro avg', 'weighted avg'])\n",
    "\n",
    "# Classification was then sorted by the f1-score difference\n",
    "diff_df = diff_df.sort_values(by='f1-score', ascending=False)\n",
    "diff_df"
   ]
  },
  {
   "cell_type": "markdown",
   "metadata": {},
   "source": [
    "Two of the worst performing classes that were in the 5 lowest performing recall classes underwent significant improvements with the addition of POS tags as features. The f1-score of classes \"B-SONG\" and \"I-SONG\" improved by 9.1% and 7% respectively.\n",
    "\n",
    "The metrics dataframe of the difference between the two classification reports shows an improvement in the precision, recall and f1-score in all averaged metrics (accuracy, macro avg and weighted avg)."
   ]
  },
  {
   "cell_type": "code",
   "execution_count": 37,
   "metadata": {},
   "outputs": [
    {
     "data": {
      "text/html": [
       "<div>\n",
       "<style scoped>\n",
       "    .dataframe tbody tr th:only-of-type {\n",
       "        vertical-align: middle;\n",
       "    }\n",
       "\n",
       "    .dataframe tbody tr th {\n",
       "        vertical-align: top;\n",
       "    }\n",
       "\n",
       "    .dataframe thead th {\n",
       "        text-align: right;\n",
       "    }\n",
       "</style>\n",
       "<table border=\"1\" class=\"dataframe\">\n",
       "  <thead>\n",
       "    <tr style=\"text-align: right;\">\n",
       "      <th></th>\n",
       "      <th>precision</th>\n",
       "      <th>recall</th>\n",
       "      <th>f1-score</th>\n",
       "    </tr>\n",
       "  </thead>\n",
       "  <tbody>\n",
       "    <tr>\n",
       "      <th>accuracy</th>\n",
       "      <td>NaN</td>\n",
       "      <td>NaN</td>\n",
       "      <td>0.001681</td>\n",
       "    </tr>\n",
       "    <tr>\n",
       "      <th>macro avg</th>\n",
       "      <td>0.002261</td>\n",
       "      <td>0.011589</td>\n",
       "      <td>0.007901</td>\n",
       "    </tr>\n",
       "    <tr>\n",
       "      <th>weighted avg</th>\n",
       "      <td>0.005098</td>\n",
       "      <td>0.001681</td>\n",
       "      <td>0.002298</td>\n",
       "    </tr>\n",
       "  </tbody>\n",
       "</table>\n",
       "</div>"
      ],
      "text/plain": [
       "              precision    recall  f1-score\n",
       "accuracy            NaN       NaN  0.001681\n",
       "macro avg      0.002261  0.011589  0.007901\n",
       "weighted avg   0.005098  0.001681  0.002298"
      ]
     },
     "execution_count": 37,
     "metadata": {},
     "output_type": "execute_result"
    }
   ],
   "source": [
    "metrics_df"
   ]
  },
  {
   "cell_type": "markdown",
   "metadata": {},
   "source": [
    "## Question 5: Feature experimentation for optimal macro average\n",
    "\n",
    "A number of different features were used in to explore the optimum macro f1-score. The features that were experimented included:\n",
    " - Prefixes and suffixes: The initial get_features function used only 3 suffixes. This was expanded to try up to 6 prefixes and suffixes.\n",
    " - Previous/next words and tokens: The previous and next two words and POS tokens were used as features, and various combinations of the words and tokens were trialled\n",
    " - Frequently misclassified words: The words that led to low scores in poor performing precision and recall classes were located and attempts to rectify this were made\n"
   ]
  },
  {
   "cell_type": "code",
   "execution_count": 67,
   "metadata": {},
   "outputs": [],
   "source": [
    "_pattern = re.compile(r\"\\d\")  # to recognize numbers/digits\n",
    "\n",
    "# This is the 'out-of-the-box' get_features function from the nltk CRF tagger\n",
    "def get_features(tokens, idx):\n",
    "    \"\"\"\n",
    "    Extract basic features about this word including\n",
    "         - Current Word\n",
    "         - Is Capitalized ?\n",
    "         - Has Punctuation ?\n",
    "         - Has Number ?\n",
    "         - Suffixes up to length 3\n",
    "    Note that : we might include feature over previous word, next word ect.\n",
    "\n",
    "    :return : a list which contains the features\n",
    "    :rtype : list(str)\n",
    "\n",
    "    \"\"\"\n",
    "    \n",
    "    token_and_POS = tokens[idx]\n",
    "    split_token = token_and_POS.split(\"@\")\n",
    "    token = split_token[0]\n",
    "    POS_token = split_token[1]\n",
    "    \n",
    "    \n",
    "\n",
    "    feature_list = []\n",
    "    \n",
    "    # Previous 2 tokens and tags\n",
    "    if idx >= 2:\n",
    "        prev_token_and_POS2 = tokens[idx-2]\n",
    "        prev_split2 = prev_token_and_POS2.split(\"@\")\n",
    "        prev_token2 = prev_split2[0]\n",
    "        prev_POS_token2 = prev_split2[1]\n",
    "        feature_list.append(\"Prev2_WORD_\"+prev_token2)\n",
    "        feature_list.append(\"Prev2_POS_token_\"+prev_POS_token2)\n",
    "    \n",
    "    if idx >= 1:\n",
    "        prev_token_and_POS = tokens[idx-1]\n",
    "        prev_split = prev_token_and_POS.split(\"@\")\n",
    "        prev_token = prev_split[0]\n",
    "        prev_POS_token = prev_split[1]\n",
    "        feature_list.append(\"Prev_WORD_\"+prev_token)\n",
    "        feature_list.append(\"Prev_POS_token_\"+prev_POS_token)\n",
    "\n",
    "    if not token:\n",
    "        return feature_list\n",
    "\n",
    "    # Capitalization\n",
    "    if token[0].isupper():\n",
    "        feature_list.append(\"CAPITALIZATION\")\n",
    "\n",
    "    # Number\n",
    "    if re.search(_pattern, token) is not None:\n",
    "        feature_list.append(\"HAS_NUM\")\n",
    "\n",
    "    # Punctuation\n",
    "    punc_cat = set([\"Pc\", \"Pd\", \"Ps\", \"Pe\", \"Pi\", \"Pf\", \"Po\"])\n",
    "    if all(unicodedata.category(x) in punc_cat for x in token):\n",
    "        feature_list.append(\"PUNCTUATION\")\n",
    "\n",
    "#     Suffix up to length 5\n",
    "    if len(token) > 1:\n",
    "        feature_list.append(\"SUF_\" + token[-1:])\n",
    "    if len(token) > 2:\n",
    "        feature_list.append(\"SUF_\" + token[-2:])\n",
    "#     if len(token) > 3:\n",
    "#         feature_list.append(\"SUF_\" + token[-3:])\n",
    "#     if len(token) > 4:\n",
    "#         feature_list.append(\"SUF_\" + token[-4:])\n",
    "#     if len(token) > 5:\n",
    "#         feature_list.append(\"SUF_\" + token[-5:])\n",
    "#     if len(token) > 6:\n",
    "#         feature_list.append(\"SUF_\" + token[-6:]\n",
    "\n",
    "    # Prefix up to length 5\n",
    "    if len(token) > 1:\n",
    "        feature_list.append(\"PRE_\" + token[:1])\n",
    "    if len(token) > 2:\n",
    "        feature_list.append(\"PRE_\" + token[:2])\n",
    "    if len(token) > 3:\n",
    "        feature_list.append(\"PRE_\" + token[:3])\n",
    "    if len(token) > 4:\n",
    "        feature_list.append(\"PRE_\" + token[:4])\n",
    "    if len(token) > 5:\n",
    "        feature_list.append(\"PRE_\" + token[:5])\n",
    "#     if len(token) > 6:\n",
    "#         feature_list.append(\"PRE_\" + token[:6])\n",
    "    \n",
    "#     if token == \"best\":\n",
    "#         feature_list.append(\"BIO_\" + 'O')\n",
    "        \n",
    "#     if token == 'think':\n",
    "#         feature_list.append(\"BIO_1\")\n",
    "#     if token == 'reviews':\n",
    "#         feature_list.append(\"BIO_1\")\n",
    "#     if token == 'come':\n",
    "#         feature_list.append(\"BIO_1\")\n",
    "\n",
    "    feature_list.append(\"WORD_\" + token)\n",
    "    feature_list.append(\"POS_\"+POS_token)\n",
    "\n",
    "    # Next 2 tokens and tags\n",
    "    if idx+1 < len(tokens):\n",
    "        next_token_and_POS = tokens[idx+1]\n",
    "        next_split = next_token_and_POS.split(\"@\")\n",
    "        next_token = next_split[0]\n",
    "        next_POS_token = next_split[1]\n",
    "        feature_list.append(\"Next_WORD_\"+next_token)\n",
    "        feature_list.append(\"Next_POS_token_\"+next_POS_token)\n",
    "\n",
    "#     if idx+2 < len(tokens):\n",
    "#         next_token_and_POS2 = tokens[idx+2]\n",
    "#         next_split2 = next_token_and_POS2.split(\"@\")\n",
    "#         next_token2 = next_split2[0]\n",
    "#         next_POS_token2 = next_split2[1]\n",
    "#         feature_list.append(\"Next2_WORD_\"+next_token2)\n",
    "#         feature_list.append(\"Next2_POS_token_\"+next_POS_token2)\n",
    "\n",
    "\n",
    "#     print(feature_list)\n",
    "    return feature_list\n"
   ]
  },
  {
   "cell_type": "code",
   "execution_count": 68,
   "metadata": {},
   "outputs": [
    {
     "name": "stdout",
     "output_type": "stream",
     "text": [
      "training tagger...\n",
      "done\n"
     ]
    }
   ],
   "source": [
    "# Train the CRF BIO-tag tagger\n",
    "TAGGER_PATH = \"crf_nlu.tagger\"  # path to the tagger- it will save/access the model from here\n",
    "ct = CRFTagger(feature_func=get_features)  # initialize tagger with get_features function\n",
    "\n",
    "\n",
    "print(\"training tagger...\")\n",
    "ct.train(train_set, TAGGER_PATH)\n",
    "print(\"done\")"
   ]
  },
  {
   "cell_type": "code",
   "execution_count": 69,
   "metadata": {},
   "outputs": [
    {
     "name": "stdout",
     "output_type": "stream",
     "text": [
      "1955 instances\n",
      "20225 words\n"
     ]
    }
   ],
   "source": [
    "# load tagger from saved file\n",
    "ct = CRFTagger(feature_func=get_features)  # initialize tagger\n",
    "ct.set_model_file(TAGGER_PATH)  # load model from file\n",
    "\n",
    "# # prepare the test data:\n",
    "# raw_test_data = get_raw_data_from_bio_file(\"engtest.bio.txt\") \n",
    "# test_data = [preProcess(example) for example in raw_test_data]\n",
    "print(len(dev_set), \"instances\")\n",
    "print(sum([len(sent) for sent in dev_set]), \"words\")"
   ]
  },
  {
   "cell_type": "code",
   "execution_count": 70,
   "metadata": {},
   "outputs": [
    {
     "name": "stdout",
     "output_type": "stream",
     "text": [
      "testing tagger...\n",
      "done\n"
     ]
    }
   ],
   "source": [
    "print(\"testing tagger...\")\n",
    "preds = []\n",
    "y_test = []\n",
    "for sent in dev_set:\n",
    "    sent_preds = [x[1] for x in ct.tag([s[0] for s in sent])]\n",
    "    sent_true = [s[1] for s in sent]\n",
    "    preds.extend(sent_preds)\n",
    "    y_test.extend(sent_true)\n",
    "print(\"done\")"
   ]
  },
  {
   "cell_type": "code",
   "execution_count": 71,
   "metadata": {},
   "outputs": [
    {
     "name": "stdout",
     "output_type": "stream",
     "text": [
      "                   precision    recall  f1-score   support\n",
      "\n",
      "          B-ACTOR       0.83      0.96      0.89       433\n",
      "      B-CHARACTER       0.67      0.27      0.39        44\n",
      "       B-DIRECTOR       0.98      0.89      0.93       365\n",
      "          B-GENRE       0.98      0.97      0.98       927\n",
      "           B-PLOT       0.81      0.81      0.81       298\n",
      "         B-RATING       1.00      1.00      1.00       430\n",
      "B-RATINGS_AVERAGE       0.90      0.95      0.93       451\n",
      "         B-REVIEW       0.00      0.00      0.00        31\n",
      "           B-SONG       0.80      0.40      0.53        20\n",
      "          B-TITLE       0.85      0.68      0.76       679\n",
      "        B-TRAILER       0.90      0.32      0.47        28\n",
      "           B-YEAR       0.95      1.00      0.97       535\n",
      "          I-ACTOR       0.82      0.95      0.88       482\n",
      "      I-CHARACTER       0.67      0.26      0.37        47\n",
      "       I-DIRECTOR       0.98      0.87      0.92       410\n",
      "          I-GENRE       0.94      1.00      0.97       123\n",
      "           I-PLOT       0.58      0.85      0.69       148\n",
      "         I-RATING       0.99      1.00      0.99       156\n",
      "I-RATINGS_AVERAGE       0.88      0.96      0.92       408\n",
      "         I-REVIEW       0.00      0.00      0.00         9\n",
      "           I-SONG       0.76      0.44      0.56        43\n",
      "          I-TITLE       0.90      0.73      0.81      1182\n",
      "        I-TRAILER       0.00      0.00      0.00         1\n",
      "           I-YEAR       0.96      1.00      0.98       528\n",
      "                O       0.96      0.98      0.97     12447\n",
      "\n",
      "         accuracy                           0.94     20225\n",
      "        macro avg       0.76      0.69      0.71     20225\n",
      "     weighted avg       0.94      0.94      0.94     20225\n",
      "\n"
     ]
    },
    {
     "name": "stderr",
     "output_type": "stream",
     "text": [
      "/Users/Mark/opt/anaconda3/lib/python3.7/site-packages/sklearn/metrics/_classification.py:1272: UndefinedMetricWarning: Precision and F-score are ill-defined and being set to 0.0 in labels with no predicted samples. Use `zero_division` parameter to control this behavior.\n",
      "  _warn_prf(average, modifier, msg_start, len(result))\n"
     ]
    }
   ],
   "source": [
    "print(classification_report(y_test, preds))"
   ]
  },
  {
   "cell_type": "code",
   "execution_count": 72,
   "metadata": {},
   "outputs": [
    {
     "data": {
      "text/plain": [
       "'                   precision    recall  f1-score   support\\n\\n          B-ACTOR       0.83      0.96      0.89       433\\n      B-CHARACTER       0.67      0.27      0.39        44\\n       B-DIRECTOR       0.98      0.89      0.93       365\\n          B-GENRE       0.98      0.97      0.98       927\\n           B-PLOT       0.81      0.81      0.81       298\\n         B-RATING       1.00      1.00      1.00       430\\nB-RATINGS_AVERAGE       0.90      0.95      0.93       451\\n         B-REVIEW       0.00      0.00      0.00        31\\n           B-SONG       0.80      0.40      0.53        20\\n          B-TITLE       0.85      0.68      0.76       679\\n        B-TRAILER       0.90      0.32      0.47        28\\n           B-YEAR       0.95      1.00      0.97       535\\n          I-ACTOR       0.82      0.95      0.88       482\\n      I-CHARACTER       0.67      0.26      0.37        47\\n       I-DIRECTOR       0.98      0.87      0.92       410\\n          I-GENRE       0.94      1.00      0.97       123\\n           I-PLOT       0.58      0.85      0.69       148\\n         I-RATING       0.99      1.00      0.99       156\\nI-RATINGS_AVERAGE       0.88      0.96      0.92       408\\n         I-REVIEW       0.00      0.00      0.00         9\\n           I-SONG       0.76      0.44      0.56        43\\n          I-TITLE       0.90      0.73      0.81      1182\\n        I-TRAILER       0.00      0.00      0.00         1\\n           I-YEAR       0.96      1.00      0.98       528\\n                O       0.96      0.98      0.97     12447\\n\\n         accuracy                           0.94     20225\\n        macro avg       0.76      0.69      0.71     20225\\n     weighted avg       0.94      0.94      0.94     20225\\n'"
      ]
     },
     "execution_count": 72,
     "metadata": {},
     "output_type": "execute_result"
    }
   ],
   "source": [
    "classification_report(y_test, preds)"
   ]
  },
  {
   "cell_type": "code",
   "execution_count": 73,
   "metadata": {},
   "outputs": [
    {
     "data": {
      "text/html": [
       "<div>\n",
       "<style scoped>\n",
       "    .dataframe tbody tr th:only-of-type {\n",
       "        vertical-align: middle;\n",
       "    }\n",
       "\n",
       "    .dataframe tbody tr th {\n",
       "        vertical-align: top;\n",
       "    }\n",
       "\n",
       "    .dataframe thead th {\n",
       "        text-align: right;\n",
       "    }\n",
       "</style>\n",
       "<table border=\"1\" class=\"dataframe\">\n",
       "  <thead>\n",
       "    <tr style=\"text-align: right;\">\n",
       "      <th></th>\n",
       "      <th>precision</th>\n",
       "      <th>recall</th>\n",
       "      <th>f1-score</th>\n",
       "      <th>support</th>\n",
       "    </tr>\n",
       "  </thead>\n",
       "  <tbody>\n",
       "    <tr>\n",
       "      <th>B-ACTOR</th>\n",
       "      <td>0.830677</td>\n",
       "      <td>0.963048</td>\n",
       "      <td>0.891979</td>\n",
       "      <td>433.000000</td>\n",
       "    </tr>\n",
       "    <tr>\n",
       "      <th>B-CHARACTER</th>\n",
       "      <td>0.666667</td>\n",
       "      <td>0.272727</td>\n",
       "      <td>0.387097</td>\n",
       "      <td>44.000000</td>\n",
       "    </tr>\n",
       "    <tr>\n",
       "      <th>B-DIRECTOR</th>\n",
       "      <td>0.978916</td>\n",
       "      <td>0.890411</td>\n",
       "      <td>0.932568</td>\n",
       "      <td>365.000000</td>\n",
       "    </tr>\n",
       "    <tr>\n",
       "      <th>B-GENRE</th>\n",
       "      <td>0.977273</td>\n",
       "      <td>0.974110</td>\n",
       "      <td>0.975689</td>\n",
       "      <td>927.000000</td>\n",
       "    </tr>\n",
       "    <tr>\n",
       "      <th>B-PLOT</th>\n",
       "      <td>0.814815</td>\n",
       "      <td>0.812081</td>\n",
       "      <td>0.813445</td>\n",
       "      <td>298.000000</td>\n",
       "    </tr>\n",
       "    <tr>\n",
       "      <th>B-RATING</th>\n",
       "      <td>1.000000</td>\n",
       "      <td>1.000000</td>\n",
       "      <td>1.000000</td>\n",
       "      <td>430.000000</td>\n",
       "    </tr>\n",
       "    <tr>\n",
       "      <th>B-RATINGS_AVERAGE</th>\n",
       "      <td>0.904661</td>\n",
       "      <td>0.946785</td>\n",
       "      <td>0.925244</td>\n",
       "      <td>451.000000</td>\n",
       "    </tr>\n",
       "    <tr>\n",
       "      <th>B-REVIEW</th>\n",
       "      <td>0.000000</td>\n",
       "      <td>0.000000</td>\n",
       "      <td>0.000000</td>\n",
       "      <td>31.000000</td>\n",
       "    </tr>\n",
       "    <tr>\n",
       "      <th>B-SONG</th>\n",
       "      <td>0.800000</td>\n",
       "      <td>0.400000</td>\n",
       "      <td>0.533333</td>\n",
       "      <td>20.000000</td>\n",
       "    </tr>\n",
       "    <tr>\n",
       "      <th>B-TITLE</th>\n",
       "      <td>0.852399</td>\n",
       "      <td>0.680412</td>\n",
       "      <td>0.756757</td>\n",
       "      <td>679.000000</td>\n",
       "    </tr>\n",
       "    <tr>\n",
       "      <th>B-TRAILER</th>\n",
       "      <td>0.900000</td>\n",
       "      <td>0.321429</td>\n",
       "      <td>0.473684</td>\n",
       "      <td>28.000000</td>\n",
       "    </tr>\n",
       "    <tr>\n",
       "      <th>B-YEAR</th>\n",
       "      <td>0.953488</td>\n",
       "      <td>0.996262</td>\n",
       "      <td>0.974406</td>\n",
       "      <td>535.000000</td>\n",
       "    </tr>\n",
       "    <tr>\n",
       "      <th>I-ACTOR</th>\n",
       "      <td>0.823423</td>\n",
       "      <td>0.948133</td>\n",
       "      <td>0.881389</td>\n",
       "      <td>482.000000</td>\n",
       "    </tr>\n",
       "    <tr>\n",
       "      <th>I-CHARACTER</th>\n",
       "      <td>0.666667</td>\n",
       "      <td>0.255319</td>\n",
       "      <td>0.369231</td>\n",
       "      <td>47.000000</td>\n",
       "    </tr>\n",
       "    <tr>\n",
       "      <th>I-DIRECTOR</th>\n",
       "      <td>0.983471</td>\n",
       "      <td>0.870732</td>\n",
       "      <td>0.923674</td>\n",
       "      <td>410.000000</td>\n",
       "    </tr>\n",
       "    <tr>\n",
       "      <th>I-GENRE</th>\n",
       "      <td>0.938931</td>\n",
       "      <td>1.000000</td>\n",
       "      <td>0.968504</td>\n",
       "      <td>123.000000</td>\n",
       "    </tr>\n",
       "    <tr>\n",
       "      <th>I-PLOT</th>\n",
       "      <td>0.575342</td>\n",
       "      <td>0.851351</td>\n",
       "      <td>0.686649</td>\n",
       "      <td>148.000000</td>\n",
       "    </tr>\n",
       "    <tr>\n",
       "      <th>I-RATING</th>\n",
       "      <td>0.987342</td>\n",
       "      <td>1.000000</td>\n",
       "      <td>0.993631</td>\n",
       "      <td>156.000000</td>\n",
       "    </tr>\n",
       "    <tr>\n",
       "      <th>I-RATINGS_AVERAGE</th>\n",
       "      <td>0.884354</td>\n",
       "      <td>0.955882</td>\n",
       "      <td>0.918728</td>\n",
       "      <td>408.000000</td>\n",
       "    </tr>\n",
       "    <tr>\n",
       "      <th>I-REVIEW</th>\n",
       "      <td>0.000000</td>\n",
       "      <td>0.000000</td>\n",
       "      <td>0.000000</td>\n",
       "      <td>9.000000</td>\n",
       "    </tr>\n",
       "    <tr>\n",
       "      <th>I-SONG</th>\n",
       "      <td>0.760000</td>\n",
       "      <td>0.441860</td>\n",
       "      <td>0.558824</td>\n",
       "      <td>43.000000</td>\n",
       "    </tr>\n",
       "    <tr>\n",
       "      <th>I-TITLE</th>\n",
       "      <td>0.898551</td>\n",
       "      <td>0.734349</td>\n",
       "      <td>0.808194</td>\n",
       "      <td>1182.000000</td>\n",
       "    </tr>\n",
       "    <tr>\n",
       "      <th>I-TRAILER</th>\n",
       "      <td>0.000000</td>\n",
       "      <td>0.000000</td>\n",
       "      <td>0.000000</td>\n",
       "      <td>1.000000</td>\n",
       "    </tr>\n",
       "    <tr>\n",
       "      <th>I-YEAR</th>\n",
       "      <td>0.959927</td>\n",
       "      <td>0.998106</td>\n",
       "      <td>0.978644</td>\n",
       "      <td>528.000000</td>\n",
       "    </tr>\n",
       "    <tr>\n",
       "      <th>O</th>\n",
       "      <td>0.961280</td>\n",
       "      <td>0.977344</td>\n",
       "      <td>0.969245</td>\n",
       "      <td>12447.000000</td>\n",
       "    </tr>\n",
       "    <tr>\n",
       "      <th>accuracy</th>\n",
       "      <td>0.937849</td>\n",
       "      <td>0.937849</td>\n",
       "      <td>0.937849</td>\n",
       "      <td>0.937849</td>\n",
       "    </tr>\n",
       "    <tr>\n",
       "      <th>macro avg</th>\n",
       "      <td>0.764727</td>\n",
       "      <td>0.691614</td>\n",
       "      <td>0.708837</td>\n",
       "      <td>20225.000000</td>\n",
       "    </tr>\n",
       "    <tr>\n",
       "      <th>weighted avg</th>\n",
       "      <td>0.938282</td>\n",
       "      <td>0.937849</td>\n",
       "      <td>0.935901</td>\n",
       "      <td>20225.000000</td>\n",
       "    </tr>\n",
       "  </tbody>\n",
       "</table>\n",
       "</div>"
      ],
      "text/plain": [
       "                   precision    recall  f1-score       support\n",
       "B-ACTOR             0.830677  0.963048  0.891979    433.000000\n",
       "B-CHARACTER         0.666667  0.272727  0.387097     44.000000\n",
       "B-DIRECTOR          0.978916  0.890411  0.932568    365.000000\n",
       "B-GENRE             0.977273  0.974110  0.975689    927.000000\n",
       "B-PLOT              0.814815  0.812081  0.813445    298.000000\n",
       "B-RATING            1.000000  1.000000  1.000000    430.000000\n",
       "B-RATINGS_AVERAGE   0.904661  0.946785  0.925244    451.000000\n",
       "B-REVIEW            0.000000  0.000000  0.000000     31.000000\n",
       "B-SONG              0.800000  0.400000  0.533333     20.000000\n",
       "B-TITLE             0.852399  0.680412  0.756757    679.000000\n",
       "B-TRAILER           0.900000  0.321429  0.473684     28.000000\n",
       "B-YEAR              0.953488  0.996262  0.974406    535.000000\n",
       "I-ACTOR             0.823423  0.948133  0.881389    482.000000\n",
       "I-CHARACTER         0.666667  0.255319  0.369231     47.000000\n",
       "I-DIRECTOR          0.983471  0.870732  0.923674    410.000000\n",
       "I-GENRE             0.938931  1.000000  0.968504    123.000000\n",
       "I-PLOT              0.575342  0.851351  0.686649    148.000000\n",
       "I-RATING            0.987342  1.000000  0.993631    156.000000\n",
       "I-RATINGS_AVERAGE   0.884354  0.955882  0.918728    408.000000\n",
       "I-REVIEW            0.000000  0.000000  0.000000      9.000000\n",
       "I-SONG              0.760000  0.441860  0.558824     43.000000\n",
       "I-TITLE             0.898551  0.734349  0.808194   1182.000000\n",
       "I-TRAILER           0.000000  0.000000  0.000000      1.000000\n",
       "I-YEAR              0.959927  0.998106  0.978644    528.000000\n",
       "O                   0.961280  0.977344  0.969245  12447.000000\n",
       "accuracy            0.937849  0.937849  0.937849      0.937849\n",
       "macro avg           0.764727  0.691614  0.708837  20225.000000\n",
       "weighted avg        0.938282  0.937849  0.935901  20225.000000"
      ]
     },
     "execution_count": 73,
     "metadata": {},
     "output_type": "execute_result"
    }
   ],
   "source": [
    "pd.DataFrame(classification_report(y_test, preds, output_dict=True)).transpose()"
   ]
  },
  {
   "cell_type": "markdown",
   "metadata": {},
   "source": [
    "### Previous and next words and POS tags"
   ]
  },
  {
   "cell_type": "markdown",
   "metadata": {},
   "source": [
    "A variety of  of the previous and next words and POS tokens as features were tested. A model of the 2 previous and 1 next words and tags were found to be the optimum features with a macro f1-score of 0.70. The classification reports of the different combinations are given below. The macro f1-score of the 1 previous and 1 next was also 0.70. These numbers were explored to more precise significant figures and are given below.\n",
    "\n",
    "    2 prev, 1 next f1-score: 0.703528\n",
    "    1 prev, 1 next f1-score: 0.700419\n"
   ]
  },
  {
   "cell_type": "markdown",
   "metadata": {},
   "source": [
    "#### Prev 1, next 1 words and POS tokens"
   ]
  },
  {
   "cell_type": "code",
   "execution_count": 45,
   "metadata": {},
   "outputs": [
    {
     "name": "stdout",
     "output_type": "stream",
     "text": [
      "                   precision    recall  f1-score   support\n",
      "\n",
      "          B-ACTOR       0.85      0.95      0.90       433\n",
      "      B-CHARACTER       0.81      0.30      0.43        44\n",
      "       B-DIRECTOR       0.96      0.91      0.93       365\n",
      "          B-GENRE       0.98      0.98      0.98       927\n",
      "           B-PLOT       0.80      0.86      0.83       298\n",
      "         B-RATING       1.00      1.00      1.00       430\n",
      "B-RATINGS_AVERAGE       0.92      0.95      0.93       451\n",
      "         B-REVIEW       0.00      0.00      0.00        31\n",
      "           B-SONG       0.70      0.35      0.47        20\n",
      "          B-TITLE       0.82      0.64      0.72       679\n",
      "        B-TRAILER       0.86      0.21      0.34        28\n",
      "           B-YEAR       0.96      1.00      0.98       535\n",
      "          I-ACTOR       0.85      0.93      0.89       482\n",
      "      I-CHARACTER       0.70      0.30      0.42        47\n",
      "       I-DIRECTOR       0.96      0.89      0.92       410\n",
      "          I-GENRE       0.95      1.00      0.98       123\n",
      "           I-PLOT       0.54      0.91      0.68       148\n",
      "         I-RATING       0.99      1.00      1.00       156\n",
      "I-RATINGS_AVERAGE       0.87      0.96      0.91       408\n",
      "         I-REVIEW       0.00      0.00      0.00         9\n",
      "           I-SONG       0.65      0.40      0.49        43\n",
      "          I-TITLE       0.88      0.69      0.77      1182\n",
      "        I-TRAILER       0.00      0.00      0.00         1\n",
      "           I-YEAR       0.96      1.00      0.98       528\n",
      "                O       0.96      0.98      0.97     12447\n",
      "\n",
      "         accuracy                           0.94     20225\n",
      "        macro avg       0.76      0.69      0.70     20225\n",
      "     weighted avg       0.93      0.94      0.93     20225\n",
      "\n"
     ]
    }
   ],
   "source": [
    "\n",
    "print('                   precision    recall  f1-score   support\\n\\n          B-ACTOR       0.85      0.95      0.90       433\\n      B-CHARACTER       0.81      0.30      0.43        44\\n       B-DIRECTOR       0.96      0.91      0.93       365\\n          B-GENRE       0.98      0.98      0.98       927\\n           B-PLOT       0.80      0.86      0.83       298\\n         B-RATING       1.00      1.00      1.00       430\\nB-RATINGS_AVERAGE       0.92      0.95      0.93       451\\n         B-REVIEW       0.00      0.00      0.00        31\\n           B-SONG       0.70      0.35      0.47        20\\n          B-TITLE       0.82      0.64      0.72       679\\n        B-TRAILER       0.86      0.21      0.34        28\\n           B-YEAR       0.96      1.00      0.98       535\\n          I-ACTOR       0.85      0.93      0.89       482\\n      I-CHARACTER       0.70      0.30      0.42        47\\n       I-DIRECTOR       0.96      0.89      0.92       410\\n          I-GENRE       0.95      1.00      0.98       123\\n           I-PLOT       0.54      0.91      0.68       148\\n         I-RATING       0.99      1.00      1.00       156\\nI-RATINGS_AVERAGE       0.87      0.96      0.91       408\\n         I-REVIEW       0.00      0.00      0.00         9\\n           I-SONG       0.65      0.40      0.49        43\\n          I-TITLE       0.88      0.69      0.77      1182\\n        I-TRAILER       0.00      0.00      0.00         1\\n           I-YEAR       0.96      1.00      0.98       528\\n                O       0.96      0.98      0.97     12447\\n\\n         accuracy                           0.94     20225\\n        macro avg       0.76      0.69      0.70     20225\\n     weighted avg       0.93      0.94      0.93     20225\\n')"
   ]
  },
  {
   "cell_type": "markdown",
   "metadata": {},
   "source": [
    "#### Prev 2, next 2 words and POS tokens\n"
   ]
  },
  {
   "cell_type": "code",
   "execution_count": 46,
   "metadata": {},
   "outputs": [
    {
     "name": "stdout",
     "output_type": "stream",
     "text": [
      "                   precision    recall  f1-score   support\n",
      "\n",
      "          B-ACTOR       0.83      0.95      0.89       433\n",
      "      B-CHARACTER       0.62      0.23      0.33        44\n",
      "       B-DIRECTOR       0.98      0.89      0.93       365\n",
      "          B-GENRE       0.98      0.98      0.98       927\n",
      "           B-PLOT       0.81      0.84      0.83       298\n",
      "         B-RATING       1.00      1.00      1.00       430\n",
      "B-RATINGS_AVERAGE       0.91      0.96      0.93       451\n",
      "         B-REVIEW       0.00      0.00      0.00        31\n",
      "           B-SONG       0.70      0.35      0.47        20\n",
      "          B-TITLE       0.85      0.68      0.75       679\n",
      "        B-TRAILER       0.88      0.25      0.39        28\n",
      "           B-YEAR       0.95      1.00      0.97       535\n",
      "          I-ACTOR       0.83      0.93      0.88       482\n",
      "      I-CHARACTER       0.62      0.11      0.18        47\n",
      "       I-DIRECTOR       0.98      0.87      0.92       410\n",
      "          I-GENRE       0.93      1.00      0.96       123\n",
      "           I-PLOT       0.54      0.86      0.66       148\n",
      "         I-RATING       0.98      1.00      0.99       156\n",
      "I-RATINGS_AVERAGE       0.88      0.96      0.91       408\n",
      "         I-REVIEW       0.00      0.00      0.00         9\n",
      "           I-SONG       0.59      0.40      0.47        43\n",
      "          I-TITLE       0.90      0.73      0.80      1182\n",
      "        I-TRAILER       0.00      0.00      0.00         1\n",
      "           I-YEAR       0.97      1.00      0.98       528\n",
      "                O       0.96      0.98      0.97     12447\n",
      "\n",
      "         accuracy                           0.94     20225\n",
      "        macro avg       0.75      0.68      0.69     20225\n",
      "     weighted avg       0.94      0.94      0.93     20225\n",
      "\n"
     ]
    }
   ],
   "source": [
    "print('                   precision    recall  f1-score   support\\n\\n          B-ACTOR       0.83      0.95      0.89       433\\n      B-CHARACTER       0.62      0.23      0.33        44\\n       B-DIRECTOR       0.98      0.89      0.93       365\\n          B-GENRE       0.98      0.98      0.98       927\\n           B-PLOT       0.81      0.84      0.83       298\\n         B-RATING       1.00      1.00      1.00       430\\nB-RATINGS_AVERAGE       0.91      0.96      0.93       451\\n         B-REVIEW       0.00      0.00      0.00        31\\n           B-SONG       0.70      0.35      0.47        20\\n          B-TITLE       0.85      0.68      0.75       679\\n        B-TRAILER       0.88      0.25      0.39        28\\n           B-YEAR       0.95      1.00      0.97       535\\n          I-ACTOR       0.83      0.93      0.88       482\\n      I-CHARACTER       0.62      0.11      0.18        47\\n       I-DIRECTOR       0.98      0.87      0.92       410\\n          I-GENRE       0.93      1.00      0.96       123\\n           I-PLOT       0.54      0.86      0.66       148\\n         I-RATING       0.98      1.00      0.99       156\\nI-RATINGS_AVERAGE       0.88      0.96      0.91       408\\n         I-REVIEW       0.00      0.00      0.00         9\\n           I-SONG       0.59      0.40      0.47        43\\n          I-TITLE       0.90      0.73      0.80      1182\\n        I-TRAILER       0.00      0.00      0.00         1\\n           I-YEAR       0.97      1.00      0.98       528\\n                O       0.96      0.98      0.97     12447\\n\\n         accuracy                           0.94     20225\\n        macro avg       0.75      0.68      0.69     20225\\n     weighted avg       0.94      0.94      0.93     20225\\n')"
   ]
  },
  {
   "cell_type": "markdown",
   "metadata": {},
   "source": [
    "#### Prev 2, next 1 words and POS tokens"
   ]
  },
  {
   "cell_type": "code",
   "execution_count": 47,
   "metadata": {},
   "outputs": [
    {
     "name": "stdout",
     "output_type": "stream",
     "text": [
      "                   precision    recall  f1-score   support\n",
      "\n",
      "          B-ACTOR       0.84      0.96      0.90       433\n",
      "      B-CHARACTER       0.63      0.27      0.38        44\n",
      "       B-DIRECTOR       0.98      0.90      0.94       365\n",
      "          B-GENRE       0.98      0.98      0.98       927\n",
      "           B-PLOT       0.82      0.84      0.83       298\n",
      "         B-RATING       1.00      1.00      1.00       430\n",
      "B-RATINGS_AVERAGE       0.91      0.95      0.93       451\n",
      "         B-REVIEW       0.00      0.00      0.00        31\n",
      "           B-SONG       0.70      0.35      0.47        20\n",
      "          B-TITLE       0.86      0.68      0.76       679\n",
      "        B-TRAILER       0.90      0.32      0.47        28\n",
      "           B-YEAR       0.95      1.00      0.97       535\n",
      "          I-ACTOR       0.84      0.94      0.88       482\n",
      "      I-CHARACTER       0.60      0.26      0.36        47\n",
      "       I-DIRECTOR       0.98      0.87      0.92       410\n",
      "          I-GENRE       0.93      1.00      0.96       123\n",
      "           I-PLOT       0.56      0.86      0.68       148\n",
      "         I-RATING       0.98      1.00      0.99       156\n",
      "I-RATINGS_AVERAGE       0.89      0.96      0.92       408\n",
      "         I-REVIEW       0.00      0.00      0.00         9\n",
      "           I-SONG       0.65      0.40      0.49        43\n",
      "          I-TITLE       0.91      0.73      0.81      1182\n",
      "        I-TRAILER       0.00      0.00      0.00         1\n",
      "           I-YEAR       0.96      1.00      0.98       528\n",
      "                O       0.96      0.98      0.97     12447\n",
      "\n",
      "         accuracy                           0.94     20225\n",
      "        macro avg       0.75      0.69      0.70     20225\n",
      "     weighted avg       0.94      0.94      0.94     20225\n",
      "\n"
     ]
    }
   ],
   "source": [
    "print('                   precision    recall  f1-score   support\\n\\n          B-ACTOR       0.84      0.96      0.90       433\\n      B-CHARACTER       0.63      0.27      0.38        44\\n       B-DIRECTOR       0.98      0.90      0.94       365\\n          B-GENRE       0.98      0.98      0.98       927\\n           B-PLOT       0.82      0.84      0.83       298\\n         B-RATING       1.00      1.00      1.00       430\\nB-RATINGS_AVERAGE       0.91      0.95      0.93       451\\n         B-REVIEW       0.00      0.00      0.00        31\\n           B-SONG       0.70      0.35      0.47        20\\n          B-TITLE       0.86      0.68      0.76       679\\n        B-TRAILER       0.90      0.32      0.47        28\\n           B-YEAR       0.95      1.00      0.97       535\\n          I-ACTOR       0.84      0.94      0.88       482\\n      I-CHARACTER       0.60      0.26      0.36        47\\n       I-DIRECTOR       0.98      0.87      0.92       410\\n          I-GENRE       0.93      1.00      0.96       123\\n           I-PLOT       0.56      0.86      0.68       148\\n         I-RATING       0.98      1.00      0.99       156\\nI-RATINGS_AVERAGE       0.89      0.96      0.92       408\\n         I-REVIEW       0.00      0.00      0.00         9\\n           I-SONG       0.65      0.40      0.49        43\\n          I-TITLE       0.91      0.73      0.81      1182\\n        I-TRAILER       0.00      0.00      0.00         1\\n           I-YEAR       0.96      1.00      0.98       528\\n                O       0.96      0.98      0.97     12447\\n\\n         accuracy                           0.94     20225\\n        macro avg       0.75      0.69      0.70     20225\\n     weighted avg       0.94      0.94      0.94     20225\\n')"
   ]
  },
  {
   "cell_type": "markdown",
   "metadata": {},
   "source": [
    "#### Prev 1, next 2 words and POS tokens"
   ]
  },
  {
   "cell_type": "code",
   "execution_count": 48,
   "metadata": {},
   "outputs": [
    {
     "name": "stdout",
     "output_type": "stream",
     "text": [
      "                   precision    recall  f1-score   support\n",
      "\n",
      "          B-ACTOR       0.85      0.94      0.89       433\n",
      "      B-CHARACTER       0.75      0.20      0.32        44\n",
      "       B-DIRECTOR       0.96      0.90      0.93       365\n",
      "          B-GENRE       0.98      0.98      0.98       927\n",
      "           B-PLOT       0.78      0.84      0.81       298\n",
      "         B-RATING       1.00      1.00      1.00       430\n",
      "B-RATINGS_AVERAGE       0.93      0.96      0.94       451\n",
      "         B-REVIEW       0.00      0.00      0.00        31\n",
      "           B-SONG       0.73      0.40      0.52        20\n",
      "          B-TITLE       0.83      0.65      0.73       679\n",
      "        B-TRAILER       0.86      0.21      0.34        28\n",
      "           B-YEAR       0.96      0.99      0.98       535\n",
      "          I-ACTOR       0.84      0.93      0.88       482\n",
      "      I-CHARACTER       0.62      0.21      0.32        47\n",
      "       I-DIRECTOR       0.96      0.89      0.92       410\n",
      "          I-GENRE       0.94      1.00      0.97       123\n",
      "           I-PLOT       0.51      0.90      0.65       148\n",
      "         I-RATING       0.99      1.00      1.00       156\n",
      "I-RATINGS_AVERAGE       0.88      0.95      0.92       408\n",
      "         I-REVIEW       0.00      0.00      0.00         9\n",
      "           I-SONG       0.61      0.40      0.48        43\n",
      "          I-TITLE       0.89      0.69      0.78      1182\n",
      "        I-TRAILER       0.00      0.00      0.00         1\n",
      "           I-YEAR       0.97      0.99      0.98       528\n",
      "                O       0.96      0.98      0.97     12447\n",
      "\n",
      "         accuracy                           0.94     20225\n",
      "        macro avg       0.75      0.68      0.69     20225\n",
      "     weighted avg       0.94      0.94      0.93     20225\n",
      "\n"
     ]
    }
   ],
   "source": [
    "print('                   precision    recall  f1-score   support\\n\\n          B-ACTOR       0.85      0.94      0.89       433\\n      B-CHARACTER       0.75      0.20      0.32        44\\n       B-DIRECTOR       0.96      0.90      0.93       365\\n          B-GENRE       0.98      0.98      0.98       927\\n           B-PLOT       0.78      0.84      0.81       298\\n         B-RATING       1.00      1.00      1.00       430\\nB-RATINGS_AVERAGE       0.93      0.96      0.94       451\\n         B-REVIEW       0.00      0.00      0.00        31\\n           B-SONG       0.73      0.40      0.52        20\\n          B-TITLE       0.83      0.65      0.73       679\\n        B-TRAILER       0.86      0.21      0.34        28\\n           B-YEAR       0.96      0.99      0.98       535\\n          I-ACTOR       0.84      0.93      0.88       482\\n      I-CHARACTER       0.62      0.21      0.32        47\\n       I-DIRECTOR       0.96      0.89      0.92       410\\n          I-GENRE       0.94      1.00      0.97       123\\n           I-PLOT       0.51      0.90      0.65       148\\n         I-RATING       0.99      1.00      1.00       156\\nI-RATINGS_AVERAGE       0.88      0.95      0.92       408\\n         I-REVIEW       0.00      0.00      0.00         9\\n           I-SONG       0.61      0.40      0.48        43\\n          I-TITLE       0.89      0.69      0.78      1182\\n        I-TRAILER       0.00      0.00      0.00         1\\n           I-YEAR       0.97      0.99      0.98       528\\n                O       0.96      0.98      0.97     12447\\n\\n         accuracy                           0.94     20225\\n        macro avg       0.75      0.68      0.69     20225\\n     weighted avg       0.94      0.94      0.93     20225\\n')"
   ]
  },
  {
   "cell_type": "markdown",
   "metadata": {},
   "source": [
    "### Previous/next words or tokens\n",
    "\n",
    "The effect of the combination of the previous/next words and POS tokens was explored to view the impact of the the addition of the features on the model. In some trials the POS tags were included but not the words and in others, the words were included but not the POS tags.\n",
    "\n",
    "The use of previous/next POS tokens was trialled as a potential features. Given the nature of POS tags which are likely to follow a syntactic structure, it is possible that the inclusion of just the tags could improve the model. \n",
    "\n",
    "However, this was found not to improve the classifier. Using the previous/next first words and the previous/next 2 POS tokens, just the tokens and no words for the previous/next 2 finally just tokens for the previous/next 1 words were attempted.\n",
    "\n",
    "The use of just the tokens and no words led to a significant decrease in the perfomance of the model from 0.71 to 0.65."
   ]
  },
  {
   "cell_type": "markdown",
   "metadata": {},
   "source": [
    "#### Previous/next 2 words, no tokens used"
   ]
  },
  {
   "cell_type": "code",
   "execution_count": 49,
   "metadata": {},
   "outputs": [
    {
     "name": "stdout",
     "output_type": "stream",
     "text": [
      "                   precision    recall  f1-score   support\n",
      "\n",
      "          B-ACTOR       0.85      0.96      0.90       433\n",
      "      B-CHARACTER       0.69      0.20      0.32        44\n",
      "       B-DIRECTOR       0.97      0.89      0.93       365\n",
      "          B-GENRE       0.98      0.98      0.98       927\n",
      "           B-PLOT       0.81      0.84      0.83       298\n",
      "         B-RATING       1.00      1.00      1.00       430\n",
      "B-RATINGS_AVERAGE       0.91      0.96      0.93       451\n",
      "         B-REVIEW       0.00      0.00      0.00        31\n",
      "           B-SONG       0.64      0.35      0.45        20\n",
      "          B-TITLE       0.85      0.66      0.74       679\n",
      "        B-TRAILER       0.86      0.21      0.34        28\n",
      "           B-YEAR       0.95      0.99      0.97       535\n",
      "          I-ACTOR       0.85      0.94      0.89       482\n",
      "      I-CHARACTER       0.86      0.13      0.22        47\n",
      "       I-DIRECTOR       0.97      0.87      0.92       410\n",
      "          I-GENRE       0.93      1.00      0.96       123\n",
      "           I-PLOT       0.52      0.83      0.64       148\n",
      "         I-RATING       0.99      1.00      0.99       156\n",
      "I-RATINGS_AVERAGE       0.88      0.96      0.92       408\n",
      "         I-REVIEW       0.00      0.00      0.00         9\n",
      "           I-SONG       0.55      0.37      0.44        43\n",
      "          I-TITLE       0.88      0.70      0.78      1182\n",
      "        I-TRAILER       0.00      0.00      0.00         1\n",
      "           I-YEAR       0.97      1.00      0.98       528\n",
      "                O       0.96      0.98      0.97     12447\n",
      "\n",
      "         accuracy                           0.93     20225\n",
      "        macro avg       0.75      0.67      0.68     20225\n",
      "     weighted avg       0.93      0.93      0.93     20225\n",
      "\n"
     ]
    }
   ],
   "source": [
    "print('                   precision    recall  f1-score   support\\n\\n          B-ACTOR       0.85      0.96      0.90       433\\n      B-CHARACTER       0.69      0.20      0.32        44\\n       B-DIRECTOR       0.97      0.89      0.93       365\\n          B-GENRE       0.98      0.98      0.98       927\\n           B-PLOT       0.81      0.84      0.83       298\\n         B-RATING       1.00      1.00      1.00       430\\nB-RATINGS_AVERAGE       0.91      0.96      0.93       451\\n         B-REVIEW       0.00      0.00      0.00        31\\n           B-SONG       0.64      0.35      0.45        20\\n          B-TITLE       0.85      0.66      0.74       679\\n        B-TRAILER       0.86      0.21      0.34        28\\n           B-YEAR       0.95      0.99      0.97       535\\n          I-ACTOR       0.85      0.94      0.89       482\\n      I-CHARACTER       0.86      0.13      0.22        47\\n       I-DIRECTOR       0.97      0.87      0.92       410\\n          I-GENRE       0.93      1.00      0.96       123\\n           I-PLOT       0.52      0.83      0.64       148\\n         I-RATING       0.99      1.00      0.99       156\\nI-RATINGS_AVERAGE       0.88      0.96      0.92       408\\n         I-REVIEW       0.00      0.00      0.00         9\\n           I-SONG       0.55      0.37      0.44        43\\n          I-TITLE       0.88      0.70      0.78      1182\\n        I-TRAILER       0.00      0.00      0.00         1\\n           I-YEAR       0.97      1.00      0.98       528\\n                O       0.96      0.98      0.97     12447\\n\\n         accuracy                           0.93     20225\\n        macro avg       0.75      0.67      0.68     20225\\n     weighted avg       0.93      0.93      0.93     20225\\n')"
   ]
  },
  {
   "cell_type": "markdown",
   "metadata": {},
   "source": [
    "#### Previous/next 2 words, previous/next 1 tokens"
   ]
  },
  {
   "cell_type": "code",
   "execution_count": 50,
   "metadata": {},
   "outputs": [
    {
     "name": "stdout",
     "output_type": "stream",
     "text": [
      "                   precision    recall  f1-score   support\n",
      "\n",
      "          B-ACTOR       0.84      0.96      0.89       433\n",
      "      B-CHARACTER       0.67      0.27      0.39        44\n",
      "       B-DIRECTOR       0.97      0.89      0.93       365\n",
      "          B-GENRE       0.98      0.98      0.98       927\n",
      "           B-PLOT       0.81      0.84      0.82       298\n",
      "         B-RATING       1.00      1.00      1.00       430\n",
      "B-RATINGS_AVERAGE       0.92      0.96      0.94       451\n",
      "         B-REVIEW       0.00      0.00      0.00        31\n",
      "           B-SONG       0.78      0.35      0.48        20\n",
      "          B-TITLE       0.85      0.67      0.75       679\n",
      "        B-TRAILER       0.88      0.25      0.39        28\n",
      "           B-YEAR       0.95      1.00      0.97       535\n",
      "          I-ACTOR       0.83      0.94      0.88       482\n",
      "      I-CHARACTER       0.69      0.19      0.30        47\n",
      "       I-DIRECTOR       0.98      0.87      0.92       410\n",
      "          I-GENRE       0.94      1.00      0.97       123\n",
      "           I-PLOT       0.57      0.84      0.68       148\n",
      "         I-RATING       0.99      1.00      1.00       156\n",
      "I-RATINGS_AVERAGE       0.88      0.96      0.92       408\n",
      "         I-REVIEW       0.00      0.00      0.00         9\n",
      "           I-SONG       0.71      0.40      0.51        43\n",
      "          I-TITLE       0.89      0.71      0.79      1182\n",
      "        I-TRAILER       0.00      0.00      0.00         1\n",
      "           I-YEAR       0.96      1.00      0.98       528\n",
      "                O       0.96      0.98      0.97     12447\n",
      "\n",
      "         accuracy                           0.94     20225\n",
      "        macro avg       0.76      0.68      0.70     20225\n",
      "     weighted avg       0.94      0.94      0.93     20225\n",
      "\n"
     ]
    }
   ],
   "source": [
    "print('                   precision    recall  f1-score   support\\n\\n          B-ACTOR       0.84      0.96      0.89       433\\n      B-CHARACTER       0.67      0.27      0.39        44\\n       B-DIRECTOR       0.97      0.89      0.93       365\\n          B-GENRE       0.98      0.98      0.98       927\\n           B-PLOT       0.81      0.84      0.82       298\\n         B-RATING       1.00      1.00      1.00       430\\nB-RATINGS_AVERAGE       0.92      0.96      0.94       451\\n         B-REVIEW       0.00      0.00      0.00        31\\n           B-SONG       0.78      0.35      0.48        20\\n          B-TITLE       0.85      0.67      0.75       679\\n        B-TRAILER       0.88      0.25      0.39        28\\n           B-YEAR       0.95      1.00      0.97       535\\n          I-ACTOR       0.83      0.94      0.88       482\\n      I-CHARACTER       0.69      0.19      0.30        47\\n       I-DIRECTOR       0.98      0.87      0.92       410\\n          I-GENRE       0.94      1.00      0.97       123\\n           I-PLOT       0.57      0.84      0.68       148\\n         I-RATING       0.99      1.00      1.00       156\\nI-RATINGS_AVERAGE       0.88      0.96      0.92       408\\n         I-REVIEW       0.00      0.00      0.00         9\\n           I-SONG       0.71      0.40      0.51        43\\n          I-TITLE       0.89      0.71      0.79      1182\\n        I-TRAILER       0.00      0.00      0.00         1\\n           I-YEAR       0.96      1.00      0.98       528\\n                O       0.96      0.98      0.97     12447\\n\\n         accuracy                           0.94     20225\\n        macro avg       0.76      0.68      0.70     20225\\n     weighted avg       0.94      0.94      0.93     20225\\n')"
   ]
  },
  {
   "cell_type": "markdown",
   "metadata": {},
   "source": [
    "#### Previous/next 2 tokens only, no words used"
   ]
  },
  {
   "cell_type": "code",
   "execution_count": 51,
   "metadata": {},
   "outputs": [
    {
     "name": "stdout",
     "output_type": "stream",
     "text": [
      "                   precision    recall  f1-score   support\n",
      "\n",
      "          B-ACTOR       0.77      0.91      0.83       433\n",
      "      B-CHARACTER       0.34      0.25      0.29        44\n",
      "       B-DIRECTOR       0.89      0.81      0.85       365\n",
      "          B-GENRE       0.97      0.98      0.98       927\n",
      "           B-PLOT       0.72      0.75      0.73       298\n",
      "         B-RATING       1.00      1.00      1.00       430\n",
      "B-RATINGS_AVERAGE       0.91      0.93      0.92       451\n",
      "         B-REVIEW       0.00      0.00      0.00        31\n",
      "           B-SONG       0.19      0.25      0.22        20\n",
      "          B-TITLE       0.79      0.54      0.64       679\n",
      "        B-TRAILER       0.91      0.36      0.51        28\n",
      "           B-YEAR       0.96      0.99      0.98       535\n",
      "          I-ACTOR       0.76      0.89      0.82       482\n",
      "      I-CHARACTER       0.41      0.28      0.33        47\n",
      "       I-DIRECTOR       0.89      0.79      0.84       410\n",
      "          I-GENRE       0.92      1.00      0.96       123\n",
      "           I-PLOT       0.45      0.85      0.59       148\n",
      "         I-RATING       0.99      1.00      0.99       156\n",
      "I-RATINGS_AVERAGE       0.84      0.96      0.90       408\n",
      "         I-REVIEW       0.00      0.00      0.00         9\n",
      "           I-SONG       0.24      0.35      0.29        43\n",
      "          I-TITLE       0.85      0.61      0.71      1182\n",
      "        I-TRAILER       0.00      0.00      0.00         1\n",
      "           I-YEAR       0.97      1.00      0.98       528\n",
      "                O       0.96      0.97      0.96     12447\n",
      "\n",
      "         accuracy                           0.92     20225\n",
      "        macro avg       0.67      0.66      0.65     20225\n",
      "     weighted avg       0.92      0.92      0.91     20225\n",
      "\n"
     ]
    }
   ],
   "source": [
    "print('                   precision    recall  f1-score   support\\n\\n          B-ACTOR       0.77      0.91      0.83       433\\n      B-CHARACTER       0.34      0.25      0.29        44\\n       B-DIRECTOR       0.89      0.81      0.85       365\\n          B-GENRE       0.97      0.98      0.98       927\\n           B-PLOT       0.72      0.75      0.73       298\\n         B-RATING       1.00      1.00      1.00       430\\nB-RATINGS_AVERAGE       0.91      0.93      0.92       451\\n         B-REVIEW       0.00      0.00      0.00        31\\n           B-SONG       0.19      0.25      0.22        20\\n          B-TITLE       0.79      0.54      0.64       679\\n        B-TRAILER       0.91      0.36      0.51        28\\n           B-YEAR       0.96      0.99      0.98       535\\n          I-ACTOR       0.76      0.89      0.82       482\\n      I-CHARACTER       0.41      0.28      0.33        47\\n       I-DIRECTOR       0.89      0.79      0.84       410\\n          I-GENRE       0.92      1.00      0.96       123\\n           I-PLOT       0.45      0.85      0.59       148\\n         I-RATING       0.99      1.00      0.99       156\\nI-RATINGS_AVERAGE       0.84      0.96      0.90       408\\n         I-REVIEW       0.00      0.00      0.00         9\\n           I-SONG       0.24      0.35      0.29        43\\n          I-TITLE       0.85      0.61      0.71      1182\\n        I-TRAILER       0.00      0.00      0.00         1\\n           I-YEAR       0.97      1.00      0.98       528\\n                O       0.96      0.97      0.96     12447\\n\\n         accuracy                           0.92     20225\\n        macro avg       0.67      0.66      0.65     20225\\n     weighted avg       0.92      0.92      0.91     20225\\n')"
   ]
  },
  {
   "cell_type": "markdown",
   "metadata": {},
   "source": [
    "#### Previous/next 2 tokens but only previous/next 1 words"
   ]
  },
  {
   "cell_type": "code",
   "execution_count": 52,
   "metadata": {},
   "outputs": [
    {
     "name": "stdout",
     "output_type": "stream",
     "text": [
      "                   precision    recall  f1-score   support\n",
      "\n",
      "          B-ACTOR       0.84      0.96      0.90       433\n",
      "      B-CHARACTER       0.65      0.25      0.36        44\n",
      "       B-DIRECTOR       0.98      0.88      0.93       365\n",
      "          B-GENRE       0.98      0.98      0.98       927\n",
      "           B-PLOT       0.81      0.82      0.81       298\n",
      "         B-RATING       1.00      1.00      1.00       430\n",
      "B-RATINGS_AVERAGE       0.92      0.94      0.93       451\n",
      "         B-REVIEW       0.00      0.00      0.00        31\n",
      "           B-SONG       0.70      0.35      0.47        20\n",
      "          B-TITLE       0.82      0.66      0.73       679\n",
      "        B-TRAILER       0.88      0.25      0.39        28\n",
      "           B-YEAR       0.96      1.00      0.98       535\n",
      "          I-ACTOR       0.83      0.94      0.89       482\n",
      "      I-CHARACTER       0.52      0.26      0.34        47\n",
      "       I-DIRECTOR       0.97      0.86      0.91       410\n",
      "          I-GENRE       0.93      1.00      0.96       123\n",
      "           I-PLOT       0.53      0.85      0.65       148\n",
      "         I-RATING       0.99      1.00      1.00       156\n",
      "I-RATINGS_AVERAGE       0.89      0.96      0.92       408\n",
      "         I-REVIEW       0.00      0.00      0.00         9\n",
      "           I-SONG       0.63      0.40      0.49        43\n",
      "          I-TITLE       0.87      0.69      0.77      1182\n",
      "        I-TRAILER       0.00      0.00      0.00         1\n",
      "           I-YEAR       0.97      1.00      0.98       528\n",
      "                O       0.96      0.98      0.97     12447\n",
      "\n",
      "         accuracy                           0.93     20225\n",
      "        macro avg       0.74      0.68      0.69     20225\n",
      "     weighted avg       0.93      0.93      0.93     20225\n",
      "\n"
     ]
    }
   ],
   "source": [
    "print('                   precision    recall  f1-score   support\\n\\n          B-ACTOR       0.84      0.96      0.90       433\\n      B-CHARACTER       0.65      0.25      0.36        44\\n       B-DIRECTOR       0.98      0.88      0.93       365\\n          B-GENRE       0.98      0.98      0.98       927\\n           B-PLOT       0.81      0.82      0.81       298\\n         B-RATING       1.00      1.00      1.00       430\\nB-RATINGS_AVERAGE       0.92      0.94      0.93       451\\n         B-REVIEW       0.00      0.00      0.00        31\\n           B-SONG       0.70      0.35      0.47        20\\n          B-TITLE       0.82      0.66      0.73       679\\n        B-TRAILER       0.88      0.25      0.39        28\\n           B-YEAR       0.96      1.00      0.98       535\\n          I-ACTOR       0.83      0.94      0.89       482\\n      I-CHARACTER       0.52      0.26      0.34        47\\n       I-DIRECTOR       0.97      0.86      0.91       410\\n          I-GENRE       0.93      1.00      0.96       123\\n           I-PLOT       0.53      0.85      0.65       148\\n         I-RATING       0.99      1.00      1.00       156\\nI-RATINGS_AVERAGE       0.89      0.96      0.92       408\\n         I-REVIEW       0.00      0.00      0.00         9\\n           I-SONG       0.63      0.40      0.49        43\\n          I-TITLE       0.87      0.69      0.77      1182\\n        I-TRAILER       0.00      0.00      0.00         1\\n           I-YEAR       0.97      1.00      0.98       528\\n                O       0.96      0.98      0.97     12447\\n\\n         accuracy                           0.93     20225\\n        macro avg       0.74      0.68      0.69     20225\\n     weighted avg       0.93      0.93      0.93     20225\\n')"
   ]
  },
  {
   "cell_type": "markdown",
   "metadata": {},
   "source": [
    "### Prefixes and suffixes:\n",
    "\n",
    "The initial model used 3 suffixes of each word as a feature. The prefixes of each word were added as features, and the number of both prefixes and suffixes were modified. The optimum macro f1-score was found to use 2 suffixes and 5 prefixes as features. "
   ]
  },
  {
   "cell_type": "markdown",
   "metadata": {},
   "source": [
    "#### 3 prefixes, 3 suffixes\n",
    "macro f1-score = 0.705428"
   ]
  },
  {
   "cell_type": "code",
   "execution_count": 53,
   "metadata": {},
   "outputs": [
    {
     "name": "stdout",
     "output_type": "stream",
     "text": [
      "                   precision    recall  f1-score   support\n",
      "\n",
      "          B-ACTOR       0.83      0.96      0.89       433\n",
      "      B-CHARACTER       0.67      0.27      0.39        44\n",
      "       B-DIRECTOR       0.98      0.89      0.93       365\n",
      "          B-GENRE       0.97      0.97      0.97       927\n",
      "           B-PLOT       0.81      0.80      0.80       298\n",
      "         B-RATING       1.00      1.00      1.00       430\n",
      "B-RATINGS_AVERAGE       0.91      0.94      0.93       451\n",
      "         B-REVIEW       0.00      0.00      0.00        31\n",
      "           B-SONG       0.70      0.35      0.47        20\n",
      "          B-TITLE       0.86      0.68      0.76       679\n",
      "        B-TRAILER       0.90      0.32      0.47        28\n",
      "           B-YEAR       0.95      1.00      0.97       535\n",
      "          I-ACTOR       0.82      0.94      0.87       482\n",
      "      I-CHARACTER       0.67      0.26      0.37        47\n",
      "       I-DIRECTOR       0.98      0.87      0.92       410\n",
      "          I-GENRE       0.93      1.00      0.96       123\n",
      "           I-PLOT       0.58      0.85      0.69       148\n",
      "         I-RATING       0.98      1.00      0.99       156\n",
      "I-RATINGS_AVERAGE       0.89      0.95      0.92       408\n",
      "         I-REVIEW       0.00      0.00      0.00         9\n",
      "           I-SONG       0.79      0.44      0.57        43\n",
      "          I-TITLE       0.90      0.74      0.81      1182\n",
      "        I-TRAILER       0.00      0.00      0.00         1\n",
      "           I-YEAR       0.96      1.00      0.98       528\n",
      "                O       0.96      0.98      0.97     12447\n",
      "\n",
      "         accuracy                           0.94     20225\n",
      "        macro avg       0.76      0.69      0.71     20225\n",
      "     weighted avg       0.94      0.94      0.94     20225\n",
      "\n"
     ]
    }
   ],
   "source": [
    "print('                   precision    recall  f1-score   support\\n\\n          B-ACTOR       0.83      0.96      0.89       433\\n      B-CHARACTER       0.67      0.27      0.39        44\\n       B-DIRECTOR       0.98      0.89      0.93       365\\n          B-GENRE       0.97      0.97      0.97       927\\n           B-PLOT       0.81      0.80      0.80       298\\n         B-RATING       1.00      1.00      1.00       430\\nB-RATINGS_AVERAGE       0.91      0.94      0.93       451\\n         B-REVIEW       0.00      0.00      0.00        31\\n           B-SONG       0.70      0.35      0.47        20\\n          B-TITLE       0.86      0.68      0.76       679\\n        B-TRAILER       0.90      0.32      0.47        28\\n           B-YEAR       0.95      1.00      0.97       535\\n          I-ACTOR       0.82      0.94      0.87       482\\n      I-CHARACTER       0.67      0.26      0.37        47\\n       I-DIRECTOR       0.98      0.87      0.92       410\\n          I-GENRE       0.93      1.00      0.96       123\\n           I-PLOT       0.58      0.85      0.69       148\\n         I-RATING       0.98      1.00      0.99       156\\nI-RATINGS_AVERAGE       0.89      0.95      0.92       408\\n         I-REVIEW       0.00      0.00      0.00         9\\n           I-SONG       0.79      0.44      0.57        43\\n          I-TITLE       0.90      0.74      0.81      1182\\n        I-TRAILER       0.00      0.00      0.00         1\\n           I-YEAR       0.96      1.00      0.98       528\\n                O       0.96      0.98      0.97     12447\\n\\n         accuracy                           0.94     20225\\n        macro avg       0.76      0.69      0.71     20225\\n     weighted avg       0.94      0.94      0.94     20225\\n')"
   ]
  },
  {
   "cell_type": "markdown",
   "metadata": {},
   "source": [
    "#### 4 prefixes, 4 suffixes\n",
    "macro f1-score: 0.705612"
   ]
  },
  {
   "cell_type": "code",
   "execution_count": 54,
   "metadata": {},
   "outputs": [
    {
     "name": "stdout",
     "output_type": "stream",
     "text": [
      "                   precision    recall  f1-score   support\n",
      "\n",
      "          B-ACTOR       0.84      0.96      0.90       433\n",
      "      B-CHARACTER       0.67      0.27      0.39        44\n",
      "       B-DIRECTOR       0.98      0.89      0.94       365\n",
      "          B-GENRE       0.98      0.98      0.98       927\n",
      "           B-PLOT       0.82      0.83      0.83       298\n",
      "         B-RATING       1.00      1.00      1.00       430\n",
      "B-RATINGS_AVERAGE       0.90      0.95      0.93       451\n",
      "         B-REVIEW       0.00      0.00      0.00        31\n",
      "           B-SONG       0.78      0.35      0.48        20\n",
      "          B-TITLE       0.85      0.68      0.76       679\n",
      "        B-TRAILER       0.82      0.32      0.46        28\n",
      "           B-YEAR       0.95      1.00      0.97       535\n",
      "          I-ACTOR       0.83      0.94      0.89       482\n",
      "      I-CHARACTER       0.63      0.26      0.36        47\n",
      "       I-DIRECTOR       0.98      0.87      0.92       410\n",
      "          I-GENRE       0.94      1.00      0.97       123\n",
      "           I-PLOT       0.58      0.86      0.70       148\n",
      "         I-RATING       0.98      1.00      0.99       156\n",
      "I-RATINGS_AVERAGE       0.89      0.96      0.92       408\n",
      "         I-REVIEW       0.00      0.00      0.00         9\n",
      "           I-SONG       0.74      0.40      0.52        43\n",
      "          I-TITLE       0.89      0.73      0.80      1182\n",
      "        I-TRAILER       0.00      0.00      0.00         1\n",
      "           I-YEAR       0.96      1.00      0.98       528\n",
      "                O       0.96      0.98      0.97     12447\n",
      "\n",
      "         accuracy                           0.94     20225\n",
      "        macro avg       0.76      0.69      0.71     20225\n",
      "     weighted avg       0.94      0.94      0.94     20225\n",
      "\n"
     ]
    }
   ],
   "source": [
    "print('                   precision    recall  f1-score   support\\n\\n          B-ACTOR       0.84      0.96      0.90       433\\n      B-CHARACTER       0.67      0.27      0.39        44\\n       B-DIRECTOR       0.98      0.89      0.94       365\\n          B-GENRE       0.98      0.98      0.98       927\\n           B-PLOT       0.82      0.83      0.83       298\\n         B-RATING       1.00      1.00      1.00       430\\nB-RATINGS_AVERAGE       0.90      0.95      0.93       451\\n         B-REVIEW       0.00      0.00      0.00        31\\n           B-SONG       0.78      0.35      0.48        20\\n          B-TITLE       0.85      0.68      0.76       679\\n        B-TRAILER       0.82      0.32      0.46        28\\n           B-YEAR       0.95      1.00      0.97       535\\n          I-ACTOR       0.83      0.94      0.89       482\\n      I-CHARACTER       0.63      0.26      0.36        47\\n       I-DIRECTOR       0.98      0.87      0.92       410\\n          I-GENRE       0.94      1.00      0.97       123\\n           I-PLOT       0.58      0.86      0.70       148\\n         I-RATING       0.98      1.00      0.99       156\\nI-RATINGS_AVERAGE       0.89      0.96      0.92       408\\n         I-REVIEW       0.00      0.00      0.00         9\\n           I-SONG       0.74      0.40      0.52        43\\n          I-TITLE       0.89      0.73      0.80      1182\\n        I-TRAILER       0.00      0.00      0.00         1\\n           I-YEAR       0.96      1.00      0.98       528\\n                O       0.96      0.98      0.97     12447\\n\\n         accuracy                           0.94     20225\\n        macro avg       0.76      0.69      0.71     20225\\n     weighted avg       0.94      0.94      0.94     20225\\n')"
   ]
  },
  {
   "cell_type": "markdown",
   "metadata": {},
   "source": [
    "#### 5 prefixes, 5 suffixes\n",
    "macro f1-score: 0.703528"
   ]
  },
  {
   "cell_type": "code",
   "execution_count": 55,
   "metadata": {},
   "outputs": [
    {
     "name": "stdout",
     "output_type": "stream",
     "text": [
      "                   precision    recall  f1-score   support\n",
      "\n",
      "          B-ACTOR       0.84      0.96      0.90       433\n",
      "      B-CHARACTER       0.63      0.27      0.38        44\n",
      "       B-DIRECTOR       0.98      0.90      0.94       365\n",
      "          B-GENRE       0.98      0.98      0.98       927\n",
      "           B-PLOT       0.82      0.84      0.83       298\n",
      "         B-RATING       1.00      1.00      1.00       430\n",
      "B-RATINGS_AVERAGE       0.91      0.95      0.93       451\n",
      "         B-REVIEW       0.00      0.00      0.00        31\n",
      "           B-SONG       0.70      0.35      0.47        20\n",
      "          B-TITLE       0.86      0.68      0.76       679\n",
      "        B-TRAILER       0.90      0.32      0.47        28\n",
      "           B-YEAR       0.95      1.00      0.97       535\n",
      "          I-ACTOR       0.84      0.94      0.88       482\n",
      "      I-CHARACTER       0.60      0.26      0.36        47\n",
      "       I-DIRECTOR       0.98      0.87      0.92       410\n",
      "          I-GENRE       0.93      1.00      0.96       123\n",
      "           I-PLOT       0.56      0.86      0.68       148\n",
      "         I-RATING       0.98      1.00      0.99       156\n",
      "I-RATINGS_AVERAGE       0.89      0.96      0.92       408\n",
      "         I-REVIEW       0.00      0.00      0.00         9\n",
      "           I-SONG       0.65      0.40      0.49        43\n",
      "          I-TITLE       0.91      0.73      0.81      1182\n",
      "        I-TRAILER       0.00      0.00      0.00         1\n",
      "           I-YEAR       0.96      1.00      0.98       528\n",
      "                O       0.96      0.98      0.97     12447\n",
      "\n",
      "         accuracy                           0.94     20225\n",
      "        macro avg       0.75      0.69      0.70     20225\n",
      "     weighted avg       0.94      0.94      0.94     20225\n",
      "\n"
     ]
    }
   ],
   "source": [
    "print('                   precision    recall  f1-score   support\\n\\n          B-ACTOR       0.84      0.96      0.90       433\\n      B-CHARACTER       0.63      0.27      0.38        44\\n       B-DIRECTOR       0.98      0.90      0.94       365\\n          B-GENRE       0.98      0.98      0.98       927\\n           B-PLOT       0.82      0.84      0.83       298\\n         B-RATING       1.00      1.00      1.00       430\\nB-RATINGS_AVERAGE       0.91      0.95      0.93       451\\n         B-REVIEW       0.00      0.00      0.00        31\\n           B-SONG       0.70      0.35      0.47        20\\n          B-TITLE       0.86      0.68      0.76       679\\n        B-TRAILER       0.90      0.32      0.47        28\\n           B-YEAR       0.95      1.00      0.97       535\\n          I-ACTOR       0.84      0.94      0.88       482\\n      I-CHARACTER       0.60      0.26      0.36        47\\n       I-DIRECTOR       0.98      0.87      0.92       410\\n          I-GENRE       0.93      1.00      0.96       123\\n           I-PLOT       0.56      0.86      0.68       148\\n         I-RATING       0.98      1.00      0.99       156\\nI-RATINGS_AVERAGE       0.89      0.96      0.92       408\\n         I-REVIEW       0.00      0.00      0.00         9\\n           I-SONG       0.65      0.40      0.49        43\\n          I-TITLE       0.91      0.73      0.81      1182\\n        I-TRAILER       0.00      0.00      0.00         1\\n           I-YEAR       0.96      1.00      0.98       528\\n                O       0.96      0.98      0.97     12447\\n\\n         accuracy                           0.94     20225\\n        macro avg       0.75      0.69      0.70     20225\\n     weighted avg       0.94      0.94      0.94     20225\\n')"
   ]
  },
  {
   "cell_type": "markdown",
   "metadata": {},
   "source": [
    "#### 5 prefixes, 3 suffixes\n",
    "macro f1-score = 0.705210"
   ]
  },
  {
   "cell_type": "code",
   "execution_count": 56,
   "metadata": {},
   "outputs": [
    {
     "name": "stdout",
     "output_type": "stream",
     "text": [
      "                   precision    recall  f1-score   support\n",
      "\n",
      "          B-ACTOR       0.84      0.96      0.89       433\n",
      "      B-CHARACTER       0.63      0.27      0.38        44\n",
      "       B-DIRECTOR       0.98      0.89      0.93       365\n",
      "          B-GENRE       0.98      0.97      0.98       927\n",
      "           B-PLOT       0.82      0.83      0.82       298\n",
      "         B-RATING       1.00      1.00      1.00       430\n",
      "B-RATINGS_AVERAGE       0.91      0.95      0.93       451\n",
      "         B-REVIEW       0.00      0.00      0.00        31\n",
      "           B-SONG       0.78      0.35      0.48        20\n",
      "          B-TITLE       0.85      0.68      0.76       679\n",
      "        B-TRAILER       0.90      0.32      0.47        28\n",
      "           B-YEAR       0.96      1.00      0.98       535\n",
      "          I-ACTOR       0.83      0.94      0.88       482\n",
      "      I-CHARACTER       0.63      0.26      0.36        47\n",
      "       I-DIRECTOR       0.98      0.87      0.92       410\n",
      "          I-GENRE       0.94      1.00      0.97       123\n",
      "           I-PLOT       0.57      0.86      0.69       148\n",
      "         I-RATING       0.98      1.00      0.99       156\n",
      "I-RATINGS_AVERAGE       0.89      0.96      0.92       408\n",
      "         I-REVIEW       0.00      0.00      0.00         9\n",
      "           I-SONG       0.74      0.40      0.52        43\n",
      "          I-TITLE       0.90      0.73      0.80      1182\n",
      "        I-TRAILER       0.00      0.00      0.00         1\n",
      "           I-YEAR       0.96      1.00      0.98       528\n",
      "                O       0.96      0.98      0.97     12447\n",
      "\n",
      "         accuracy                           0.94     20225\n",
      "        macro avg       0.76      0.69      0.71     20225\n",
      "     weighted avg       0.94      0.94      0.94     20225\n",
      "\n"
     ]
    }
   ],
   "source": [
    "print('                   precision    recall  f1-score   support\\n\\n          B-ACTOR       0.84      0.96      0.89       433\\n      B-CHARACTER       0.63      0.27      0.38        44\\n       B-DIRECTOR       0.98      0.89      0.93       365\\n          B-GENRE       0.98      0.97      0.98       927\\n           B-PLOT       0.82      0.83      0.82       298\\n         B-RATING       1.00      1.00      1.00       430\\nB-RATINGS_AVERAGE       0.91      0.95      0.93       451\\n         B-REVIEW       0.00      0.00      0.00        31\\n           B-SONG       0.78      0.35      0.48        20\\n          B-TITLE       0.85      0.68      0.76       679\\n        B-TRAILER       0.90      0.32      0.47        28\\n           B-YEAR       0.96      1.00      0.98       535\\n          I-ACTOR       0.83      0.94      0.88       482\\n      I-CHARACTER       0.63      0.26      0.36        47\\n       I-DIRECTOR       0.98      0.87      0.92       410\\n          I-GENRE       0.94      1.00      0.97       123\\n           I-PLOT       0.57      0.86      0.69       148\\n         I-RATING       0.98      1.00      0.99       156\\nI-RATINGS_AVERAGE       0.89      0.96      0.92       408\\n         I-REVIEW       0.00      0.00      0.00         9\\n           I-SONG       0.74      0.40      0.52        43\\n          I-TITLE       0.90      0.73      0.80      1182\\n        I-TRAILER       0.00      0.00      0.00         1\\n           I-YEAR       0.96      1.00      0.98       528\\n                O       0.96      0.98      0.97     12447\\n\\n         accuracy                           0.94     20225\\n        macro avg       0.76      0.69      0.71     20225\\n     weighted avg       0.94      0.94      0.94     20225\\n')"
   ]
  },
  {
   "cell_type": "markdown",
   "metadata": {},
   "source": [
    "####  5 prefixes, 2 suffixes\n",
    "macro f1-score = 0.708837"
   ]
  },
  {
   "cell_type": "code",
   "execution_count": 57,
   "metadata": {},
   "outputs": [
    {
     "name": "stdout",
     "output_type": "stream",
     "text": [
      "                   precision    recall  f1-score   support\n",
      "\n",
      "          B-ACTOR       0.83      0.96      0.89       433\n",
      "      B-CHARACTER       0.67      0.27      0.39        44\n",
      "       B-DIRECTOR       0.98      0.89      0.93       365\n",
      "          B-GENRE       0.98      0.97      0.98       927\n",
      "           B-PLOT       0.81      0.81      0.81       298\n",
      "         B-RATING       1.00      1.00      1.00       430\n",
      "B-RATINGS_AVERAGE       0.90      0.95      0.93       451\n",
      "         B-REVIEW       0.00      0.00      0.00        31\n",
      "           B-SONG       0.80      0.40      0.53        20\n",
      "          B-TITLE       0.85      0.68      0.76       679\n",
      "        B-TRAILER       0.90      0.32      0.47        28\n",
      "           B-YEAR       0.95      1.00      0.97       535\n",
      "          I-ACTOR       0.82      0.95      0.88       482\n",
      "      I-CHARACTER       0.67      0.26      0.37        47\n",
      "       I-DIRECTOR       0.98      0.87      0.92       410\n",
      "          I-GENRE       0.94      1.00      0.97       123\n",
      "           I-PLOT       0.58      0.85      0.69       148\n",
      "         I-RATING       0.99      1.00      0.99       156\n",
      "I-RATINGS_AVERAGE       0.88      0.96      0.92       408\n",
      "         I-REVIEW       0.00      0.00      0.00         9\n",
      "           I-SONG       0.76      0.44      0.56        43\n",
      "          I-TITLE       0.90      0.73      0.81      1182\n",
      "        I-TRAILER       0.00      0.00      0.00         1\n",
      "           I-YEAR       0.96      1.00      0.98       528\n",
      "                O       0.96      0.98      0.97     12447\n",
      "\n",
      "         accuracy                           0.94     20225\n",
      "        macro avg       0.76      0.69      0.71     20225\n",
      "     weighted avg       0.94      0.94      0.94     20225\n",
      "\n"
     ]
    }
   ],
   "source": [
    "print('                   precision    recall  f1-score   support\\n\\n          B-ACTOR       0.83      0.96      0.89       433\\n      B-CHARACTER       0.67      0.27      0.39        44\\n       B-DIRECTOR       0.98      0.89      0.93       365\\n          B-GENRE       0.98      0.97      0.98       927\\n           B-PLOT       0.81      0.81      0.81       298\\n         B-RATING       1.00      1.00      1.00       430\\nB-RATINGS_AVERAGE       0.90      0.95      0.93       451\\n         B-REVIEW       0.00      0.00      0.00        31\\n           B-SONG       0.80      0.40      0.53        20\\n          B-TITLE       0.85      0.68      0.76       679\\n        B-TRAILER       0.90      0.32      0.47        28\\n           B-YEAR       0.95      1.00      0.97       535\\n          I-ACTOR       0.82      0.95      0.88       482\\n      I-CHARACTER       0.67      0.26      0.37        47\\n       I-DIRECTOR       0.98      0.87      0.92       410\\n          I-GENRE       0.94      1.00      0.97       123\\n           I-PLOT       0.58      0.85      0.69       148\\n         I-RATING       0.99      1.00      0.99       156\\nI-RATINGS_AVERAGE       0.88      0.96      0.92       408\\n         I-REVIEW       0.00      0.00      0.00         9\\n           I-SONG       0.76      0.44      0.56        43\\n          I-TITLE       0.90      0.73      0.81      1182\\n        I-TRAILER       0.00      0.00      0.00         1\\n           I-YEAR       0.96      1.00      0.98       528\\n                O       0.96      0.98      0.97     12447\\n\\n         accuracy                           0.94     20225\\n        macro avg       0.76      0.69      0.71     20225\\n     weighted avg       0.94      0.94      0.94     20225\\n')"
   ]
  },
  {
   "cell_type": "markdown",
   "metadata": {},
   "source": [
    "####  5 prefixes, 3 suffixes\n",
    "\n",
    "macro f1-score = 0.705210"
   ]
  },
  {
   "cell_type": "code",
   "execution_count": 58,
   "metadata": {},
   "outputs": [
    {
     "name": "stdout",
     "output_type": "stream",
     "text": [
      "                   precision    recall  f1-score   support\n",
      "\n",
      "          B-ACTOR       0.84      0.96      0.89       433\n",
      "      B-CHARACTER       0.63      0.27      0.38        44\n",
      "       B-DIRECTOR       0.98      0.89      0.93       365\n",
      "          B-GENRE       0.98      0.97      0.98       927\n",
      "           B-PLOT       0.82      0.83      0.82       298\n",
      "         B-RATING       1.00      1.00      1.00       430\n",
      "B-RATINGS_AVERAGE       0.91      0.95      0.93       451\n",
      "         B-REVIEW       0.00      0.00      0.00        31\n",
      "           B-SONG       0.78      0.35      0.48        20\n",
      "          B-TITLE       0.85      0.68      0.76       679\n",
      "        B-TRAILER       0.90      0.32      0.47        28\n",
      "           B-YEAR       0.96      1.00      0.98       535\n",
      "          I-ACTOR       0.83      0.94      0.88       482\n",
      "      I-CHARACTER       0.63      0.26      0.36        47\n",
      "       I-DIRECTOR       0.98      0.87      0.92       410\n",
      "          I-GENRE       0.94      1.00      0.97       123\n",
      "           I-PLOT       0.57      0.86      0.69       148\n",
      "         I-RATING       0.98      1.00      0.99       156\n",
      "I-RATINGS_AVERAGE       0.89      0.96      0.92       408\n",
      "         I-REVIEW       0.00      0.00      0.00         9\n",
      "           I-SONG       0.74      0.40      0.52        43\n",
      "          I-TITLE       0.90      0.73      0.80      1182\n",
      "        I-TRAILER       0.00      0.00      0.00         1\n",
      "           I-YEAR       0.96      1.00      0.98       528\n",
      "                O       0.96      0.98      0.97     12447\n",
      "\n",
      "         accuracy                           0.94     20225\n",
      "        macro avg       0.76      0.69      0.71     20225\n",
      "     weighted avg       0.94      0.94      0.94     20225\n",
      "\n"
     ]
    }
   ],
   "source": [
    "print('                   precision    recall  f1-score   support\\n\\n          B-ACTOR       0.84      0.96      0.89       433\\n      B-CHARACTER       0.63      0.27      0.38        44\\n       B-DIRECTOR       0.98      0.89      0.93       365\\n          B-GENRE       0.98      0.97      0.98       927\\n           B-PLOT       0.82      0.83      0.82       298\\n         B-RATING       1.00      1.00      1.00       430\\nB-RATINGS_AVERAGE       0.91      0.95      0.93       451\\n         B-REVIEW       0.00      0.00      0.00        31\\n           B-SONG       0.78      0.35      0.48        20\\n          B-TITLE       0.85      0.68      0.76       679\\n        B-TRAILER       0.90      0.32      0.47        28\\n           B-YEAR       0.96      1.00      0.98       535\\n          I-ACTOR       0.83      0.94      0.88       482\\n      I-CHARACTER       0.63      0.26      0.36        47\\n       I-DIRECTOR       0.98      0.87      0.92       410\\n          I-GENRE       0.94      1.00      0.97       123\\n           I-PLOT       0.57      0.86      0.69       148\\n         I-RATING       0.98      1.00      0.99       156\\nI-RATINGS_AVERAGE       0.89      0.96      0.92       408\\n         I-REVIEW       0.00      0.00      0.00         9\\n           I-SONG       0.74      0.40      0.52        43\\n          I-TITLE       0.90      0.73      0.80      1182\\n        I-TRAILER       0.00      0.00      0.00         1\\n           I-YEAR       0.96      1.00      0.98       528\\n                O       0.96      0.98      0.97     12447\\n\\n         accuracy                           0.94     20225\\n        macro avg       0.76      0.69      0.71     20225\\n     weighted avg       0.94      0.94      0.94     20225\\n')"
   ]
  },
  {
   "cell_type": "markdown",
   "metadata": {},
   "source": [
    "#### 5 prefixes, 4 suffixes\n",
    "0.704527"
   ]
  },
  {
   "cell_type": "code",
   "execution_count": 59,
   "metadata": {},
   "outputs": [
    {
     "name": "stdout",
     "output_type": "stream",
     "text": [
      "                   precision    recall  f1-score   support\n",
      "\n",
      "          B-ACTOR       0.84      0.96      0.90       433\n",
      "      B-CHARACTER       0.67      0.27      0.39        44\n",
      "       B-DIRECTOR       0.98      0.89      0.94       365\n",
      "          B-GENRE       0.98      0.98      0.98       927\n",
      "           B-PLOT       0.83      0.84      0.83       298\n",
      "         B-RATING       1.00      1.00      1.00       430\n",
      "B-RATINGS_AVERAGE       0.91      0.95      0.93       451\n",
      "         B-REVIEW       0.00      0.00      0.00        31\n",
      "           B-SONG       0.70      0.35      0.47        20\n",
      "          B-TITLE       0.85      0.68      0.76       679\n",
      "        B-TRAILER       0.90      0.32      0.47        28\n",
      "           B-YEAR       0.95      1.00      0.97       535\n",
      "          I-ACTOR       0.83      0.94      0.88       482\n",
      "      I-CHARACTER       0.63      0.26      0.36        47\n",
      "       I-DIRECTOR       0.98      0.87      0.92       410\n",
      "          I-GENRE       0.93      1.00      0.96       123\n",
      "           I-PLOT       0.58      0.86      0.69       148\n",
      "         I-RATING       0.98      1.00      0.99       156\n",
      "I-RATINGS_AVERAGE       0.89      0.96      0.92       408\n",
      "         I-REVIEW       0.00      0.00      0.00         9\n",
      "           I-SONG       0.65      0.40      0.49        43\n",
      "          I-TITLE       0.89      0.73      0.81      1182\n",
      "        I-TRAILER       0.00      0.00      0.00         1\n",
      "           I-YEAR       0.96      1.00      0.98       528\n",
      "                O       0.96      0.98      0.97     12447\n",
      "\n",
      "         accuracy                           0.94     20225\n",
      "        macro avg       0.76      0.69      0.70     20225\n",
      "     weighted avg       0.94      0.94      0.94     20225\n",
      "\n"
     ]
    }
   ],
   "source": [
    "\n",
    "print('                   precision    recall  f1-score   support\\n\\n          B-ACTOR       0.84      0.96      0.90       433\\n      B-CHARACTER       0.67      0.27      0.39        44\\n       B-DIRECTOR       0.98      0.89      0.94       365\\n          B-GENRE       0.98      0.98      0.98       927\\n           B-PLOT       0.83      0.84      0.83       298\\n         B-RATING       1.00      1.00      1.00       430\\nB-RATINGS_AVERAGE       0.91      0.95      0.93       451\\n         B-REVIEW       0.00      0.00      0.00        31\\n           B-SONG       0.70      0.35      0.47        20\\n          B-TITLE       0.85      0.68      0.76       679\\n        B-TRAILER       0.90      0.32      0.47        28\\n           B-YEAR       0.95      1.00      0.97       535\\n          I-ACTOR       0.83      0.94      0.88       482\\n      I-CHARACTER       0.63      0.26      0.36        47\\n       I-DIRECTOR       0.98      0.87      0.92       410\\n          I-GENRE       0.93      1.00      0.96       123\\n           I-PLOT       0.58      0.86      0.69       148\\n         I-RATING       0.98      1.00      0.99       156\\nI-RATINGS_AVERAGE       0.89      0.96      0.92       408\\n         I-REVIEW       0.00      0.00      0.00         9\\n           I-SONG       0.65      0.40      0.49        43\\n          I-TITLE       0.89      0.73      0.81      1182\\n        I-TRAILER       0.00      0.00      0.00         1\\n           I-YEAR       0.96      1.00      0.98       528\\n                O       0.96      0.98      0.97     12447\\n\\n         accuracy                           0.94     20225\\n        macro avg       0.76      0.69      0.70     20225\\n     weighted avg       0.94      0.94      0.94     20225\\n')\n"
   ]
  },
  {
   "cell_type": "markdown",
   "metadata": {},
   "source": [
    "### Frequently incorrectly classified words\n",
    "\n",
    "The word \"best\" was frequently misclassified in the false positives as \"B-REVIEW\" instead of \"O\", as shown below. This was by far the most misclassification of the worst performing recall and precision classes, with 42 incorrect classifications. To try to mitigate this, an additional feature was added called \"BIO_O\". \n",
    "\n",
    "The addition of this feature for this particular word led to an increase in the macro f1-score, as shown in the classification reports below. Other frequently miscatergorised words were also attempted, however it was found that only the additional feature for the word \"best\" led to an increase in performance.\n",
    "\n",
    "This can be attributed to the context of data that is being modelled. It is highly likely for someone to use the words such as \"best\" when querying a movie.\n",
    "\n"
   ]
  },
  {
   "cell_type": "code",
   "execution_count": 60,
   "metadata": {},
   "outputs": [
    {
     "name": "stdout",
     "output_type": "stream",
     "text": [
      "\"best\" predicted: Counter({'B-REVIEW': 42})\n",
      "\"best\" true: Counter({'O': 41, 'B-PLOT': 1})\n"
     ]
    }
   ],
   "source": [
    "best_pred = []\n",
    "best_true = []\n",
    "for details in fp_details:\n",
    "    if details[0] == 'best':\n",
    "        best_pred.append(details[2])\n",
    "        best_true.append(details[3])\n",
    "print(f'\"best\" predicted: {Counter(best_pred)}')\n",
    "print(f'\"best\" true: {Counter(best_true)}')"
   ]
  },
  {
   "cell_type": "markdown",
   "metadata": {},
   "source": [
    "The classification report with no additional feature for the word \"best\" is below. The precise macro f1-score was found to be 0.708837."
   ]
  },
  {
   "cell_type": "code",
   "execution_count": 61,
   "metadata": {},
   "outputs": [
    {
     "name": "stdout",
     "output_type": "stream",
     "text": [
      "                   precision    recall  f1-score   support\n",
      "\n",
      "          B-ACTOR       0.83      0.96      0.89       433\n",
      "      B-CHARACTER       0.67      0.27      0.39        44\n",
      "       B-DIRECTOR       0.98      0.89      0.93       365\n",
      "          B-GENRE       0.98      0.97      0.98       927\n",
      "           B-PLOT       0.81      0.81      0.81       298\n",
      "         B-RATING       1.00      1.00      1.00       430\n",
      "B-RATINGS_AVERAGE       0.90      0.95      0.93       451\n",
      "         B-REVIEW       0.00      0.00      0.00        31\n",
      "           B-SONG       0.80      0.40      0.53        20\n",
      "          B-TITLE       0.85      0.68      0.76       679\n",
      "        B-TRAILER       0.90      0.32      0.47        28\n",
      "           B-YEAR       0.95      1.00      0.97       535\n",
      "          I-ACTOR       0.82      0.95      0.88       482\n",
      "      I-CHARACTER       0.67      0.26      0.37        47\n",
      "       I-DIRECTOR       0.98      0.87      0.92       410\n",
      "          I-GENRE       0.94      1.00      0.97       123\n",
      "           I-PLOT       0.58      0.85      0.69       148\n",
      "         I-RATING       0.99      1.00      0.99       156\n",
      "I-RATINGS_AVERAGE       0.88      0.96      0.92       408\n",
      "         I-REVIEW       0.00      0.00      0.00         9\n",
      "           I-SONG       0.76      0.44      0.56        43\n",
      "          I-TITLE       0.90      0.73      0.81      1182\n",
      "        I-TRAILER       0.00      0.00      0.00         1\n",
      "           I-YEAR       0.96      1.00      0.98       528\n",
      "                O       0.96      0.98      0.97     12447\n",
      "\n",
      "         accuracy                           0.94     20225\n",
      "        macro avg       0.76      0.69      0.71     20225\n",
      "     weighted avg       0.94      0.94      0.94     20225\n",
      "\n"
     ]
    }
   ],
   "source": [
    "print('                   precision    recall  f1-score   support\\n\\n          B-ACTOR       0.83      0.96      0.89       433\\n      B-CHARACTER       0.67      0.27      0.39        44\\n       B-DIRECTOR       0.98      0.89      0.93       365\\n          B-GENRE       0.98      0.97      0.98       927\\n           B-PLOT       0.81      0.81      0.81       298\\n         B-RATING       1.00      1.00      1.00       430\\nB-RATINGS_AVERAGE       0.90      0.95      0.93       451\\n         B-REVIEW       0.00      0.00      0.00        31\\n           B-SONG       0.80      0.40      0.53        20\\n          B-TITLE       0.85      0.68      0.76       679\\n        B-TRAILER       0.90      0.32      0.47        28\\n           B-YEAR       0.95      1.00      0.97       535\\n          I-ACTOR       0.82      0.95      0.88       482\\n      I-CHARACTER       0.67      0.26      0.37        47\\n       I-DIRECTOR       0.98      0.87      0.92       410\\n          I-GENRE       0.94      1.00      0.97       123\\n           I-PLOT       0.58      0.85      0.69       148\\n         I-RATING       0.99      1.00      0.99       156\\nI-RATINGS_AVERAGE       0.88      0.96      0.92       408\\n         I-REVIEW       0.00      0.00      0.00         9\\n           I-SONG       0.76      0.44      0.56        43\\n          I-TITLE       0.90      0.73      0.81      1182\\n        I-TRAILER       0.00      0.00      0.00         1\\n           I-YEAR       0.96      1.00      0.98       528\\n                O       0.96      0.98      0.97     12447\\n\\n         accuracy                           0.94     20225\\n        macro avg       0.76      0.69      0.71     20225\\n     weighted avg       0.94      0.94      0.94     20225\\n')"
   ]
  },
  {
   "cell_type": "markdown",
   "metadata": {},
   "source": [
    "The classification report including an additional feature for the word \"best\" is below. The precise macro f1-score was found to be 0.709427."
   ]
  },
  {
   "cell_type": "code",
   "execution_count": 62,
   "metadata": {},
   "outputs": [
    {
     "name": "stdout",
     "output_type": "stream",
     "text": [
      "                   precision    recall  f1-score   support\n",
      "\n",
      "          B-ACTOR       0.83      0.96      0.89       433\n",
      "      B-CHARACTER       0.67      0.27      0.39        44\n",
      "       B-DIRECTOR       0.98      0.89      0.93       365\n",
      "          B-GENRE       0.98      0.98      0.98       927\n",
      "           B-PLOT       0.82      0.82      0.82       298\n",
      "         B-RATING       1.00      1.00      1.00       430\n",
      "B-RATINGS_AVERAGE       0.90      0.95      0.93       451\n",
      "         B-REVIEW       0.00      0.00      0.00        31\n",
      "           B-SONG       0.80      0.40      0.53        20\n",
      "          B-TITLE       0.86      0.68      0.76       679\n",
      "        B-TRAILER       0.90      0.32      0.47        28\n",
      "           B-YEAR       0.95      1.00      0.97       535\n",
      "          I-ACTOR       0.82      0.95      0.88       482\n",
      "      I-CHARACTER       0.67      0.26      0.37        47\n",
      "       I-DIRECTOR       0.98      0.87      0.92       410\n",
      "          I-GENRE       0.94      1.00      0.97       123\n",
      "           I-PLOT       0.58      0.85      0.69       148\n",
      "         I-RATING       0.99      1.00      0.99       156\n",
      "I-RATINGS_AVERAGE       0.88      0.96      0.92       408\n",
      "         I-REVIEW       0.00      0.00      0.00         9\n",
      "           I-SONG       0.76      0.44      0.56        43\n",
      "          I-TITLE       0.90      0.74      0.81      1182\n",
      "        I-TRAILER       0.00      0.00      0.00         1\n",
      "           I-YEAR       0.96      1.00      0.98       528\n",
      "                O       0.96      0.98      0.97     12447\n",
      "\n",
      "         accuracy                           0.94     20225\n",
      "        macro avg       0.77      0.69      0.71     20225\n",
      "     weighted avg       0.94      0.94      0.94     20225\n",
      "\n"
     ]
    }
   ],
   "source": [
    "print('                   precision    recall  f1-score   support\\n\\n          B-ACTOR       0.83      0.96      0.89       433\\n      B-CHARACTER       0.67      0.27      0.39        44\\n       B-DIRECTOR       0.98      0.89      0.93       365\\n          B-GENRE       0.98      0.98      0.98       927\\n           B-PLOT       0.82      0.82      0.82       298\\n         B-RATING       1.00      1.00      1.00       430\\nB-RATINGS_AVERAGE       0.90      0.95      0.93       451\\n         B-REVIEW       0.00      0.00      0.00        31\\n           B-SONG       0.80      0.40      0.53        20\\n          B-TITLE       0.86      0.68      0.76       679\\n        B-TRAILER       0.90      0.32      0.47        28\\n           B-YEAR       0.95      1.00      0.97       535\\n          I-ACTOR       0.82      0.95      0.88       482\\n      I-CHARACTER       0.67      0.26      0.37        47\\n       I-DIRECTOR       0.98      0.87      0.92       410\\n          I-GENRE       0.94      1.00      0.97       123\\n           I-PLOT       0.58      0.85      0.69       148\\n         I-RATING       0.99      1.00      0.99       156\\nI-RATINGS_AVERAGE       0.88      0.96      0.92       408\\n         I-REVIEW       0.00      0.00      0.00         9\\n           I-SONG       0.76      0.44      0.56        43\\n          I-TITLE       0.90      0.74      0.81      1182\\n        I-TRAILER       0.00      0.00      0.00         1\\n           I-YEAR       0.96      1.00      0.98       528\\n                O       0.96      0.98      0.97     12447\\n\\n         accuracy                           0.94     20225\\n        macro avg       0.77      0.69      0.71     20225\\n     weighted avg       0.94      0.94      0.94     20225\\n')"
   ]
  },
  {
   "cell_type": "markdown",
   "metadata": {},
   "source": [
    "## Classification report on the original test data set"
   ]
  },
  {
   "cell_type": "code",
   "execution_count": 63,
   "metadata": {},
   "outputs": [
    {
     "name": "stdout",
     "output_type": "stream",
     "text": [
      "training tagger...\n",
      "done\n",
      "2443 instances\n",
      "24686 words\n"
     ]
    }
   ],
   "source": [
    "raw_training_data = get_raw_data_from_bio_file(\"engtrain.bio.txt\") \n",
    "training_data = [preProcess(example) for example in raw_training_data]\n",
    "\n",
    "# Train the CRF BIO-tag tagger\n",
    "TAGGER_PATH = \"crf_nlu.tagger\"  # path to the tagger- it will save/access the model from here\n",
    "ct = CRFTagger(feature_func=get_features)  # initialize tagger with get_features function\n",
    "\n",
    "print(\"training tagger...\")\n",
    "ct.train(training_data, TAGGER_PATH)\n",
    "print(\"done\")\n",
    "\n",
    "# load tagger from saved file\n",
    "ct = CRFTagger(feature_func=get_features)  # initialize tagger\n",
    "ct.set_model_file(TAGGER_PATH)  # load model from file\n",
    "\n",
    "# # prepare the test data:\n",
    "raw_test_data = get_raw_data_from_bio_file(\"engtest.bio.txt\") \n",
    "test_data = [preProcess(example) for example in raw_test_data]\n",
    "print(len(test_data), \"instances\")\n",
    "print(sum([len(sent) for sent in test_data]), \"words\")"
   ]
  },
  {
   "cell_type": "code",
   "execution_count": 64,
   "metadata": {},
   "outputs": [
    {
     "name": "stdout",
     "output_type": "stream",
     "text": [
      "testing tagger...\n",
      "done\n"
     ]
    }
   ],
   "source": [
    "print(\"testing tagger...\")\n",
    "preds = []\n",
    "y_test = []\n",
    "for sent in test_data:\n",
    "    sent_preds = [x[1] for x in ct.tag([s[0] for s in sent])]\n",
    "    sent_true = [s[1] for s in sent]\n",
    "    preds.extend(sent_preds)\n",
    "    y_test.extend(sent_true)\n",
    "print(\"done\")"
   ]
  },
  {
   "cell_type": "code",
   "execution_count": 65,
   "metadata": {},
   "outputs": [
    {
     "name": "stderr",
     "output_type": "stream",
     "text": [
      "/Users/Mark/opt/anaconda3/lib/python3.7/site-packages/sklearn/metrics/_classification.py:1272: UndefinedMetricWarning: Precision and F-score are ill-defined and being set to 0.0 in labels with no predicted samples. Use `zero_division` parameter to control this behavior.\n",
      "  _warn_prf(average, modifier, msg_start, len(result))\n"
     ]
    },
    {
     "name": "stdout",
     "output_type": "stream",
     "text": [
      "                   precision    recall  f1-score   support\n",
      "\n",
      "          B-ACTOR       0.89      0.93      0.91       812\n",
      "      B-CHARACTER       0.79      0.51      0.62        90\n",
      "       B-DIRECTOR       0.92      0.82      0.87       456\n",
      "          B-GENRE       0.93      0.96      0.94      1117\n",
      "           B-PLOT       0.73      0.65      0.69       491\n",
      "         B-RATING       0.98      0.97      0.97       500\n",
      "B-RATINGS_AVERAGE       0.93      0.88      0.91       451\n",
      "         B-REVIEW       0.43      0.11      0.17        56\n",
      "           B-SONG       0.82      0.52      0.64        54\n",
      "          B-TITLE       0.81      0.82      0.82       562\n",
      "        B-TRAILER       0.79      0.77      0.78        30\n",
      "           B-YEAR       0.96      0.94      0.95       720\n",
      "          I-ACTOR       0.88      0.94      0.91       862\n",
      "      I-CHARACTER       0.68      0.40      0.50        75\n",
      "       I-DIRECTOR       0.92      0.83      0.87       496\n",
      "          I-GENRE       0.87      0.72      0.79       222\n",
      "           I-PLOT       0.69      0.56      0.62       496\n",
      "         I-RATING       0.95      0.88      0.91       226\n",
      "I-RATINGS_AVERAGE       0.89      0.88      0.88       403\n",
      "         I-REVIEW       0.33      0.09      0.14        45\n",
      "           I-SONG       0.98      0.54      0.70       119\n",
      "          I-TITLE       0.81      0.90      0.85       856\n",
      "        I-TRAILER       0.00      0.00      0.00         8\n",
      "           I-YEAR       0.97      0.97      0.97       610\n",
      "                O       0.95      0.97      0.96     14929\n",
      "\n",
      "         accuracy                           0.93     24686\n",
      "        macro avg       0.80      0.70      0.73     24686\n",
      "     weighted avg       0.92      0.93      0.92     24686\n",
      "\n"
     ]
    }
   ],
   "source": [
    "print(classification_report(y_test, preds))"
   ]
  },
  {
   "cell_type": "code",
   "execution_count": 66,
   "metadata": {},
   "outputs": [
    {
     "data": {
      "text/html": [
       "<div>\n",
       "<style scoped>\n",
       "    .dataframe tbody tr th:only-of-type {\n",
       "        vertical-align: middle;\n",
       "    }\n",
       "\n",
       "    .dataframe tbody tr th {\n",
       "        vertical-align: top;\n",
       "    }\n",
       "\n",
       "    .dataframe thead th {\n",
       "        text-align: right;\n",
       "    }\n",
       "</style>\n",
       "<table border=\"1\" class=\"dataframe\">\n",
       "  <thead>\n",
       "    <tr style=\"text-align: right;\">\n",
       "      <th></th>\n",
       "      <th>f1-score</th>\n",
       "    </tr>\n",
       "  </thead>\n",
       "  <tbody>\n",
       "    <tr>\n",
       "      <th>macro avg</th>\n",
       "      <td>0.73463</td>\n",
       "    </tr>\n",
       "  </tbody>\n",
       "</table>\n",
       "</div>"
      ],
      "text/plain": [
       "           f1-score\n",
       "macro avg   0.73463"
      ]
     },
     "execution_count": 66,
     "metadata": {},
     "output_type": "execute_result"
    }
   ],
   "source": [
    "# Precise macro average f1-score\n",
    "pd.DataFrame(classification_report(y_test, preds, output_dict=True)).transpose().loc[['macro avg'],['f1-score']]"
   ]
  },
  {
   "cell_type": "code",
   "execution_count": null,
   "metadata": {},
   "outputs": [],
   "source": []
  },
  {
   "cell_type": "code",
   "execution_count": null,
   "metadata": {},
   "outputs": [],
   "source": []
  }
 ],
 "metadata": {
  "kernelspec": {
   "display_name": "Python 3",
   "language": "python",
   "name": "python3"
  },
  "language_info": {
   "codemirror_mode": {
    "name": "ipython",
    "version": 3
   },
   "file_extension": ".py",
   "mimetype": "text/x-python",
   "name": "python",
   "nbconvert_exporter": "python",
   "pygments_lexer": "ipython3",
   "version": "3.7.6"
  }
 },
 "nbformat": 4,
 "nbformat_minor": 2
}
